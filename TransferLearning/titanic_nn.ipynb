{
 "cells": [
  {
   "cell_type": "markdown",
   "metadata": {},
   "source": [
    "# Transfer learning appliqué à la dataset du titanic (Classification binaire)"
   ]
  },
  {
   "cell_type": "markdown",
   "metadata": {},
   "source": [
    "## Importer les données train et test du titanic"
   ]
  },
  {
   "cell_type": "code",
   "execution_count": 1,
   "metadata": {},
   "outputs": [
    {
     "name": "stdout",
     "output_type": "stream",
     "text": [
      "(889, 10)\n",
      "(417, 10)\n",
      "(889, 1)\n",
      "(417, 1)\n"
     ]
    }
   ],
   "source": [
    "%store -r X_train\n",
    "%store -r X_test\n",
    "%store -r y_train\n",
    "%store -r y_test\n",
    "print(X_train.shape)\n",
    "print(X_test.shape)\n",
    "print(y_train.shape)\n",
    "print(y_test.shape)"
   ]
  },
  {
   "cell_type": "markdown",
   "metadata": {},
   "source": [
    "## Importer l'architecture du modèle et les poids"
   ]
  },
  {
   "cell_type": "code",
   "execution_count": 2,
   "metadata": {},
   "outputs": [
    {
     "name": "stderr",
     "output_type": "stream",
     "text": [
      "Using TensorFlow backend.\n"
     ]
    },
    {
     "name": "stdout",
     "output_type": "stream",
     "text": [
      "Le modèle et les poids sont chargés\n"
     ]
    }
   ],
   "source": [
    "from keras.models import model_from_json\n",
    "\n",
    "# Charger le fichier json and créer le modèle\n",
    "json_file = open('model.json', 'r')\n",
    "loaded_model_json = json_file.read()\n",
    "json_file.close()\n",
    "loaded_model = model_from_json(loaded_model_json)\n",
    "# Charger les poids du modèle\n",
    "loaded_model.load_weights(\"model.h5\")\n",
    "print(\"Le modèle et les poids sont chargés\")"
   ]
  },
  {
   "cell_type": "markdown",
   "metadata": {},
   "source": [
    "## Ajouter une couche d'entrée et figer les poids du modèle entrainé"
   ]
  },
  {
   "cell_type": "code",
   "execution_count": 3,
   "metadata": {},
   "outputs": [],
   "source": [
    "from keras.layers import Input, Dense\n",
    "from keras.optimizers import Adam\n",
    "from keras.models import Model\n",
    "from keras.models import Sequential\n",
    "\n",
    "# Créer un modèle séquentiel avec une couche\n",
    "model = Sequential()\n",
    "model.add(Dense(63, input_dim=10, activation='relu', name='dense_0'))\n",
    "# Ajouter les couches du modèle entrainé\n",
    "for i in range(len(loaded_model.layers)):\n",
    "    model.add(loaded_model.layers[i])\n",
    "\n",
    "# Figer les poids du modèle entrainé\n",
    "for i in range(1,len(model.layers)):\n",
    "    model.layers[i].trainable = False\n",
    "\n",
    "# Compiler le modèle\n",
    "adam = Adam(lr=0.001)\n",
    "model.compile(optimizer=adam, loss='binary_crossentropy', metrics=['accuracy'])\n"
   ]
  },
  {
   "cell_type": "code",
   "execution_count": 4,
   "metadata": {},
   "outputs": [
    {
     "name": "stdout",
     "output_type": "stream",
     "text": [
      "Train on 711 samples, validate on 178 samples\n",
      "Epoch 1/100\n",
      "711/711 [==============================] - 0s 491us/step - loss: 3.5033 - acc: 0.3924 - val_loss: 2.6837 - val_acc: 0.3539\n",
      "Epoch 2/100\n",
      "711/711 [==============================] - 0s 46us/step - loss: 1.9835 - acc: 0.4149 - val_loss: 1.3588 - val_acc: 0.4045\n",
      "Epoch 3/100\n",
      "711/711 [==============================] - 0s 44us/step - loss: 1.0563 - acc: 0.5274 - val_loss: 0.6796 - val_acc: 0.6517\n",
      "Epoch 4/100\n",
      "711/711 [==============================] - 0s 44us/step - loss: 0.7063 - acc: 0.6610 - val_loss: 0.5165 - val_acc: 0.7809\n",
      "Epoch 5/100\n",
      "711/711 [==============================] - 0s 45us/step - loss: 0.5889 - acc: 0.7314 - val_loss: 0.4536 - val_acc: 0.8202\n",
      "Epoch 6/100\n",
      "711/711 [==============================] - 0s 46us/step - loss: 0.5436 - acc: 0.7665 - val_loss: 0.4336 - val_acc: 0.8202\n",
      "Epoch 7/100\n",
      "711/711 [==============================] - 0s 46us/step - loss: 0.5584 - acc: 0.7595 - val_loss: 0.4185 - val_acc: 0.8258\n",
      "Epoch 8/100\n",
      "711/711 [==============================] - 0s 54us/step - loss: 0.5485 - acc: 0.7651 - val_loss: 0.4082 - val_acc: 0.8258\n",
      "Epoch 9/100\n",
      "711/711 [==============================] - 0s 54us/step - loss: 0.5284 - acc: 0.7525 - val_loss: 0.4055 - val_acc: 0.8258\n",
      "Epoch 10/100\n",
      "711/711 [==============================] - 0s 49us/step - loss: 0.5072 - acc: 0.7778 - val_loss: 0.4019 - val_acc: 0.8258\n",
      "Epoch 11/100\n",
      "711/711 [==============================] - 0s 52us/step - loss: 0.5038 - acc: 0.7637 - val_loss: 0.3979 - val_acc: 0.8427\n",
      "Epoch 12/100\n",
      "711/711 [==============================] - 0s 49us/step - loss: 0.4963 - acc: 0.7806 - val_loss: 0.3969 - val_acc: 0.8371\n",
      "Epoch 13/100\n",
      "711/711 [==============================] - 0s 60us/step - loss: 0.5047 - acc: 0.7778 - val_loss: 0.3956 - val_acc: 0.8371\n",
      "Epoch 14/100\n",
      "711/711 [==============================] - 0s 51us/step - loss: 0.5000 - acc: 0.7778 - val_loss: 0.3930 - val_acc: 0.8427\n",
      "Epoch 15/100\n",
      "711/711 [==============================] - 0s 57us/step - loss: 0.4751 - acc: 0.8003 - val_loss: 0.3898 - val_acc: 0.8427\n",
      "Epoch 16/100\n",
      "711/711 [==============================] - 0s 45us/step - loss: 0.4816 - acc: 0.7862 - val_loss: 0.3890 - val_acc: 0.8427\n",
      "Epoch 17/100\n",
      "711/711 [==============================] - 0s 40us/step - loss: 0.4682 - acc: 0.7848 - val_loss: 0.3892 - val_acc: 0.8427\n",
      "Epoch 18/100\n",
      "711/711 [==============================] - 0s 45us/step - loss: 0.4677 - acc: 0.8003 - val_loss: 0.3875 - val_acc: 0.8483\n",
      "Epoch 19/100\n",
      "711/711 [==============================] - 0s 45us/step - loss: 0.4643 - acc: 0.7989 - val_loss: 0.3841 - val_acc: 0.8427\n",
      "Epoch 20/100\n",
      "711/711 [==============================] - 0s 48us/step - loss: 0.4862 - acc: 0.7806 - val_loss: 0.3833 - val_acc: 0.8427\n",
      "Epoch 21/100\n",
      "711/711 [==============================] - 0s 42us/step - loss: 0.4684 - acc: 0.7918 - val_loss: 0.3842 - val_acc: 0.8483\n",
      "Epoch 22/100\n",
      "711/711 [==============================] - 0s 53us/step - loss: 0.4639 - acc: 0.7932 - val_loss: 0.3822 - val_acc: 0.8483\n",
      "Epoch 23/100\n",
      "711/711 [==============================] - 0s 52us/step - loss: 0.4727 - acc: 0.7890 - val_loss: 0.3812 - val_acc: 0.8427\n",
      "Epoch 24/100\n",
      "711/711 [==============================] - 0s 54us/step - loss: 0.4703 - acc: 0.7890 - val_loss: 0.3824 - val_acc: 0.8483\n",
      "Epoch 25/100\n",
      "711/711 [==============================] - 0s 45us/step - loss: 0.4438 - acc: 0.8087 - val_loss: 0.3817 - val_acc: 0.8427\n",
      "Epoch 26/100\n",
      "711/711 [==============================] - 0s 44us/step - loss: 0.4691 - acc: 0.7848 - val_loss: 0.3817 - val_acc: 0.8427\n",
      "Epoch 27/100\n",
      "711/711 [==============================] - 0s 46us/step - loss: 0.4651 - acc: 0.7918 - val_loss: 0.3811 - val_acc: 0.8315\n",
      "Epoch 28/100\n",
      "711/711 [==============================] - 0s 46us/step - loss: 0.4588 - acc: 0.7975 - val_loss: 0.3806 - val_acc: 0.8315\n",
      "Epoch 29/100\n",
      "711/711 [==============================] - 0s 46us/step - loss: 0.4678 - acc: 0.8059 - val_loss: 0.3815 - val_acc: 0.8371\n",
      "Epoch 30/100\n",
      "711/711 [==============================] - 0s 45us/step - loss: 0.4724 - acc: 0.8003 - val_loss: 0.3768 - val_acc: 0.8315\n",
      "Epoch 31/100\n",
      "711/711 [==============================] - 0s 49us/step - loss: 0.4526 - acc: 0.8129 - val_loss: 0.3784 - val_acc: 0.8427\n",
      "Epoch 32/100\n",
      "711/711 [==============================] - 0s 47us/step - loss: 0.4509 - acc: 0.8073 - val_loss: 0.3785 - val_acc: 0.8371\n",
      "Epoch 33/100\n",
      "711/711 [==============================] - 0s 42us/step - loss: 0.4489 - acc: 0.8059 - val_loss: 0.3727 - val_acc: 0.8371\n",
      "Epoch 34/100\n",
      "711/711 [==============================] - 0s 44us/step - loss: 0.4552 - acc: 0.8073 - val_loss: 0.3739 - val_acc: 0.8371\n",
      "Epoch 35/100\n",
      "711/711 [==============================] - 0s 52us/step - loss: 0.4526 - acc: 0.8045 - val_loss: 0.3746 - val_acc: 0.8371\n",
      "Epoch 36/100\n",
      "711/711 [==============================] - 0s 67us/step - loss: 0.4489 - acc: 0.8045 - val_loss: 0.3733 - val_acc: 0.8258\n",
      "Epoch 37/100\n",
      "711/711 [==============================] - 0s 80us/step - loss: 0.4526 - acc: 0.8045 - val_loss: 0.3742 - val_acc: 0.8315\n",
      "Epoch 38/100\n",
      "711/711 [==============================] - 0s 89us/step - loss: 0.4505 - acc: 0.8031 - val_loss: 0.3737 - val_acc: 0.8315\n",
      "Epoch 39/100\n",
      "711/711 [==============================] - 0s 87us/step - loss: 0.4547 - acc: 0.7975 - val_loss: 0.3721 - val_acc: 0.8315\n",
      "Epoch 40/100\n",
      "711/711 [==============================] - 0s 73us/step - loss: 0.4406 - acc: 0.8143 - val_loss: 0.3709 - val_acc: 0.8371\n",
      "Epoch 41/100\n",
      "711/711 [==============================] - 0s 81us/step - loss: 0.4406 - acc: 0.8073 - val_loss: 0.3712 - val_acc: 0.8371\n",
      "Epoch 42/100\n",
      "711/711 [==============================] - 0s 90us/step - loss: 0.4585 - acc: 0.8017 - val_loss: 0.3709 - val_acc: 0.8315\n",
      "Epoch 43/100\n",
      "711/711 [==============================] - 0s 82us/step - loss: 0.4506 - acc: 0.7961 - val_loss: 0.3687 - val_acc: 0.8371\n",
      "Epoch 44/100\n",
      "711/711 [==============================] - 0s 61us/step - loss: 0.4456 - acc: 0.7989 - val_loss: 0.3681 - val_acc: 0.8427\n",
      "Epoch 45/100\n",
      "711/711 [==============================] - 0s 43us/step - loss: 0.4424 - acc: 0.8073 - val_loss: 0.3676 - val_acc: 0.8371\n",
      "Epoch 46/100\n",
      "711/711 [==============================] - 0s 60us/step - loss: 0.4391 - acc: 0.8143 - val_loss: 0.3721 - val_acc: 0.8483\n",
      "Epoch 47/100\n",
      "711/711 [==============================] - 0s 56us/step - loss: 0.4425 - acc: 0.8073 - val_loss: 0.3659 - val_acc: 0.8427\n",
      "Epoch 48/100\n",
      "711/711 [==============================] - 0s 64us/step - loss: 0.4515 - acc: 0.8087 - val_loss: 0.3706 - val_acc: 0.8202\n",
      "Epoch 49/100\n",
      "711/711 [==============================] - 0s 64us/step - loss: 0.4408 - acc: 0.8045 - val_loss: 0.3703 - val_acc: 0.8315\n",
      "Epoch 50/100\n",
      "711/711 [==============================] - 0s 67us/step - loss: 0.4502 - acc: 0.8017 - val_loss: 0.3628 - val_acc: 0.8483\n",
      "Epoch 51/100\n",
      "711/711 [==============================] - 0s 67us/step - loss: 0.4357 - acc: 0.8059 - val_loss: 0.3642 - val_acc: 0.8483\n",
      "Epoch 52/100\n",
      "711/711 [==============================] - 0s 64us/step - loss: 0.4334 - acc: 0.8115 - val_loss: 0.3725 - val_acc: 0.8202\n",
      "Epoch 53/100\n",
      "711/711 [==============================] - 0s 61us/step - loss: 0.4489 - acc: 0.7989 - val_loss: 0.3718 - val_acc: 0.8258\n",
      "Epoch 54/100\n",
      "711/711 [==============================] - 0s 64us/step - loss: 0.4343 - acc: 0.8172 - val_loss: 0.3673 - val_acc: 0.8483\n",
      "Epoch 55/100\n",
      "711/711 [==============================] - 0s 61us/step - loss: 0.4398 - acc: 0.8087 - val_loss: 0.3649 - val_acc: 0.8483\n",
      "Epoch 56/100\n",
      "711/711 [==============================] - 0s 62us/step - loss: 0.4394 - acc: 0.8115 - val_loss: 0.3663 - val_acc: 0.8258\n",
      "Epoch 57/100\n",
      "711/711 [==============================] - 0s 55us/step - loss: 0.4409 - acc: 0.8172 - val_loss: 0.3644 - val_acc: 0.8427\n",
      "Epoch 58/100\n",
      "711/711 [==============================] - 0s 59us/step - loss: 0.4437 - acc: 0.8031 - val_loss: 0.3683 - val_acc: 0.8371\n",
      "Epoch 59/100\n",
      "711/711 [==============================] - 0s 59us/step - loss: 0.4367 - acc: 0.8158 - val_loss: 0.3680 - val_acc: 0.8371\n",
      "Epoch 60/100\n",
      "711/711 [==============================] - 0s 77us/step - loss: 0.4436 - acc: 0.8129 - val_loss: 0.3636 - val_acc: 0.8427\n",
      "Epoch 61/100\n"
     ]
    },
    {
     "name": "stdout",
     "output_type": "stream",
     "text": [
      "711/711 [==============================] - 0s 56us/step - loss: 0.4461 - acc: 0.8115 - val_loss: 0.3624 - val_acc: 0.8483\n",
      "Epoch 62/100\n",
      "711/711 [==============================] - 0s 48us/step - loss: 0.4347 - acc: 0.8143 - val_loss: 0.3690 - val_acc: 0.8427\n",
      "Epoch 63/100\n",
      "711/711 [==============================] - 0s 39us/step - loss: 0.4453 - acc: 0.8101 - val_loss: 0.3643 - val_acc: 0.8539\n",
      "Epoch 64/100\n",
      "711/711 [==============================] - 0s 38us/step - loss: 0.4463 - acc: 0.8158 - val_loss: 0.3609 - val_acc: 0.8483\n",
      "Epoch 65/100\n",
      "711/711 [==============================] - 0s 37us/step - loss: 0.4262 - acc: 0.8214 - val_loss: 0.3623 - val_acc: 0.8652\n",
      "Epoch 66/100\n",
      "711/711 [==============================] - 0s 38us/step - loss: 0.4356 - acc: 0.8186 - val_loss: 0.3617 - val_acc: 0.8652\n",
      "Epoch 67/100\n",
      "711/711 [==============================] - 0s 39us/step - loss: 0.4509 - acc: 0.8158 - val_loss: 0.3624 - val_acc: 0.8596\n",
      "Epoch 68/100\n",
      "711/711 [==============================] - 0s 39us/step - loss: 0.4312 - acc: 0.8172 - val_loss: 0.3650 - val_acc: 0.8596\n",
      "Epoch 69/100\n",
      "711/711 [==============================] - 0s 37us/step - loss: 0.4341 - acc: 0.8172 - val_loss: 0.3624 - val_acc: 0.8652\n",
      "Epoch 70/100\n",
      "711/711 [==============================] - 0s 36us/step - loss: 0.4326 - acc: 0.8087 - val_loss: 0.3622 - val_acc: 0.8652\n",
      "Epoch 71/100\n",
      "711/711 [==============================] - 0s 40us/step - loss: 0.4379 - acc: 0.8200 - val_loss: 0.3611 - val_acc: 0.8539\n",
      "Epoch 72/100\n",
      "711/711 [==============================] - 0s 38us/step - loss: 0.4298 - acc: 0.8129 - val_loss: 0.3619 - val_acc: 0.8483\n",
      "Epoch 73/100\n",
      "711/711 [==============================] - 0s 36us/step - loss: 0.4211 - acc: 0.8242 - val_loss: 0.3652 - val_acc: 0.8539\n",
      "Epoch 74/100\n",
      "711/711 [==============================] - 0s 42us/step - loss: 0.4400 - acc: 0.8172 - val_loss: 0.3586 - val_acc: 0.8539\n",
      "Epoch 75/100\n",
      "711/711 [==============================] - 0s 38us/step - loss: 0.4310 - acc: 0.8186 - val_loss: 0.3606 - val_acc: 0.8483\n",
      "Epoch 76/100\n",
      "711/711 [==============================] - 0s 35us/step - loss: 0.4307 - acc: 0.8115 - val_loss: 0.3614 - val_acc: 0.8483\n",
      "Epoch 77/100\n",
      "711/711 [==============================] - 0s 40us/step - loss: 0.4234 - acc: 0.8172 - val_loss: 0.3576 - val_acc: 0.8539\n",
      "Epoch 78/100\n",
      "711/711 [==============================] - 0s 37us/step - loss: 0.4451 - acc: 0.8115 - val_loss: 0.3627 - val_acc: 0.8371\n",
      "Epoch 79/100\n",
      "711/711 [==============================] - 0s 44us/step - loss: 0.4280 - acc: 0.8087 - val_loss: 0.3609 - val_acc: 0.8539\n",
      "Epoch 80/100\n",
      "711/711 [==============================] - 0s 39us/step - loss: 0.4228 - acc: 0.8158 - val_loss: 0.3593 - val_acc: 0.8539\n",
      "Epoch 81/100\n",
      "711/711 [==============================] - 0s 42us/step - loss: 0.4474 - acc: 0.8129 - val_loss: 0.3590 - val_acc: 0.8652\n",
      "Epoch 82/100\n",
      "711/711 [==============================] - 0s 39us/step - loss: 0.4314 - acc: 0.8031 - val_loss: 0.3658 - val_acc: 0.8483\n",
      "Epoch 83/100\n",
      "711/711 [==============================] - 0s 38us/step - loss: 0.4314 - acc: 0.8186 - val_loss: 0.3567 - val_acc: 0.8596\n",
      "Epoch 84/100\n",
      "711/711 [==============================] - 0s 37us/step - loss: 0.4307 - acc: 0.8143 - val_loss: 0.3566 - val_acc: 0.8539\n",
      "Epoch 85/100\n",
      "711/711 [==============================] - 0s 41us/step - loss: 0.4330 - acc: 0.8031 - val_loss: 0.3640 - val_acc: 0.8427\n",
      "Epoch 86/100\n",
      "711/711 [==============================] - 0s 37us/step - loss: 0.4405 - acc: 0.8200 - val_loss: 0.3605 - val_acc: 0.8427\n",
      "Epoch 87/100\n",
      "711/711 [==============================] - 0s 39us/step - loss: 0.4308 - acc: 0.8186 - val_loss: 0.3564 - val_acc: 0.8483\n",
      "Epoch 88/100\n",
      "711/711 [==============================] - 0s 40us/step - loss: 0.4316 - acc: 0.8284 - val_loss: 0.3567 - val_acc: 0.8539\n",
      "Epoch 89/100\n",
      "711/711 [==============================] - 0s 41us/step - loss: 0.4271 - acc: 0.8186 - val_loss: 0.3595 - val_acc: 0.8427\n",
      "Epoch 90/100\n",
      "711/711 [==============================] - 0s 40us/step - loss: 0.4273 - acc: 0.8256 - val_loss: 0.3629 - val_acc: 0.8483\n",
      "Epoch 91/100\n",
      "711/711 [==============================] - 0s 37us/step - loss: 0.4255 - acc: 0.8214 - val_loss: 0.3590 - val_acc: 0.8539\n",
      "Epoch 92/100\n",
      "711/711 [==============================] - 0s 39us/step - loss: 0.4299 - acc: 0.8172 - val_loss: 0.3584 - val_acc: 0.8539\n",
      "Epoch 93/100\n",
      "711/711 [==============================] - 0s 40us/step - loss: 0.4290 - acc: 0.8242 - val_loss: 0.3597 - val_acc: 0.8427\n",
      "Epoch 94/100\n",
      "711/711 [==============================] - 0s 37us/step - loss: 0.4311 - acc: 0.8256 - val_loss: 0.3565 - val_acc: 0.8483\n",
      "Epoch 95/100\n",
      "711/711 [==============================] - 0s 38us/step - loss: 0.4194 - acc: 0.8298 - val_loss: 0.3563 - val_acc: 0.8652\n",
      "Epoch 96/100\n",
      "711/711 [==============================] - 0s 41us/step - loss: 0.4288 - acc: 0.8143 - val_loss: 0.3616 - val_acc: 0.8483\n",
      "Epoch 97/100\n",
      "711/711 [==============================] - 0s 41us/step - loss: 0.4314 - acc: 0.8284 - val_loss: 0.3593 - val_acc: 0.8539\n",
      "Epoch 98/100\n",
      "711/711 [==============================] - 0s 34us/step - loss: 0.4268 - acc: 0.8186 - val_loss: 0.3583 - val_acc: 0.8539\n",
      "Epoch 99/100\n",
      "711/711 [==============================] - 0s 40us/step - loss: 0.4274 - acc: 0.8172 - val_loss: 0.3619 - val_acc: 0.8483\n",
      "Epoch 100/100\n",
      "711/711 [==============================] - 0s 41us/step - loss: 0.4368 - acc: 0.8129 - val_loss: 0.3546 - val_acc: 0.8539\n"
     ]
    }
   ],
   "source": [
    "# Entrainer le modèle\n",
    "history = model.fit(X_train, y_train, validation_split=0.20, batch_size=50, epochs=100)"
   ]
  },
  {
   "cell_type": "code",
   "execution_count": 5,
   "metadata": {},
   "outputs": [
    {
     "name": "stdout",
     "output_type": "stream",
     "text": [
      "_________________________________________________________________\n",
      "Layer (type)                 Output Shape              Param #   \n",
      "=================================================================\n",
      "dense_0 (Dense)              (None, 63)                693       \n",
      "_________________________________________________________________\n",
      "dense_1 (Dense)              (None, 32)                2048      \n",
      "_________________________________________________________________\n",
      "dropout_1 (Dropout)          (None, 32)                0         \n",
      "_________________________________________________________________\n",
      "dense_2 (Dense)              (None, 20)                660       \n",
      "_________________________________________________________________\n",
      "dropout_2 (Dropout)          (None, 20)                0         \n",
      "_________________________________________________________________\n",
      "dense_3 (Dense)              (None, 16)                336       \n",
      "_________________________________________________________________\n",
      "dense_4 (Dense)              (None, 1)                 17        \n",
      "=================================================================\n",
      "Total params: 3,754\n",
      "Trainable params: 693\n",
      "Non-trainable params: 3,061\n",
      "_________________________________________________________________\n"
     ]
    }
   ],
   "source": [
    "model.summary()"
   ]
  },
  {
   "cell_type": "code",
   "execution_count": 6,
   "metadata": {},
   "outputs": [
    {
     "name": "stdout",
     "output_type": "stream",
     "text": [
      "417/417 [==============================] - 0s 49us/step\n"
     ]
    },
    {
     "data": {
      "text/plain": [
       "[0.27948392162934765, 0.8920863309352518]"
      ]
     },
     "execution_count": 6,
     "metadata": {},
     "output_type": "execute_result"
    }
   ],
   "source": [
    "model.evaluate(X_test, y_test) # fonction d'erreur (binary cross entropy) + Accuracy"
   ]
  },
  {
   "cell_type": "code",
   "execution_count": 7,
   "metadata": {},
   "outputs": [
    {
     "data": {
      "text/plain": [
       "<Figure size 640x480 with 2 Axes>"
      ]
     },
     "metadata": {},
     "output_type": "display_data"
    }
   ],
   "source": [
    "from matplotlib import pyplot\n",
    "\n",
    "# Tracer la courbe d'erreur pendant l'apprentissage\n",
    "pyplot.subplot(211)\n",
    "pyplot.title('Loss')\n",
    "pyplot.plot(history.history['loss'], label='train')\n",
    "pyplot.plot(history.history['val_loss'], label='validation')\n",
    "pyplot.legend()\n",
    "# Tracer la courbe de la précision pendant l'apprentissage\n",
    "pyplot.subplot(212)\n",
    "pyplot.title('Accuracy')\n",
    "pyplot.plot(history.history['acc'], label='train')\n",
    "pyplot.plot(history.history['val_acc'], label='validation')\n",
    "pyplot.legend()\n",
    "pyplot.show()"
   ]
  },
  {
   "cell_type": "code",
   "execution_count": 8,
   "metadata": {},
   "outputs": [
    {
     "name": "stdout",
     "output_type": "stream",
     "text": [
      "La matrice de confusion:\n",
      " [[252  13]\n",
      " [ 32 120]]\n"
     ]
    }
   ],
   "source": [
    "import numpy as np\n",
    "from sklearn.metrics import confusion_matrix\n",
    "\n",
    "# La matrice de confusion\n",
    "print(\"La matrice de confusion:\\n {}\".format(confusion_matrix(y_test, model.predict_classes(X_test))))"
   ]
  },
  {
   "cell_type": "code",
   "execution_count": 9,
   "metadata": {},
   "outputs": [
    {
     "name": "stdout",
     "output_type": "stream",
     "text": [
      "Saved model to disk\n"
     ]
    }
   ],
   "source": [
    "# enregistrer le modèle en format JSON\n",
    "model_json = model.to_json()\n",
    "with open(\"model_titanic.json\", \"w\") as json_file:\n",
    "    json_file.write(model_json)\n",
    "# enregistrer les poids en format HDF5\n",
    "model.save_weights(\"model_titanic.h5\")\n",
    "print(\"Saved model to disk\")"
   ]
  }
 ],
 "metadata": {
  "kernelspec": {
   "display_name": "Python 3",
   "language": "python",
   "name": "python3"
  },
  "language_info": {
   "codemirror_mode": {
    "name": "ipython",
    "version": 3
   },
   "file_extension": ".py",
   "mimetype": "text/x-python",
   "name": "python",
   "nbconvert_exporter": "python",
   "pygments_lexer": "ipython3",
   "version": "3.6.5"
  }
 },
 "nbformat": 4,
 "nbformat_minor": 2
}
