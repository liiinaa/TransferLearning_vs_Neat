{
 "cells": [
  {
   "cell_type": "markdown",
   "metadata": {},
   "source": [
    "# Transfer learning appliqué à la dataset du titanic (Classification binaire)"
   ]
  },
  {
   "cell_type": "markdown",
   "metadata": {},
   "source": [
    "## Importer les données train et test du titanic"
   ]
  },
  {
   "cell_type": "code",
   "execution_count": 1,
   "metadata": {},
   "outputs": [
    {
     "name": "stdout",
     "output_type": "stream",
     "text": [
      "(889, 10)\n",
      "(417, 10)\n",
      "(889, 1)\n",
      "(417, 1)\n"
     ]
    }
   ],
   "source": [
    "%store -r X_train\n",
    "%store -r X_test\n",
    "%store -r y_train\n",
    "%store -r y_test\n",
    "print(X_train.shape)\n",
    "print(X_test.shape)\n",
    "print(y_train.shape)\n",
    "print(y_test.shape)"
   ]
  },
  {
   "cell_type": "markdown",
   "metadata": {},
   "source": [
    "## Importer l'architecture du modèle et les poids"
   ]
  },
  {
   "cell_type": "code",
   "execution_count": 2,
   "metadata": {},
   "outputs": [
    {
     "name": "stderr",
     "output_type": "stream",
     "text": [
      "Using TensorFlow backend.\n"
     ]
    },
    {
     "name": "stdout",
     "output_type": "stream",
     "text": [
      "Le modèle et les poids sont chargés\n"
     ]
    }
   ],
   "source": [
    "from keras.models import model_from_json\n",
    "\n",
    "# Charger le fichier json and créer le modèle\n",
    "json_file = open('model.json', 'r')\n",
    "loaded_model_json = json_file.read()\n",
    "json_file.close()\n",
    "loaded_model = model_from_json(loaded_model_json)\n",
    "# Charger les poids du modèle\n",
    "loaded_model.load_weights(\"model.h5\")\n",
    "print(\"Le modèle et les poids sont chargés\")"
   ]
  },
  {
   "cell_type": "markdown",
   "metadata": {},
   "source": [
    "## Transformer la dernière couche en couche modifiable"
   ]
  },
  {
   "cell_type": "code",
   "execution_count": 3,
   "metadata": {},
   "outputs": [
    {
     "name": "stdout",
     "output_type": "stream",
     "text": [
      "6\n"
     ]
    }
   ],
   "source": [
    "from keras.layers import Input\n",
    "from keras.optimizers import Adam\n",
    "\n",
    "print(len(loaded_model.layers))\n",
    "\n",
    "freezing_layers = 2\n",
    "for i in range(0,freezing_layers):\n",
    "    loaded_model.layers[i].trainable = False\n",
    "adam = Adam(lr=0.001)\n",
    "loaded_model.compile(optimizer=adam, loss='binary_crossentropy', metrics=['accuracy'])"
   ]
  },
  {
   "cell_type": "code",
   "execution_count": 4,
   "metadata": {},
   "outputs": [
    {
     "name": "stdout",
     "output_type": "stream",
     "text": [
      "Train on 711 samples, validate on 178 samples\n",
      "Epoch 1/100\n",
      "711/711 [==============================] - 0s 596us/step - loss: 0.6250 - acc: 0.6906 - val_loss: 0.5828 - val_acc: 0.7809\n",
      "Epoch 2/100\n",
      "711/711 [==============================] - 0s 76us/step - loss: 0.6119 - acc: 0.6990 - val_loss: 0.5598 - val_acc: 0.8202\n",
      "Epoch 3/100\n",
      "711/711 [==============================] - 0s 61us/step - loss: 0.5891 - acc: 0.7173 - val_loss: 0.5344 - val_acc: 0.8146\n",
      "Epoch 4/100\n",
      "711/711 [==============================] - 0s 60us/step - loss: 0.5704 - acc: 0.7454 - val_loss: 0.5105 - val_acc: 0.8090\n",
      "Epoch 5/100\n",
      "711/711 [==============================] - 0s 48us/step - loss: 0.5570 - acc: 0.7243 - val_loss: 0.4872 - val_acc: 0.8202\n",
      "Epoch 6/100\n",
      "711/711 [==============================] - 0s 55us/step - loss: 0.5455 - acc: 0.7426 - val_loss: 0.4734 - val_acc: 0.8202\n",
      "Epoch 7/100\n",
      "711/711 [==============================] - 0s 47us/step - loss: 0.5413 - acc: 0.7511 - val_loss: 0.4610 - val_acc: 0.8090\n",
      "Epoch 8/100\n",
      "711/711 [==============================] - 0s 55us/step - loss: 0.5208 - acc: 0.7722 - val_loss: 0.4524 - val_acc: 0.8090\n",
      "Epoch 9/100\n",
      "711/711 [==============================] - 0s 48us/step - loss: 0.5275 - acc: 0.7511 - val_loss: 0.4484 - val_acc: 0.8202\n",
      "Epoch 10/100\n",
      "711/711 [==============================] - 0s 49us/step - loss: 0.5057 - acc: 0.7764 - val_loss: 0.4443 - val_acc: 0.8090\n",
      "Epoch 11/100\n",
      "711/711 [==============================] - 0s 48us/step - loss: 0.5107 - acc: 0.7637 - val_loss: 0.4410 - val_acc: 0.8090\n",
      "Epoch 12/100\n",
      "711/711 [==============================] - 0s 48us/step - loss: 0.5102 - acc: 0.7792 - val_loss: 0.4400 - val_acc: 0.8090\n",
      "Epoch 13/100\n",
      "711/711 [==============================] - 0s 58us/step - loss: 0.5152 - acc: 0.7722 - val_loss: 0.4383 - val_acc: 0.8090\n",
      "Epoch 14/100\n",
      "711/711 [==============================] - 0s 48us/step - loss: 0.5028 - acc: 0.7792 - val_loss: 0.4363 - val_acc: 0.8090\n",
      "Epoch 15/100\n",
      "711/711 [==============================] - 0s 48us/step - loss: 0.5132 - acc: 0.7651 - val_loss: 0.4358 - val_acc: 0.8090\n",
      "Epoch 16/100\n",
      "711/711 [==============================] - 0s 47us/step - loss: 0.4973 - acc: 0.7862 - val_loss: 0.4342 - val_acc: 0.8090\n",
      "Epoch 17/100\n",
      "711/711 [==============================] - 0s 48us/step - loss: 0.5134 - acc: 0.7679 - val_loss: 0.4329 - val_acc: 0.8090\n",
      "Epoch 18/100\n",
      "711/711 [==============================] - 0s 47us/step - loss: 0.5044 - acc: 0.7834 - val_loss: 0.4313 - val_acc: 0.8090\n",
      "Epoch 19/100\n",
      "711/711 [==============================] - 0s 48us/step - loss: 0.5064 - acc: 0.7722 - val_loss: 0.4318 - val_acc: 0.8258\n",
      "Epoch 20/100\n",
      "711/711 [==============================] - 0s 58us/step - loss: 0.4897 - acc: 0.7876 - val_loss: 0.4296 - val_acc: 0.8258\n",
      "Epoch 21/100\n",
      "711/711 [==============================] - 0s 47us/step - loss: 0.4933 - acc: 0.7764 - val_loss: 0.4264 - val_acc: 0.8202\n",
      "Epoch 22/100\n",
      "711/711 [==============================] - 0s 50us/step - loss: 0.4837 - acc: 0.7890 - val_loss: 0.4241 - val_acc: 0.8090\n",
      "Epoch 23/100\n",
      "711/711 [==============================] - 0s 46us/step - loss: 0.4798 - acc: 0.7862 - val_loss: 0.4211 - val_acc: 0.8202\n",
      "Epoch 24/100\n",
      "711/711 [==============================] - 0s 47us/step - loss: 0.5110 - acc: 0.7707 - val_loss: 0.4213 - val_acc: 0.8202\n",
      "Epoch 25/100\n",
      "711/711 [==============================] - 0s 46us/step - loss: 0.4911 - acc: 0.7707 - val_loss: 0.4216 - val_acc: 0.8258\n",
      "Epoch 26/100\n",
      "711/711 [==============================] - 0s 50us/step - loss: 0.4883 - acc: 0.7806 - val_loss: 0.4193 - val_acc: 0.8258\n",
      "Epoch 27/100\n",
      "711/711 [==============================] - 0s 59us/step - loss: 0.4992 - acc: 0.7792 - val_loss: 0.4221 - val_acc: 0.8202\n",
      "Epoch 28/100\n",
      "711/711 [==============================] - 0s 47us/step - loss: 0.4981 - acc: 0.7764 - val_loss: 0.4206 - val_acc: 0.8315\n",
      "Epoch 29/100\n",
      "711/711 [==============================] - 0s 53us/step - loss: 0.4808 - acc: 0.7890 - val_loss: 0.4189 - val_acc: 0.8315\n",
      "Epoch 30/100\n",
      "711/711 [==============================] - 0s 48us/step - loss: 0.4791 - acc: 0.7932 - val_loss: 0.4165 - val_acc: 0.8315\n",
      "Epoch 31/100\n",
      "711/711 [==============================] - 0s 54us/step - loss: 0.4876 - acc: 0.7764 - val_loss: 0.4160 - val_acc: 0.8371\n",
      "Epoch 32/100\n",
      "711/711 [==============================] - 0s 47us/step - loss: 0.4836 - acc: 0.7778 - val_loss: 0.4167 - val_acc: 0.8371\n",
      "Epoch 33/100\n",
      "711/711 [==============================] - 0s 47us/step - loss: 0.4931 - acc: 0.7764 - val_loss: 0.4183 - val_acc: 0.8315\n",
      "Epoch 34/100\n",
      "711/711 [==============================] - 0s 52us/step - loss: 0.4941 - acc: 0.7820 - val_loss: 0.4174 - val_acc: 0.8315\n",
      "Epoch 35/100\n",
      "711/711 [==============================] - 0s 46us/step - loss: 0.4829 - acc: 0.7890 - val_loss: 0.4154 - val_acc: 0.8315\n",
      "Epoch 36/100\n",
      "711/711 [==============================] - 0s 50us/step - loss: 0.4838 - acc: 0.7820 - val_loss: 0.4147 - val_acc: 0.8371\n",
      "Epoch 37/100\n",
      "711/711 [==============================] - 0s 60us/step - loss: 0.4825 - acc: 0.7834 - val_loss: 0.4134 - val_acc: 0.8371\n",
      "Epoch 38/100\n",
      "711/711 [==============================] - 0s 55us/step - loss: 0.4804 - acc: 0.7932 - val_loss: 0.4142 - val_acc: 0.8371\n",
      "Epoch 39/100\n",
      "711/711 [==============================] - 0s 62us/step - loss: 0.4764 - acc: 0.7932 - val_loss: 0.4146 - val_acc: 0.8371\n",
      "Epoch 40/100\n",
      "711/711 [==============================] - 0s 62us/step - loss: 0.4953 - acc: 0.7792 - val_loss: 0.4146 - val_acc: 0.8371\n",
      "Epoch 41/100\n",
      "711/711 [==============================] - 0s 58us/step - loss: 0.4908 - acc: 0.7890 - val_loss: 0.4148 - val_acc: 0.8371\n",
      "Epoch 42/100\n",
      "711/711 [==============================] - 0s 60us/step - loss: 0.5091 - acc: 0.7679 - val_loss: 0.4170 - val_acc: 0.8371\n",
      "Epoch 43/100\n",
      "711/711 [==============================] - 0s 54us/step - loss: 0.4726 - acc: 0.7947 - val_loss: 0.4161 - val_acc: 0.8371\n",
      "Epoch 44/100\n",
      "711/711 [==============================] - 0s 58us/step - loss: 0.4841 - acc: 0.7820 - val_loss: 0.4135 - val_acc: 0.8315\n",
      "Epoch 45/100\n",
      "711/711 [==============================] - 0s 57us/step - loss: 0.4800 - acc: 0.7834 - val_loss: 0.4113 - val_acc: 0.8315\n",
      "Epoch 46/100\n",
      "711/711 [==============================] - 0s 62us/step - loss: 0.4933 - acc: 0.7764 - val_loss: 0.4113 - val_acc: 0.8371\n",
      "Epoch 47/100\n",
      "711/711 [==============================] - 0s 58us/step - loss: 0.4755 - acc: 0.7904 - val_loss: 0.4106 - val_acc: 0.8371\n",
      "Epoch 48/100\n",
      "711/711 [==============================] - 0s 58us/step - loss: 0.4922 - acc: 0.7806 - val_loss: 0.4106 - val_acc: 0.8258\n",
      "Epoch 49/100\n",
      "711/711 [==============================] - 0s 58us/step - loss: 0.4752 - acc: 0.8031 - val_loss: 0.4106 - val_acc: 0.8315\n",
      "Epoch 50/100\n",
      "711/711 [==============================] - 0s 64us/step - loss: 0.4717 - acc: 0.7989 - val_loss: 0.4093 - val_acc: 0.8315\n",
      "Epoch 51/100\n",
      "711/711 [==============================] - 0s 61us/step - loss: 0.4931 - acc: 0.7707 - val_loss: 0.4125 - val_acc: 0.8258\n",
      "Epoch 52/100\n",
      "711/711 [==============================] - 0s 55us/step - loss: 0.5007 - acc: 0.7764 - val_loss: 0.4123 - val_acc: 0.8371\n",
      "Epoch 53/100\n",
      "711/711 [==============================] - 0s 57us/step - loss: 0.4884 - acc: 0.7764 - val_loss: 0.4124 - val_acc: 0.8315\n",
      "Epoch 54/100\n",
      "711/711 [==============================] - 0s 56us/step - loss: 0.4847 - acc: 0.7862 - val_loss: 0.4132 - val_acc: 0.8371\n",
      "Epoch 55/100\n",
      "711/711 [==============================] - 0s 54us/step - loss: 0.4776 - acc: 0.7961 - val_loss: 0.4113 - val_acc: 0.8258\n",
      "Epoch 56/100\n",
      "711/711 [==============================] - 0s 69us/step - loss: 0.4667 - acc: 0.7961 - val_loss: 0.4116 - val_acc: 0.8258\n",
      "Epoch 57/100\n",
      "711/711 [==============================] - 0s 109us/step - loss: 0.4732 - acc: 0.7904 - val_loss: 0.4116 - val_acc: 0.8371\n",
      "Epoch 58/100\n",
      "711/711 [==============================] - 0s 81us/step - loss: 0.4641 - acc: 0.7961 - val_loss: 0.4083 - val_acc: 0.8258\n",
      "Epoch 59/100\n",
      "711/711 [==============================] - 0s 81us/step - loss: 0.4972 - acc: 0.7764 - val_loss: 0.4102 - val_acc: 0.8258\n",
      "Epoch 60/100\n",
      "711/711 [==============================] - 0s 88us/step - loss: 0.4842 - acc: 0.7904 - val_loss: 0.4088 - val_acc: 0.8315\n",
      "Epoch 61/100\n"
     ]
    },
    {
     "name": "stdout",
     "output_type": "stream",
     "text": [
      "711/711 [==============================] - 0s 89us/step - loss: 0.4625 - acc: 0.7975 - val_loss: 0.4093 - val_acc: 0.8371\n",
      "Epoch 62/100\n",
      "711/711 [==============================] - 0s 64us/step - loss: 0.4826 - acc: 0.7848 - val_loss: 0.4075 - val_acc: 0.8258\n",
      "Epoch 63/100\n",
      "711/711 [==============================] - 0s 49us/step - loss: 0.4779 - acc: 0.7820 - val_loss: 0.4071 - val_acc: 0.8315\n",
      "Epoch 64/100\n",
      "711/711 [==============================] - 0s 52us/step - loss: 0.4863 - acc: 0.7876 - val_loss: 0.4076 - val_acc: 0.8315\n",
      "Epoch 65/100\n",
      "711/711 [==============================] - 0s 49us/step - loss: 0.4675 - acc: 0.7820 - val_loss: 0.4080 - val_acc: 0.8258\n",
      "Epoch 66/100\n",
      "711/711 [==============================] - 0s 41us/step - loss: 0.4776 - acc: 0.7764 - val_loss: 0.4077 - val_acc: 0.8258\n",
      "Epoch 67/100\n",
      "711/711 [==============================] - 0s 64us/step - loss: 0.4764 - acc: 0.7947 - val_loss: 0.4094 - val_acc: 0.8258\n",
      "Epoch 68/100\n",
      "711/711 [==============================] - 0s 51us/step - loss: 0.4742 - acc: 0.7975 - val_loss: 0.4073 - val_acc: 0.8315\n",
      "Epoch 69/100\n",
      "711/711 [==============================] - 0s 44us/step - loss: 0.4849 - acc: 0.7890 - val_loss: 0.4096 - val_acc: 0.8315\n",
      "Epoch 70/100\n",
      "711/711 [==============================] - 0s 42us/step - loss: 0.4586 - acc: 0.8101 - val_loss: 0.4096 - val_acc: 0.8202\n",
      "Epoch 71/100\n",
      "711/711 [==============================] - 0s 40us/step - loss: 0.4729 - acc: 0.7876 - val_loss: 0.4095 - val_acc: 0.8202\n",
      "Epoch 72/100\n",
      "711/711 [==============================] - 0s 41us/step - loss: 0.4783 - acc: 0.7876 - val_loss: 0.4088 - val_acc: 0.8202\n",
      "Epoch 73/100\n",
      "711/711 [==============================] - 0s 38us/step - loss: 0.4702 - acc: 0.7918 - val_loss: 0.4097 - val_acc: 0.8202\n",
      "Epoch 74/100\n",
      "711/711 [==============================] - 0s 48us/step - loss: 0.4774 - acc: 0.7961 - val_loss: 0.4092 - val_acc: 0.8258\n",
      "Epoch 75/100\n",
      "711/711 [==============================] - 0s 39us/step - loss: 0.4680 - acc: 0.8017 - val_loss: 0.4087 - val_acc: 0.8315\n",
      "Epoch 76/100\n",
      "711/711 [==============================] - 0s 39us/step - loss: 0.4867 - acc: 0.7862 - val_loss: 0.4078 - val_acc: 0.8315\n",
      "Epoch 77/100\n",
      "711/711 [==============================] - 0s 35us/step - loss: 0.4820 - acc: 0.7862 - val_loss: 0.4069 - val_acc: 0.8315\n",
      "Epoch 78/100\n",
      "711/711 [==============================] - 0s 47us/step - loss: 0.4795 - acc: 0.7806 - val_loss: 0.4080 - val_acc: 0.8315\n",
      "Epoch 79/100\n",
      "711/711 [==============================] - 0s 40us/step - loss: 0.4756 - acc: 0.7932 - val_loss: 0.4074 - val_acc: 0.8258\n",
      "Epoch 80/100\n",
      "711/711 [==============================] - 0s 42us/step - loss: 0.4919 - acc: 0.7792 - val_loss: 0.4066 - val_acc: 0.8315\n",
      "Epoch 81/100\n",
      "711/711 [==============================] - 0s 40us/step - loss: 0.4856 - acc: 0.7806 - val_loss: 0.4088 - val_acc: 0.8202\n",
      "Epoch 82/100\n",
      "711/711 [==============================] - 0s 42us/step - loss: 0.4695 - acc: 0.7834 - val_loss: 0.4074 - val_acc: 0.8258\n",
      "Epoch 83/100\n",
      "711/711 [==============================] - 0s 48us/step - loss: 0.4719 - acc: 0.7932 - val_loss: 0.4075 - val_acc: 0.8258\n",
      "Epoch 84/100\n",
      "711/711 [==============================] - 0s 42us/step - loss: 0.4642 - acc: 0.7975 - val_loss: 0.4084 - val_acc: 0.8315\n",
      "Epoch 85/100\n",
      "711/711 [==============================] - 0s 42us/step - loss: 0.4793 - acc: 0.7904 - val_loss: 0.4074 - val_acc: 0.8315\n",
      "Epoch 86/100\n",
      "711/711 [==============================] - 0s 43us/step - loss: 0.4745 - acc: 0.7918 - val_loss: 0.4089 - val_acc: 0.8258\n",
      "Epoch 87/100\n",
      "711/711 [==============================] - 0s 40us/step - loss: 0.4699 - acc: 0.7904 - val_loss: 0.4081 - val_acc: 0.8315\n",
      "Epoch 88/100\n",
      "711/711 [==============================] - 0s 42us/step - loss: 0.4605 - acc: 0.7890 - val_loss: 0.4063 - val_acc: 0.8258\n",
      "Epoch 89/100\n",
      "711/711 [==============================] - 0s 41us/step - loss: 0.4836 - acc: 0.7961 - val_loss: 0.4072 - val_acc: 0.8315\n",
      "Epoch 90/100\n",
      "711/711 [==============================] - 0s 47us/step - loss: 0.4743 - acc: 0.7904 - val_loss: 0.4065 - val_acc: 0.8315\n",
      "Epoch 91/100\n",
      "711/711 [==============================] - 0s 40us/step - loss: 0.4796 - acc: 0.7750 - val_loss: 0.4061 - val_acc: 0.8315\n",
      "Epoch 92/100\n",
      "711/711 [==============================] - 0s 46us/step - loss: 0.4653 - acc: 0.7947 - val_loss: 0.4058 - val_acc: 0.8315\n",
      "Epoch 93/100\n",
      "711/711 [==============================] - 0s 43us/step - loss: 0.4749 - acc: 0.7989 - val_loss: 0.4050 - val_acc: 0.8258\n",
      "Epoch 94/100\n",
      "711/711 [==============================] - 0s 39us/step - loss: 0.4758 - acc: 0.7961 - val_loss: 0.4078 - val_acc: 0.8258\n",
      "Epoch 95/100\n",
      "711/711 [==============================] - 0s 41us/step - loss: 0.4731 - acc: 0.7947 - val_loss: 0.4082 - val_acc: 0.8258\n",
      "Epoch 96/100\n",
      "711/711 [==============================] - 0s 41us/step - loss: 0.4761 - acc: 0.7975 - val_loss: 0.4049 - val_acc: 0.8315\n",
      "Epoch 97/100\n",
      "711/711 [==============================] - 0s 42us/step - loss: 0.4703 - acc: 0.7890 - val_loss: 0.4046 - val_acc: 0.8258\n",
      "Epoch 98/100\n",
      "711/711 [==============================] - 0s 45us/step - loss: 0.4775 - acc: 0.7975 - val_loss: 0.4071 - val_acc: 0.8258\n",
      "Epoch 99/100\n",
      "711/711 [==============================] - 0s 41us/step - loss: 0.4760 - acc: 0.7961 - val_loss: 0.4059 - val_acc: 0.8258\n",
      "Epoch 100/100\n",
      "711/711 [==============================] - 0s 42us/step - loss: 0.4685 - acc: 0.7932 - val_loss: 0.4072 - val_acc: 0.8315\n"
     ]
    }
   ],
   "source": [
    "# Entrainer le modèle\n",
    "history = loaded_model.fit(X_train, y_train, validation_split=0.20, batch_size=50, epochs=100)"
   ]
  },
  {
   "cell_type": "code",
   "execution_count": 5,
   "metadata": {},
   "outputs": [
    {
     "name": "stdout",
     "output_type": "stream",
     "text": [
      "_________________________________________________________________\n",
      "Layer (type)                 Output Shape              Param #   \n",
      "=================================================================\n",
      "dense_1 (Dense)              (None, 32)                352       \n",
      "_________________________________________________________________\n",
      "dropout_1 (Dropout)          (None, 32)                0         \n",
      "_________________________________________________________________\n",
      "dense_2 (Dense)              (None, 20)                660       \n",
      "_________________________________________________________________\n",
      "dropout_2 (Dropout)          (None, 20)                0         \n",
      "_________________________________________________________________\n",
      "dense_3 (Dense)              (None, 16)                336       \n",
      "_________________________________________________________________\n",
      "dense_4 (Dense)              (None, 1)                 17        \n",
      "=================================================================\n",
      "Total params: 1,365\n",
      "Trainable params: 1,013\n",
      "Non-trainable params: 352\n",
      "_________________________________________________________________\n"
     ]
    }
   ],
   "source": [
    "loaded_model.summary()"
   ]
  },
  {
   "cell_type": "code",
   "execution_count": 6,
   "metadata": {},
   "outputs": [
    {
     "name": "stdout",
     "output_type": "stream",
     "text": [
      "417/417 [==============================] - 0s 75us/step\n"
     ]
    },
    {
     "data": {
      "text/plain": [
       "[0.26365981392151444, 0.9616306954436451]"
      ]
     },
     "execution_count": 6,
     "metadata": {},
     "output_type": "execute_result"
    }
   ],
   "source": [
    "loaded_model.evaluate(X_test, y_test) # fonction d'erreur (binary cross entropy) + Accuracy"
   ]
  },
  {
   "cell_type": "code",
   "execution_count": 9,
   "metadata": {},
   "outputs": [
    {
     "data": {
      "image/png": "[encoded data removed]",
      "text/plain": [
       "<Figure size 432x288 with 2 Axes>"
      ]
     },
     "metadata": {
      "needs_background": "light"
     },
     "output_type": "display_data"
    }
   ],
   "source": [
    "from matplotlib import pyplot\n",
    "\n",
    "# Tracer la courbe d'erreur pendant l'apprentissage\n",
    "pyplot.subplot(211)\n",
    "pyplot.title('Loss')\n",
    "pyplot.plot(history.history['loss'], label='train')\n",
    "pyplot.plot(history.history['val_loss'], label='validation')\n",
    "pyplot.legend()\n",
    "# Tracer la courbe de la précision pendant l'apprentissage\n",
    "pyplot.subplot(212)\n",
    "pyplot.title('Accuracy')\n",
    "pyplot.plot(history.history['acc'], label='train')\n",
    "pyplot.plot(history.history['val_acc'], label='validation')\n",
    "pyplot.legend()\n",
    "pyplot.show()"
   ]
  },
  {
   "cell_type": "code",
   "execution_count": 8,
   "metadata": {},
   "outputs": [
    {
     "name": "stdout",
     "output_type": "stream",
     "text": [
      "La matrice de confusion:\n",
      " [[265   0]\n",
      " [ 16 136]]\n"
     ]
    }
   ],
   "source": [
    "from sklearn.metrics import confusion_matrix\n",
    "\n",
    "# La matrice de confusion\n",
    "print(\"La matrice de confusion:\\n {}\".format(confusion_matrix(y_test, loaded_model.predict_classes(X_test))))"
   ]
  },
  {
   "cell_type": "code",
   "execution_count": null,
   "metadata": {},
   "outputs": [],
   "source": []
  }
 ],
 "metadata": {
  "kernelspec": {
   "display_name": "Python 3",
   "language": "python",
   "name": "python3"
  },
  "language_info": {
   "codemirror_mode": {
    "name": "ipython",
    "version": 3
   },
   "file_extension": ".py",
   "mimetype": "text/x-python",
   "name": "python",
   "nbconvert_exporter": "python",
   "pygments_lexer": "ipython3",
   "version": "3.6.5"
  }
 },
 "nbformat": 4,
 "nbformat_minor": 2
}
