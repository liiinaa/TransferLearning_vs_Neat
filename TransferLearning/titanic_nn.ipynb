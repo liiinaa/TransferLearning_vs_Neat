{
 "cells": [
  {
   "cell_type": "markdown",
   "metadata": {},
   "source": [
    "# Transfer learning appliqué à la dataset du titanic (Classification binaire)"
   ]
  },
  {
   "cell_type": "markdown",
   "metadata": {},
   "source": [
    "## Importer les données train et test du titanic"
   ]
  },
  {
   "cell_type": "code",
   "execution_count": 1,
   "metadata": {},
   "outputs": [
    {
     "name": "stdout",
     "output_type": "stream",
     "text": [
      "(889, 10)\n",
      "(417, 10)\n",
      "(889, 1)\n",
      "(417, 1)\n"
     ]
    }
   ],
   "source": [
    "%store -r X_train\n",
    "%store -r X_test\n",
    "%store -r y_train\n",
    "%store -r y_test\n",
    "print(X_train.shape)\n",
    "print(X_test.shape)\n",
    "print(y_train.shape)\n",
    "print(y_test.shape)"
   ]
  },
  {
   "cell_type": "markdown",
   "metadata": {},
   "source": [
    "## Importer l'architecture du modèle et les poids"
   ]
  },
  {
   "cell_type": "code",
   "execution_count": 2,
   "metadata": {},
   "outputs": [
    {
     "name": "stderr",
     "output_type": "stream",
     "text": [
      "Using TensorFlow backend.\n"
     ]
    },
    {
     "name": "stdout",
     "output_type": "stream",
     "text": [
      "Le modèle et les poids sont chargés\n"
     ]
    }
   ],
   "source": [
    "from keras.models import model_from_json\n",
    "\n",
    "# Charger le fichier json and créer le modèle\n",
    "json_file = open('model.json', 'r')\n",
    "loaded_model_json = json_file.read()\n",
    "json_file.close()\n",
    "loaded_model = model_from_json(loaded_model_json)\n",
    "# Charger les poids du modèle\n",
    "loaded_model.load_weights(\"model.h5\")\n",
    "print(\"Le modèle et les poids sont chargés\")"
   ]
  },
  {
   "cell_type": "markdown",
   "metadata": {},
   "source": [
    "## Ajouter une couche d'entrée et figer les poids du modèle entrainé"
   ]
  },
  {
   "cell_type": "code",
   "execution_count": 3,
   "metadata": {},
   "outputs": [],
   "source": [
    "from keras.layers import Input, Dense\n",
    "from keras.optimizers import Adam\n",
    "from keras.models import Model\n",
    "from keras.models import Sequential\n",
    "\n",
    "# Créer un modèle séquentiel avec une couche\n",
    "model = Sequential()\n",
    "model.add(Dense(63, input_dim=10, activation='relu', name='dense_0'))\n",
    "# Ajouter les couches du modèle entrainé\n",
    "for i in range(len(loaded_model.layers)):\n",
    "    model.add(loaded_model.layers[i])\n",
    "\n",
    "# Figer les poids du modèle entrainé\n",
    "for i in range(1,len(model.layers)):\n",
    "    model.layers[i].trainable = False\n",
    "\n",
    "# Compiler le modèle\n",
    "adam = Adam(lr=0.001)\n",
    "model.compile(optimizer=adam, loss='binary_crossentropy', metrics=['accuracy'])\n"
   ]
  },
  {
   "cell_type": "code",
   "execution_count": 4,
   "metadata": {},
   "outputs": [
    {
     "name": "stdout",
     "output_type": "stream",
     "text": [
      "Train on 711 samples, validate on 178 samples\n",
      "Epoch 1/100\n",
      "711/711 [==============================] - 0s 401us/step - loss: 8.0616 - acc: 0.3896 - val_loss: 7.6553 - val_acc: 0.3539\n",
      "Epoch 2/100\n",
      "711/711 [==============================] - 0s 59us/step - loss: 5.9767 - acc: 0.3896 - val_loss: 4.7853 - val_acc: 0.3539\n",
      "Epoch 3/100\n",
      "711/711 [==============================] - 0s 51us/step - loss: 3.5369 - acc: 0.3896 - val_loss: 2.7218 - val_acc: 0.3539\n",
      "Epoch 4/100\n",
      "711/711 [==============================] - 0s 50us/step - loss: 2.2365 - acc: 0.3924 - val_loss: 1.8844 - val_acc: 0.3596\n",
      "Epoch 5/100\n",
      "711/711 [==============================] - 0s 49us/step - loss: 1.5631 - acc: 0.4093 - val_loss: 1.2456 - val_acc: 0.3820\n",
      "Epoch 6/100\n",
      "711/711 [==============================] - 0s 49us/step - loss: 0.9170 - acc: 0.5387 - val_loss: 0.5828 - val_acc: 0.8202\n",
      "Epoch 7/100\n",
      "711/711 [==============================] - 0s 49us/step - loss: 0.6382 - acc: 0.7286 - val_loss: 0.5015 - val_acc: 0.8258\n",
      "Epoch 8/100\n",
      "711/711 [==============================] - 0s 54us/step - loss: 0.5929 - acc: 0.7482 - val_loss: 0.4839 - val_acc: 0.8034\n",
      "Epoch 9/100\n",
      "711/711 [==============================] - 0s 49us/step - loss: 0.5564 - acc: 0.7637 - val_loss: 0.4666 - val_acc: 0.8258\n",
      "Epoch 10/100\n",
      "711/711 [==============================] - 0s 46us/step - loss: 0.5293 - acc: 0.7722 - val_loss: 0.4537 - val_acc: 0.8146\n",
      "Epoch 11/100\n",
      "711/711 [==============================] - 0s 50us/step - loss: 0.5282 - acc: 0.7679 - val_loss: 0.4417 - val_acc: 0.8090\n",
      "Epoch 12/100\n",
      "711/711 [==============================] - 0s 46us/step - loss: 0.5287 - acc: 0.7707 - val_loss: 0.4326 - val_acc: 0.8090\n",
      "Epoch 13/100\n",
      "711/711 [==============================] - 0s 45us/step - loss: 0.5132 - acc: 0.7792 - val_loss: 0.4250 - val_acc: 0.8090\n",
      "Epoch 14/100\n",
      "711/711 [==============================] - 0s 44us/step - loss: 0.5093 - acc: 0.7806 - val_loss: 0.4209 - val_acc: 0.8090\n",
      "Epoch 15/100\n",
      "711/711 [==============================] - 0s 47us/step - loss: 0.5000 - acc: 0.7707 - val_loss: 0.4157 - val_acc: 0.8146\n",
      "Epoch 16/100\n",
      "711/711 [==============================] - 0s 45us/step - loss: 0.5050 - acc: 0.7820 - val_loss: 0.4106 - val_acc: 0.8202\n",
      "Epoch 17/100\n",
      "711/711 [==============================] - 0s 46us/step - loss: 0.5030 - acc: 0.7750 - val_loss: 0.4092 - val_acc: 0.8146\n",
      "Epoch 18/100\n",
      "711/711 [==============================] - 0s 48us/step - loss: 0.4808 - acc: 0.7918 - val_loss: 0.4048 - val_acc: 0.8258\n",
      "Epoch 19/100\n",
      "711/711 [==============================] - 0s 47us/step - loss: 0.4888 - acc: 0.7820 - val_loss: 0.4026 - val_acc: 0.8315\n",
      "Epoch 20/100\n",
      "711/711 [==============================] - 0s 44us/step - loss: 0.4832 - acc: 0.7890 - val_loss: 0.4022 - val_acc: 0.8258\n",
      "Epoch 21/100\n",
      "711/711 [==============================] - 0s 47us/step - loss: 0.4653 - acc: 0.7932 - val_loss: 0.4038 - val_acc: 0.8202\n",
      "Epoch 22/100\n",
      "711/711 [==============================] - 0s 46us/step - loss: 0.4780 - acc: 0.7975 - val_loss: 0.4032 - val_acc: 0.8202\n",
      "Epoch 23/100\n",
      "711/711 [==============================] - 0s 47us/step - loss: 0.4998 - acc: 0.7848 - val_loss: 0.4030 - val_acc: 0.8202\n",
      "Epoch 24/100\n",
      "711/711 [==============================] - 0s 46us/step - loss: 0.4993 - acc: 0.7932 - val_loss: 0.4059 - val_acc: 0.8202\n",
      "Epoch 25/100\n",
      "711/711 [==============================] - 0s 50us/step - loss: 0.4743 - acc: 0.7932 - val_loss: 0.4030 - val_acc: 0.8202\n",
      "Epoch 26/100\n",
      "711/711 [==============================] - 0s 52us/step - loss: 0.4969 - acc: 0.7834 - val_loss: 0.4002 - val_acc: 0.8258\n",
      "Epoch 27/100\n",
      "711/711 [==============================] - 0s 48us/step - loss: 0.4761 - acc: 0.7989 - val_loss: 0.3991 - val_acc: 0.8315\n",
      "Epoch 28/100\n",
      "711/711 [==============================] - 0s 48us/step - loss: 0.4834 - acc: 0.7834 - val_loss: 0.3989 - val_acc: 0.8315\n",
      "Epoch 29/100\n",
      "711/711 [==============================] - 0s 47us/step - loss: 0.4822 - acc: 0.7890 - val_loss: 0.3983 - val_acc: 0.8371\n",
      "Epoch 30/100\n",
      "711/711 [==============================] - 0s 53us/step - loss: 0.4741 - acc: 0.8045 - val_loss: 0.3966 - val_acc: 0.8371\n",
      "Epoch 31/100\n",
      "711/711 [==============================] - 0s 48us/step - loss: 0.4785 - acc: 0.8031 - val_loss: 0.3968 - val_acc: 0.8427\n",
      "Epoch 32/100\n",
      "711/711 [==============================] - 0s 49us/step - loss: 0.4568 - acc: 0.7904 - val_loss: 0.3958 - val_acc: 0.8371\n",
      "Epoch 33/100\n",
      "711/711 [==============================] - 0s 51us/step - loss: 0.4693 - acc: 0.7918 - val_loss: 0.3953 - val_acc: 0.8371\n",
      "Epoch 34/100\n",
      "711/711 [==============================] - 0s 49us/step - loss: 0.4773 - acc: 0.7876 - val_loss: 0.3952 - val_acc: 0.8371\n",
      "Epoch 35/100\n",
      "711/711 [==============================] - 0s 48us/step - loss: 0.4628 - acc: 0.7975 - val_loss: 0.3958 - val_acc: 0.8371\n",
      "Epoch 36/100\n",
      "711/711 [==============================] - 0s 54us/step - loss: 0.4823 - acc: 0.7904 - val_loss: 0.3931 - val_acc: 0.8371\n",
      "Epoch 37/100\n",
      "711/711 [==============================] - 0s 60us/step - loss: 0.4659 - acc: 0.7989 - val_loss: 0.3953 - val_acc: 0.8371\n",
      "Epoch 38/100\n",
      "711/711 [==============================] - 0s 53us/step - loss: 0.4589 - acc: 0.7961 - val_loss: 0.3941 - val_acc: 0.8371\n",
      "Epoch 39/100\n",
      "711/711 [==============================] - 0s 53us/step - loss: 0.4579 - acc: 0.8017 - val_loss: 0.3924 - val_acc: 0.8371\n",
      "Epoch 40/100\n",
      "711/711 [==============================] - 0s 52us/step - loss: 0.4592 - acc: 0.7989 - val_loss: 0.3930 - val_acc: 0.8371\n",
      "Epoch 41/100\n",
      "711/711 [==============================] - 0s 56us/step - loss: 0.4524 - acc: 0.8045 - val_loss: 0.3927 - val_acc: 0.8371\n",
      "Epoch 42/100\n",
      "711/711 [==============================] - 0s 54us/step - loss: 0.4658 - acc: 0.8031 - val_loss: 0.3915 - val_acc: 0.8371\n",
      "Epoch 43/100\n",
      "711/711 [==============================] - 0s 57us/step - loss: 0.4656 - acc: 0.7947 - val_loss: 0.3901 - val_acc: 0.8371\n",
      "Epoch 44/100\n",
      "711/711 [==============================] - 0s 54us/step - loss: 0.4699 - acc: 0.8017 - val_loss: 0.3891 - val_acc: 0.8427\n",
      "Epoch 45/100\n",
      "711/711 [==============================] - 0s 52us/step - loss: 0.4575 - acc: 0.7989 - val_loss: 0.3898 - val_acc: 0.8427\n",
      "Epoch 46/100\n",
      "711/711 [==============================] - 0s 55us/step - loss: 0.4546 - acc: 0.8003 - val_loss: 0.3920 - val_acc: 0.8427\n",
      "Epoch 47/100\n",
      "711/711 [==============================] - 0s 52us/step - loss: 0.4603 - acc: 0.8073 - val_loss: 0.3883 - val_acc: 0.8427\n",
      "Epoch 48/100\n",
      "711/711 [==============================] - 0s 57us/step - loss: 0.4559 - acc: 0.7989 - val_loss: 0.3892 - val_acc: 0.8427\n",
      "Epoch 49/100\n",
      "711/711 [==============================] - 0s 55us/step - loss: 0.4578 - acc: 0.8101 - val_loss: 0.3880 - val_acc: 0.8427\n",
      "Epoch 50/100\n",
      "711/711 [==============================] - 0s 80us/step - loss: 0.4634 - acc: 0.7975 - val_loss: 0.3894 - val_acc: 0.8483\n",
      "Epoch 51/100\n",
      "711/711 [==============================] - 0s 75us/step - loss: 0.4640 - acc: 0.8003 - val_loss: 0.3874 - val_acc: 0.8427\n",
      "Epoch 52/100\n",
      "711/711 [==============================] - 0s 67us/step - loss: 0.4564 - acc: 0.8129 - val_loss: 0.3868 - val_acc: 0.8427\n",
      "Epoch 53/100\n",
      "711/711 [==============================] - 0s 67us/step - loss: 0.4555 - acc: 0.8003 - val_loss: 0.3882 - val_acc: 0.8427\n",
      "Epoch 54/100\n",
      "711/711 [==============================] - 0s 67us/step - loss: 0.4702 - acc: 0.8073 - val_loss: 0.3886 - val_acc: 0.8427\n",
      "Epoch 55/100\n",
      "711/711 [==============================] - 0s 60us/step - loss: 0.4674 - acc: 0.7961 - val_loss: 0.3892 - val_acc: 0.8427\n",
      "Epoch 56/100\n",
      "711/711 [==============================] - 0s 55us/step - loss: 0.4517 - acc: 0.8158 - val_loss: 0.3908 - val_acc: 0.8427\n",
      "Epoch 57/100\n",
      "711/711 [==============================] - 0s 55us/step - loss: 0.4496 - acc: 0.8158 - val_loss: 0.3924 - val_acc: 0.8315\n",
      "Epoch 58/100\n",
      "711/711 [==============================] - 0s 54us/step - loss: 0.4581 - acc: 0.8059 - val_loss: 0.3928 - val_acc: 0.8427\n",
      "Epoch 59/100\n",
      "711/711 [==============================] - 0s 61us/step - loss: 0.4511 - acc: 0.8073 - val_loss: 0.3910 - val_acc: 0.8371\n",
      "Epoch 60/100\n",
      "711/711 [==============================] - 0s 58us/step - loss: 0.4480 - acc: 0.8017 - val_loss: 0.3901 - val_acc: 0.8483\n",
      "Epoch 61/100\n"
     ]
    },
    {
     "name": "stdout",
     "output_type": "stream",
     "text": [
      "711/711 [==============================] - 0s 59us/step - loss: 0.4397 - acc: 0.8214 - val_loss: 0.3893 - val_acc: 0.8427\n",
      "Epoch 62/100\n",
      "711/711 [==============================] - 0s 59us/step - loss: 0.4419 - acc: 0.8186 - val_loss: 0.3883 - val_acc: 0.8371\n",
      "Epoch 63/100\n",
      "711/711 [==============================] - 0s 54us/step - loss: 0.4564 - acc: 0.7975 - val_loss: 0.3892 - val_acc: 0.8371\n",
      "Epoch 64/100\n",
      "711/711 [==============================] - 0s 58us/step - loss: 0.4496 - acc: 0.8101 - val_loss: 0.3857 - val_acc: 0.8371\n",
      "Epoch 65/100\n",
      "711/711 [==============================] - 0s 59us/step - loss: 0.4464 - acc: 0.8143 - val_loss: 0.3859 - val_acc: 0.8371\n",
      "Epoch 66/100\n",
      "711/711 [==============================] - 0s 56us/step - loss: 0.4545 - acc: 0.8073 - val_loss: 0.3860 - val_acc: 0.8483\n",
      "Epoch 67/100\n",
      "711/711 [==============================] - 0s 44us/step - loss: 0.4535 - acc: 0.7904 - val_loss: 0.3878 - val_acc: 0.8483\n",
      "Epoch 68/100\n",
      "711/711 [==============================] - 0s 49us/step - loss: 0.4508 - acc: 0.8101 - val_loss: 0.3869 - val_acc: 0.8427\n",
      "Epoch 69/100\n",
      "711/711 [==============================] - 0s 46us/step - loss: 0.4431 - acc: 0.8059 - val_loss: 0.3865 - val_acc: 0.8427\n",
      "Epoch 70/100\n",
      "711/711 [==============================] - 0s 40us/step - loss: 0.4462 - acc: 0.8045 - val_loss: 0.3866 - val_acc: 0.8371\n",
      "Epoch 71/100\n",
      "711/711 [==============================] - 0s 38us/step - loss: 0.4446 - acc: 0.8045 - val_loss: 0.3876 - val_acc: 0.8371\n",
      "Epoch 72/100\n",
      "711/711 [==============================] - 0s 42us/step - loss: 0.4482 - acc: 0.8143 - val_loss: 0.3867 - val_acc: 0.8371\n",
      "Epoch 73/100\n",
      "711/711 [==============================] - 0s 73us/step - loss: 0.4332 - acc: 0.8087 - val_loss: 0.3862 - val_acc: 0.8427\n",
      "Epoch 74/100\n",
      "711/711 [==============================] - 0s 93us/step - loss: 0.4433 - acc: 0.8158 - val_loss: 0.3844 - val_acc: 0.8258\n",
      "Epoch 75/100\n",
      "711/711 [==============================] - 0s 95us/step - loss: 0.4483 - acc: 0.8087 - val_loss: 0.3840 - val_acc: 0.8483\n",
      "Epoch 76/100\n",
      "711/711 [==============================] - 0s 129us/step - loss: 0.4429 - acc: 0.8115 - val_loss: 0.3853 - val_acc: 0.8427\n",
      "Epoch 77/100\n",
      "711/711 [==============================] - 0s 68us/step - loss: 0.4470 - acc: 0.8017 - val_loss: 0.3859 - val_acc: 0.8202\n",
      "Epoch 78/100\n",
      "711/711 [==============================] - 0s 51us/step - loss: 0.4480 - acc: 0.8270 - val_loss: 0.3850 - val_acc: 0.8315\n",
      "Epoch 79/100\n",
      "711/711 [==============================] - 0s 44us/step - loss: 0.4487 - acc: 0.8158 - val_loss: 0.3822 - val_acc: 0.8371\n",
      "Epoch 80/100\n",
      "711/711 [==============================] - 0s 37us/step - loss: 0.4349 - acc: 0.8045 - val_loss: 0.3813 - val_acc: 0.8596\n",
      "Epoch 81/100\n",
      "711/711 [==============================] - 0s 35us/step - loss: 0.4495 - acc: 0.8115 - val_loss: 0.3813 - val_acc: 0.8483\n",
      "Epoch 82/100\n",
      "711/711 [==============================] - 0s 41us/step - loss: 0.4416 - acc: 0.8115 - val_loss: 0.3811 - val_acc: 0.8483\n",
      "Epoch 83/100\n",
      "711/711 [==============================] - 0s 42us/step - loss: 0.4455 - acc: 0.8143 - val_loss: 0.3801 - val_acc: 0.8539\n",
      "Epoch 84/100\n",
      "711/711 [==============================] - 0s 40us/step - loss: 0.4320 - acc: 0.8186 - val_loss: 0.3811 - val_acc: 0.8371\n",
      "Epoch 85/100\n",
      "711/711 [==============================] - 0s 43us/step - loss: 0.4322 - acc: 0.8101 - val_loss: 0.3835 - val_acc: 0.8371\n",
      "Epoch 86/100\n",
      "711/711 [==============================] - 0s 43us/step - loss: 0.4449 - acc: 0.8101 - val_loss: 0.3832 - val_acc: 0.8371\n",
      "Epoch 87/100\n",
      "711/711 [==============================] - 0s 43us/step - loss: 0.4346 - acc: 0.8158 - val_loss: 0.3827 - val_acc: 0.8483\n",
      "Epoch 88/100\n",
      "711/711 [==============================] - 0s 40us/step - loss: 0.4424 - acc: 0.8045 - val_loss: 0.3839 - val_acc: 0.8427\n",
      "Epoch 89/100\n",
      "711/711 [==============================] - 0s 43us/step - loss: 0.4348 - acc: 0.8143 - val_loss: 0.3827 - val_acc: 0.8427\n",
      "Epoch 90/100\n",
      "711/711 [==============================] - 0s 41us/step - loss: 0.4409 - acc: 0.8045 - val_loss: 0.3826 - val_acc: 0.8427\n",
      "Epoch 91/100\n",
      "711/711 [==============================] - 0s 39us/step - loss: 0.4364 - acc: 0.8200 - val_loss: 0.3813 - val_acc: 0.8483\n",
      "Epoch 92/100\n",
      "711/711 [==============================] - 0s 43us/step - loss: 0.4378 - acc: 0.8073 - val_loss: 0.3805 - val_acc: 0.8483\n",
      "Epoch 93/100\n",
      "711/711 [==============================] - 0s 39us/step - loss: 0.4403 - acc: 0.8045 - val_loss: 0.3799 - val_acc: 0.8371\n",
      "Epoch 94/100\n",
      "711/711 [==============================] - 0s 39us/step - loss: 0.4438 - acc: 0.8003 - val_loss: 0.3803 - val_acc: 0.8427\n",
      "Epoch 95/100\n",
      "711/711 [==============================] - 0s 43us/step - loss: 0.4233 - acc: 0.8172 - val_loss: 0.3787 - val_acc: 0.8596\n",
      "Epoch 96/100\n",
      "711/711 [==============================] - 0s 41us/step - loss: 0.4384 - acc: 0.8101 - val_loss: 0.3803 - val_acc: 0.8427\n",
      "Epoch 97/100\n",
      "711/711 [==============================] - 0s 40us/step - loss: 0.4327 - acc: 0.8172 - val_loss: 0.3802 - val_acc: 0.8483\n",
      "Epoch 98/100\n",
      "711/711 [==============================] - 0s 39us/step - loss: 0.4395 - acc: 0.8129 - val_loss: 0.3806 - val_acc: 0.8483\n",
      "Epoch 99/100\n",
      "711/711 [==============================] - 0s 42us/step - loss: 0.4319 - acc: 0.8172 - val_loss: 0.3778 - val_acc: 0.8483\n",
      "Epoch 100/100\n",
      "711/711 [==============================] - 0s 38us/step - loss: 0.4391 - acc: 0.8186 - val_loss: 0.3790 - val_acc: 0.8483\n"
     ]
    }
   ],
   "source": [
    "# Entrainer le modèle\n",
    "history = model.fit(X_train, y_train, validation_split=0.20, batch_size=50, epochs=100)"
   ]
  },
  {
   "cell_type": "code",
   "execution_count": 5,
   "metadata": {},
   "outputs": [
    {
     "name": "stdout",
     "output_type": "stream",
     "text": [
      "_________________________________________________________________\n",
      "Layer (type)                 Output Shape              Param #   \n",
      "=================================================================\n",
      "dense_0 (Dense)              (None, 63)                693       \n",
      "_________________________________________________________________\n",
      "dense_1 (Dense)              (None, 32)                2048      \n",
      "_________________________________________________________________\n",
      "dropout_1 (Dropout)          (None, 32)                0         \n",
      "_________________________________________________________________\n",
      "dense_2 (Dense)              (None, 20)                660       \n",
      "_________________________________________________________________\n",
      "dropout_2 (Dropout)          (None, 20)                0         \n",
      "_________________________________________________________________\n",
      "dense_3 (Dense)              (None, 16)                336       \n",
      "_________________________________________________________________\n",
      "dense_4 (Dense)              (None, 1)                 17        \n",
      "=================================================================\n",
      "Total params: 3,754\n",
      "Trainable params: 693\n",
      "Non-trainable params: 3,061\n",
      "_________________________________________________________________\n"
     ]
    }
   ],
   "source": [
    "model.summary()"
   ]
  },
  {
   "cell_type": "code",
   "execution_count": 6,
   "metadata": {},
   "outputs": [
    {
     "name": "stdout",
     "output_type": "stream",
     "text": [
      "417/417 [==============================] - 0s 54us/step\n"
     ]
    },
    {
     "data": {
      "text/plain": [
       "[0.25287351333837715, 0.9304556354916067]"
      ]
     },
     "execution_count": 6,
     "metadata": {},
     "output_type": "execute_result"
    }
   ],
   "source": [
    "model.evaluate(X_test, y_test) # fonction d'erreur (binary cross entropy) + Accuracy"
   ]
  },
  {
   "cell_type": "code",
   "execution_count": 7,
   "metadata": {},
   "outputs": [
    {
     "data": {
      "text/plain": [
       "<Figure size 640x480 with 2 Axes>"
      ]
     },
     "metadata": {},
     "output_type": "display_data"
    }
   ],
   "source": [
    "from matplotlib import pyplot\n",
    "\n",
    "# Tracer la courbe d'erreur pendant l'apprentissage\n",
    "pyplot.subplot(211)\n",
    "pyplot.title('Loss')\n",
    "pyplot.plot(history.history['loss'], label='train')\n",
    "pyplot.plot(history.history['val_loss'], label='validation')\n",
    "pyplot.legend()\n",
    "# Tracer la courbe de la précision pendant l'apprentissage\n",
    "pyplot.subplot(212)\n",
    "pyplot.title('Accuracy')\n",
    "pyplot.plot(history.history['acc'], label='train')\n",
    "pyplot.plot(history.history['val_acc'], label='validation')\n",
    "pyplot.legend()\n",
    "pyplot.show()"
   ]
  },
  {
   "cell_type": "code",
   "execution_count": 8,
   "metadata": {},
   "outputs": [
    {
     "name": "stdout",
     "output_type": "stream",
     "text": [
      "La matrice de confusion:\n",
      " [[264   1]\n",
      " [ 28 124]]\n"
     ]
    }
   ],
   "source": [
    "import numpy as np\n",
    "from sklearn.metrics import confusion_matrix\n",
    "\n",
    "# La matrice de confusion\n",
    "print(\"La matrice de confusion:\\n {}\".format(confusion_matrix(y_test, model.predict_classes(X_test))))"
   ]
  },
  {
   "cell_type": "code",
   "execution_count": 9,
   "metadata": {},
   "outputs": [
    {
     "name": "stdout",
     "output_type": "stream",
     "text": [
      "Saved model to disk\n"
     ]
    }
   ],
   "source": [
    "# enregistrer le modèle en format JSON\n",
    "model_json = model.to_json()\n",
    "with open(\"model_titanic.json\", \"w\") as json_file:\n",
    "    json_file.write(model_json)\n",
    "# enregistrer les poids en format HDF5\n",
    "model.save_weights(\"model_titanic.h5\")\n",
    "print(\"Saved model to disk\")"
   ]
  }
 ],
 "metadata": {
  "kernelspec": {
   "display_name": "Python 3",
   "language": "python",
   "name": "python3"
  },
  "language_info": {
   "codemirror_mode": {
    "name": "ipython",
    "version": 3
   },
   "file_extension": ".py",
   "mimetype": "text/x-python",
   "name": "python",
   "nbconvert_exporter": "python",
   "pygments_lexer": "ipython3",
   "version": "3.6.5"
  }
 },
 "nbformat": 4,
 "nbformat_minor": 2
}
