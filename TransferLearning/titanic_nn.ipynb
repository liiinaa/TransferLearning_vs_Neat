{
 "cells": [
  {
   "cell_type": "markdown",
   "metadata": {},
   "source": [
    "# Transfer learning appliqué à la dataset du titanic (Classification binaire)"
   ]
  },
  {
   "cell_type": "markdown",
   "metadata": {},
   "source": [
    "## Importer les données train et test du titanic"
   ]
  },
  {
   "cell_type": "code",
   "execution_count": 1,
   "metadata": {},
   "outputs": [
    {
     "name": "stdout",
     "output_type": "stream",
     "text": [
      "(889, 10)\n",
      "(417, 10)\n",
      "(889, 1)\n",
      "(417, 1)\n"
     ]
    }
   ],
   "source": [
    "%store -r X_train\n",
    "%store -r X_test\n",
    "%store -r y_train\n",
    "%store -r y_test\n",
    "print(X_train.shape)\n",
    "print(X_test.shape)\n",
    "print(y_train.shape)\n",
    "print(y_test.shape)"
   ]
  },
  {
   "cell_type": "markdown",
   "metadata": {},
   "source": [
    "## Importer l'architecture du modèle et les poids"
   ]
  },
  {
   "cell_type": "code",
   "execution_count": 2,
   "metadata": {},
   "outputs": [
    {
     "name": "stderr",
     "output_type": "stream",
     "text": [
      "Using TensorFlow backend.\n"
     ]
    },
    {
     "name": "stdout",
     "output_type": "stream",
     "text": [
      "Le modèle et les poids sont chargés\n"
     ]
    }
   ],
   "source": [
    "from keras.models import model_from_json\n",
    "\n",
    "# Charger le fichier json and créer le modèle\n",
    "json_file = open('model.json', 'r')\n",
    "loaded_model_json = json_file.read()\n",
    "json_file.close()\n",
    "loaded_model = model_from_json(loaded_model_json)\n",
    "# Charger les poids du modèle\n",
    "loaded_model.load_weights(\"model.h5\")\n",
    "print(\"Le modèle et les poids sont chargés\")"
   ]
  },
  {
   "cell_type": "markdown",
   "metadata": {},
   "source": [
    "## Ajouter une couche d'entrée et figer les poids du modèle entrainé"
   ]
  },
  {
   "cell_type": "code",
   "execution_count": 3,
   "metadata": {},
   "outputs": [],
   "source": [
    "from keras.layers import Input, Dense\n",
    "from keras.optimizers import Adam\n",
    "from keras.models import Model\n",
    "from keras.models import Sequential\n",
    "\n",
    "# Créer un modèle séquentiel avec une couche\n",
    "model = Sequential()\n",
    "model.add(Dense(63, input_dim=10, activation='relu', name='dense_0'))\n",
    "# Ajouter les couches du modèle entrainé\n",
    "for i in range(len(loaded_model.layers)):\n",
    "    model.add(loaded_model.layers[i])\n",
    "\n",
    "# Figer les poids du modèle entrainé\n",
    "for i in range(1,len(model.layers)):\n",
    "    model.layers[i].trainable = False\n",
    "\n",
    "# Compiler le modèle\n",
    "adam = Adam(lr=0.001)\n",
    "model.compile(optimizer=adam, loss='binary_crossentropy', metrics=['accuracy'])\n"
   ]
  },
  {
   "cell_type": "code",
   "execution_count": 4,
   "metadata": {},
   "outputs": [
    {
     "name": "stdout",
     "output_type": "stream",
     "text": [
      "Train on 711 samples, validate on 178 samples\n",
      "Epoch 1/100\n",
      "711/711 [==============================] - 0s 413us/step - loss: 3.8456 - acc: 0.3854 - val_loss: 2.7977 - val_acc: 0.3427\n",
      "Epoch 2/100\n",
      "711/711 [==============================] - 0s 50us/step - loss: 1.9699 - acc: 0.3882 - val_loss: 1.1456 - val_acc: 0.4551\n",
      "Epoch 3/100\n",
      "711/711 [==============================] - 0s 48us/step - loss: 0.9438 - acc: 0.5724 - val_loss: 0.6429 - val_acc: 0.6910\n",
      "Epoch 4/100\n",
      "711/711 [==============================] - 0s 48us/step - loss: 0.6673 - acc: 0.6737 - val_loss: 0.5224 - val_acc: 0.7809\n",
      "Epoch 5/100\n",
      "711/711 [==============================] - 0s 46us/step - loss: 0.5878 - acc: 0.7187 - val_loss: 0.4796 - val_acc: 0.7753\n",
      "Epoch 6/100\n",
      "711/711 [==============================] - 0s 46us/step - loss: 0.5412 - acc: 0.7539 - val_loss: 0.4581 - val_acc: 0.7865\n",
      "Epoch 7/100\n",
      "711/711 [==============================] - 0s 45us/step - loss: 0.5211 - acc: 0.7511 - val_loss: 0.4421 - val_acc: 0.7809\n",
      "Epoch 8/100\n",
      "711/711 [==============================] - 0s 50us/step - loss: 0.5092 - acc: 0.7553 - val_loss: 0.4324 - val_acc: 0.8090\n",
      "Epoch 9/100\n",
      "711/711 [==============================] - 0s 51us/step - loss: 0.4852 - acc: 0.7693 - val_loss: 0.4265 - val_acc: 0.8034\n",
      "Epoch 10/100\n",
      "711/711 [==============================] - 0s 52us/step - loss: 0.4705 - acc: 0.7932 - val_loss: 0.4235 - val_acc: 0.8090\n",
      "Epoch 11/100\n",
      "711/711 [==============================] - 0s 52us/step - loss: 0.4535 - acc: 0.7890 - val_loss: 0.4204 - val_acc: 0.8090\n",
      "Epoch 12/100\n",
      "711/711 [==============================] - 0s 55us/step - loss: 0.4825 - acc: 0.7975 - val_loss: 0.4184 - val_acc: 0.8034\n",
      "Epoch 13/100\n",
      "711/711 [==============================] - 0s 63us/step - loss: 0.4790 - acc: 0.7806 - val_loss: 0.4166 - val_acc: 0.8090\n",
      "Epoch 14/100\n",
      "711/711 [==============================] - 0s 61us/step - loss: 0.4717 - acc: 0.7961 - val_loss: 0.4140 - val_acc: 0.8146\n",
      "Epoch 15/100\n",
      "711/711 [==============================] - 0s 48us/step - loss: 0.4785 - acc: 0.7778 - val_loss: 0.4137 - val_acc: 0.8202\n",
      "Epoch 16/100\n",
      "711/711 [==============================] - 0s 45us/step - loss: 0.4840 - acc: 0.7904 - val_loss: 0.4111 - val_acc: 0.8315\n",
      "Epoch 17/100\n",
      "711/711 [==============================] - 0s 46us/step - loss: 0.4749 - acc: 0.7961 - val_loss: 0.4071 - val_acc: 0.8315\n",
      "Epoch 18/100\n",
      "711/711 [==============================] - 0s 45us/step - loss: 0.4773 - acc: 0.8017 - val_loss: 0.4064 - val_acc: 0.8258\n",
      "Epoch 19/100\n",
      "711/711 [==============================] - 0s 45us/step - loss: 0.4754 - acc: 0.7792 - val_loss: 0.4049 - val_acc: 0.8258\n",
      "Epoch 20/100\n",
      "711/711 [==============================] - 0s 47us/step - loss: 0.4759 - acc: 0.7876 - val_loss: 0.4046 - val_acc: 0.8258\n",
      "Epoch 21/100\n",
      "711/711 [==============================] - 0s 54us/step - loss: 0.4613 - acc: 0.7989 - val_loss: 0.4045 - val_acc: 0.8371\n",
      "Epoch 22/100\n",
      "711/711 [==============================] - 0s 57us/step - loss: 0.4484 - acc: 0.7975 - val_loss: 0.4050 - val_acc: 0.8202\n",
      "Epoch 23/100\n",
      "711/711 [==============================] - 0s 58us/step - loss: 0.4675 - acc: 0.8003 - val_loss: 0.4033 - val_acc: 0.8315\n",
      "Epoch 24/100\n",
      "711/711 [==============================] - 0s 62us/step - loss: 0.4541 - acc: 0.8073 - val_loss: 0.4022 - val_acc: 0.8315\n",
      "Epoch 25/100\n",
      "711/711 [==============================] - 0s 56us/step - loss: 0.4737 - acc: 0.7834 - val_loss: 0.4014 - val_acc: 0.8315\n",
      "Epoch 26/100\n",
      "711/711 [==============================] - 0s 57us/step - loss: 0.4594 - acc: 0.7989 - val_loss: 0.3995 - val_acc: 0.8258\n",
      "Epoch 27/100\n",
      "711/711 [==============================] - 0s 53us/step - loss: 0.4580 - acc: 0.7834 - val_loss: 0.3985 - val_acc: 0.8258\n",
      "Epoch 28/100\n",
      "711/711 [==============================] - 0s 62us/step - loss: 0.4535 - acc: 0.8003 - val_loss: 0.3985 - val_acc: 0.8202\n",
      "Epoch 29/100\n",
      "711/711 [==============================] - 0s 63us/step - loss: 0.4522 - acc: 0.8059 - val_loss: 0.3985 - val_acc: 0.8202\n",
      "Epoch 30/100\n",
      "711/711 [==============================] - 0s 58us/step - loss: 0.4491 - acc: 0.7989 - val_loss: 0.3977 - val_acc: 0.8202\n",
      "Epoch 31/100\n",
      "711/711 [==============================] - 0s 66us/step - loss: 0.4488 - acc: 0.8031 - val_loss: 0.3977 - val_acc: 0.8202\n",
      "Epoch 32/100\n",
      "711/711 [==============================] - 0s 66us/step - loss: 0.4645 - acc: 0.7947 - val_loss: 0.3976 - val_acc: 0.8202\n",
      "Epoch 33/100\n",
      "711/711 [==============================] - 0s 68us/step - loss: 0.4367 - acc: 0.8073 - val_loss: 0.3971 - val_acc: 0.8202\n",
      "Epoch 34/100\n",
      "711/711 [==============================] - 0s 58us/step - loss: 0.4466 - acc: 0.8129 - val_loss: 0.3965 - val_acc: 0.8315\n",
      "Epoch 35/100\n",
      "711/711 [==============================] - 0s 53us/step - loss: 0.4527 - acc: 0.8017 - val_loss: 0.3954 - val_acc: 0.8258\n",
      "Epoch 36/100\n",
      "711/711 [==============================] - 0s 69us/step - loss: 0.4523 - acc: 0.8017 - val_loss: 0.3961 - val_acc: 0.8258\n",
      "Epoch 37/100\n",
      "711/711 [==============================] - 0s 56us/step - loss: 0.4446 - acc: 0.8115 - val_loss: 0.3949 - val_acc: 0.8258\n",
      "Epoch 38/100\n",
      "711/711 [==============================] - 0s 62us/step - loss: 0.4478 - acc: 0.8017 - val_loss: 0.3935 - val_acc: 0.8258\n",
      "Epoch 39/100\n",
      "711/711 [==============================] - 0s 56us/step - loss: 0.4477 - acc: 0.7918 - val_loss: 0.3926 - val_acc: 0.8258\n",
      "Epoch 40/100\n",
      "711/711 [==============================] - 0s 95us/step - loss: 0.4539 - acc: 0.8003 - val_loss: 0.3904 - val_acc: 0.8371\n",
      "Epoch 41/100\n",
      "711/711 [==============================] - 0s 114us/step - loss: 0.4636 - acc: 0.7961 - val_loss: 0.3900 - val_acc: 0.8202\n",
      "Epoch 42/100\n",
      "711/711 [==============================] - 0s 182us/step - loss: 0.4536 - acc: 0.8045 - val_loss: 0.3887 - val_acc: 0.8258\n",
      "Epoch 43/100\n",
      "711/711 [==============================] - 0s 64us/step - loss: 0.4525 - acc: 0.7947 - val_loss: 0.3891 - val_acc: 0.8315\n",
      "Epoch 44/100\n",
      "711/711 [==============================] - 0s 98us/step - loss: 0.4469 - acc: 0.8017 - val_loss: 0.3888 - val_acc: 0.8258\n",
      "Epoch 45/100\n",
      "711/711 [==============================] - 0s 92us/step - loss: 0.4268 - acc: 0.8242 - val_loss: 0.3908 - val_acc: 0.8202\n",
      "Epoch 46/100\n",
      "711/711 [==============================] - 0s 50us/step - loss: 0.4486 - acc: 0.8059 - val_loss: 0.3903 - val_acc: 0.8258\n",
      "Epoch 47/100\n",
      "711/711 [==============================] - ETA: 0s - loss: 0.4751 - acc: 0.700 - 0s 44us/step - loss: 0.4429 - acc: 0.7932 - val_loss: 0.3898 - val_acc: 0.8258\n",
      "Epoch 48/100\n",
      "711/711 [==============================] - 0s 180us/step - loss: 0.4379 - acc: 0.8017 - val_loss: 0.3905 - val_acc: 0.8202\n",
      "Epoch 49/100\n",
      "711/711 [==============================] - 0s 43us/step - loss: 0.4417 - acc: 0.8059 - val_loss: 0.3913 - val_acc: 0.8202\n",
      "Epoch 50/100\n",
      "711/711 [==============================] - 0s 40us/step - loss: 0.4392 - acc: 0.8003 - val_loss: 0.3891 - val_acc: 0.8258\n",
      "Epoch 51/100\n",
      "711/711 [==============================] - 0s 44us/step - loss: 0.4547 - acc: 0.7961 - val_loss: 0.3886 - val_acc: 0.8258\n",
      "Epoch 52/100\n",
      "711/711 [==============================] - 0s 60us/step - loss: 0.4388 - acc: 0.8073 - val_loss: 0.3894 - val_acc: 0.8258\n",
      "Epoch 53/100\n",
      "711/711 [==============================] - 0s 56us/step - loss: 0.4519 - acc: 0.8017 - val_loss: 0.3912 - val_acc: 0.8315\n",
      "Epoch 54/100\n",
      "711/711 [==============================] - 0s 61us/step - loss: 0.4264 - acc: 0.8045 - val_loss: 0.3884 - val_acc: 0.8315\n",
      "Epoch 55/100\n",
      "711/711 [==============================] - 0s 75us/step - loss: 0.4475 - acc: 0.8073 - val_loss: 0.3885 - val_acc: 0.8315\n",
      "Epoch 56/100\n",
      "711/711 [==============================] - 0s 48us/step - loss: 0.4448 - acc: 0.7975 - val_loss: 0.3882 - val_acc: 0.8146\n",
      "Epoch 57/100\n",
      "711/711 [==============================] - 0s 40us/step - loss: 0.4524 - acc: 0.8059 - val_loss: 0.3870 - val_acc: 0.8202\n",
      "Epoch 58/100\n",
      "711/711 [==============================] - 0s 39us/step - loss: 0.4393 - acc: 0.8003 - val_loss: 0.3872 - val_acc: 0.8315\n",
      "Epoch 59/100\n",
      "711/711 [==============================] - 0s 40us/step - loss: 0.4397 - acc: 0.8003 - val_loss: 0.3865 - val_acc: 0.8315\n",
      "Epoch 60/100\n",
      "711/711 [==============================] - 0s 38us/step - loss: 0.4436 - acc: 0.7989 - val_loss: 0.3877 - val_acc: 0.8315\n",
      "Epoch 61/100\n"
     ]
    },
    {
     "name": "stdout",
     "output_type": "stream",
     "text": [
      "711/711 [==============================] - 0s 45us/step - loss: 0.4364 - acc: 0.8186 - val_loss: 0.3862 - val_acc: 0.8258\n",
      "Epoch 62/100\n",
      "711/711 [==============================] - 0s 41us/step - loss: 0.4336 - acc: 0.8115 - val_loss: 0.3845 - val_acc: 0.8258\n",
      "Epoch 63/100\n",
      "711/711 [==============================] - 0s 38us/step - loss: 0.4385 - acc: 0.8087 - val_loss: 0.3858 - val_acc: 0.8258\n",
      "Epoch 64/100\n",
      "711/711 [==============================] - 0s 35us/step - loss: 0.4439 - acc: 0.8031 - val_loss: 0.3850 - val_acc: 0.8258\n",
      "Epoch 65/100\n",
      "711/711 [==============================] - 0s 38us/step - loss: 0.4463 - acc: 0.8059 - val_loss: 0.3894 - val_acc: 0.8202\n",
      "Epoch 66/100\n",
      "711/711 [==============================] - 0s 40us/step - loss: 0.4432 - acc: 0.8200 - val_loss: 0.3845 - val_acc: 0.8258\n",
      "Epoch 67/100\n",
      "711/711 [==============================] - 0s 37us/step - loss: 0.4329 - acc: 0.8087 - val_loss: 0.3812 - val_acc: 0.8371\n",
      "Epoch 68/100\n",
      "711/711 [==============================] - 0s 45us/step - loss: 0.4429 - acc: 0.8101 - val_loss: 0.3814 - val_acc: 0.8202\n",
      "Epoch 69/100\n",
      "711/711 [==============================] - 0s 66us/step - loss: 0.4507 - acc: 0.7961 - val_loss: 0.3830 - val_acc: 0.8371\n",
      "Epoch 70/100\n",
      "711/711 [==============================] - 0s 79us/step - loss: 0.4381 - acc: 0.8115 - val_loss: 0.3849 - val_acc: 0.8258\n",
      "Epoch 71/100\n",
      "711/711 [==============================] - 0s 134us/step - loss: 0.4455 - acc: 0.8129 - val_loss: 0.3830 - val_acc: 0.8315\n",
      "Epoch 72/100\n",
      "711/711 [==============================] - 0s 42us/step - loss: 0.4380 - acc: 0.8059 - val_loss: 0.3845 - val_acc: 0.8315\n",
      "Epoch 73/100\n",
      "711/711 [==============================] - 0s 38us/step - loss: 0.4342 - acc: 0.8101 - val_loss: 0.3833 - val_acc: 0.8202\n",
      "Epoch 74/100\n",
      "711/711 [==============================] - 0s 49us/step - loss: 0.4384 - acc: 0.8115 - val_loss: 0.3809 - val_acc: 0.8202\n",
      "Epoch 75/100\n",
      "711/711 [==============================] - 0s 40us/step - loss: 0.4438 - acc: 0.8045 - val_loss: 0.3830 - val_acc: 0.8315\n",
      "Epoch 76/100\n",
      "711/711 [==============================] - 0s 40us/step - loss: 0.4271 - acc: 0.8214 - val_loss: 0.3808 - val_acc: 0.8202\n",
      "Epoch 77/100\n",
      "711/711 [==============================] - 0s 45us/step - loss: 0.4318 - acc: 0.8186 - val_loss: 0.3836 - val_acc: 0.8146\n",
      "Epoch 78/100\n",
      "711/711 [==============================] - 0s 46us/step - loss: 0.4310 - acc: 0.8101 - val_loss: 0.3822 - val_acc: 0.8258\n",
      "Epoch 79/100\n",
      "711/711 [==============================] - 0s 59us/step - loss: 0.4331 - acc: 0.8073 - val_loss: 0.3788 - val_acc: 0.8315\n",
      "Epoch 80/100\n",
      "711/711 [==============================] - 0s 47us/step - loss: 0.4409 - acc: 0.8143 - val_loss: 0.3789 - val_acc: 0.8202\n",
      "Epoch 81/100\n",
      "711/711 [==============================] - 0s 63us/step - loss: 0.4373 - acc: 0.8087 - val_loss: 0.3828 - val_acc: 0.8202\n",
      "Epoch 82/100\n",
      "711/711 [==============================] - 0s 51us/step - loss: 0.4514 - acc: 0.8045 - val_loss: 0.3777 - val_acc: 0.8427\n",
      "Epoch 83/100\n",
      "711/711 [==============================] - ETA: 0s - loss: 0.4858 - acc: 0.740 - 0s 56us/step - loss: 0.4437 - acc: 0.8003 - val_loss: 0.3754 - val_acc: 0.8371\n",
      "Epoch 84/100\n",
      "711/711 [==============================] - 0s 53us/step - loss: 0.4497 - acc: 0.8017 - val_loss: 0.3773 - val_acc: 0.8371\n",
      "Epoch 85/100\n",
      "711/711 [==============================] - 0s 50us/step - loss: 0.4292 - acc: 0.8101 - val_loss: 0.3773 - val_acc: 0.8371\n",
      "Epoch 86/100\n",
      "711/711 [==============================] - 0s 54us/step - loss: 0.4264 - acc: 0.8087 - val_loss: 0.3805 - val_acc: 0.8315\n",
      "Epoch 87/100\n",
      "711/711 [==============================] - 0s 46us/step - loss: 0.4391 - acc: 0.7947 - val_loss: 0.3796 - val_acc: 0.8202\n",
      "Epoch 88/100\n",
      "711/711 [==============================] - 0s 45us/step - loss: 0.4341 - acc: 0.8228 - val_loss: 0.3792 - val_acc: 0.8315\n",
      "Epoch 89/100\n",
      "711/711 [==============================] - 0s 48us/step - loss: 0.4320 - acc: 0.8158 - val_loss: 0.3805 - val_acc: 0.8258\n",
      "Epoch 90/100\n",
      "711/711 [==============================] - 0s 46us/step - loss: 0.4334 - acc: 0.8129 - val_loss: 0.3799 - val_acc: 0.8202\n",
      "Epoch 91/100\n",
      "711/711 [==============================] - 0s 47us/step - loss: 0.4274 - acc: 0.8200 - val_loss: 0.3747 - val_acc: 0.8258\n",
      "Epoch 92/100\n",
      "711/711 [==============================] - 0s 47us/step - loss: 0.4386 - acc: 0.8158 - val_loss: 0.3750 - val_acc: 0.8427\n",
      "Epoch 93/100\n",
      "711/711 [==============================] - 0s 48us/step - loss: 0.4298 - acc: 0.8172 - val_loss: 0.3753 - val_acc: 0.8371\n",
      "Epoch 94/100\n",
      "711/711 [==============================] - 0s 47us/step - loss: 0.4269 - acc: 0.8256 - val_loss: 0.3730 - val_acc: 0.8539\n",
      "Epoch 95/100\n",
      "711/711 [==============================] - 0s 44us/step - loss: 0.4309 - acc: 0.8200 - val_loss: 0.3714 - val_acc: 0.8427\n",
      "Epoch 96/100\n",
      "711/711 [==============================] - 0s 49us/step - loss: 0.4318 - acc: 0.8186 - val_loss: 0.3730 - val_acc: 0.8539\n",
      "Epoch 97/100\n",
      "711/711 [==============================] - 0s 60us/step - loss: 0.4232 - acc: 0.8143 - val_loss: 0.3693 - val_acc: 0.8483\n",
      "Epoch 98/100\n",
      "711/711 [==============================] - 0s 70us/step - loss: 0.4358 - acc: 0.8129 - val_loss: 0.3711 - val_acc: 0.8483\n",
      "Epoch 99/100\n",
      "711/711 [==============================] - 0s 45us/step - loss: 0.4313 - acc: 0.8270 - val_loss: 0.3695 - val_acc: 0.8483\n",
      "Epoch 100/100\n",
      "711/711 [==============================] - 0s 52us/step - loss: 0.4273 - acc: 0.8186 - val_loss: 0.3705 - val_acc: 0.8539\n"
     ]
    }
   ],
   "source": [
    "# Entrainer le modèle\n",
    "history = model.fit(X_train, y_train, validation_split=0.20, batch_size=50, epochs=100)"
   ]
  },
  {
   "cell_type": "code",
   "execution_count": 5,
   "metadata": {},
   "outputs": [
    {
     "name": "stdout",
     "output_type": "stream",
     "text": [
      "_________________________________________________________________\n",
      "Layer (type)                 Output Shape              Param #   \n",
      "=================================================================\n",
      "dense_0 (Dense)              (None, 63)                693       \n",
      "_________________________________________________________________\n",
      "dense_1 (Dense)              (None, 32)                2048      \n",
      "_________________________________________________________________\n",
      "dropout_1 (Dropout)          (None, 32)                0         \n",
      "_________________________________________________________________\n",
      "dense_2 (Dense)              (None, 20)                660       \n",
      "_________________________________________________________________\n",
      "dropout_2 (Dropout)          (None, 20)                0         \n",
      "_________________________________________________________________\n",
      "dense_3 (Dense)              (None, 16)                336       \n",
      "_________________________________________________________________\n",
      "dense_4 (Dense)              (None, 1)                 17        \n",
      "=================================================================\n",
      "Total params: 3,754\n",
      "Trainable params: 693\n",
      "Non-trainable params: 3,061\n",
      "_________________________________________________________________\n"
     ]
    }
   ],
   "source": [
    "model.summary()"
   ]
  },
  {
   "cell_type": "code",
   "execution_count": 6,
   "metadata": {},
   "outputs": [
    {
     "name": "stdout",
     "output_type": "stream",
     "text": [
      "417/417 [==============================] - 0s 63us/step\n"
     ]
    },
    {
     "data": {
      "text/plain": [
       "[0.26625820751384577, 0.9112709832134293]"
      ]
     },
     "execution_count": 6,
     "metadata": {},
     "output_type": "execute_result"
    }
   ],
   "source": [
    "model.evaluate(X_test, y_test) # fonction d'erreur (binary cross entropy) + Accuracy"
   ]
  },
  {
   "cell_type": "code",
   "execution_count": 7,
   "metadata": {},
   "outputs": [
    {
     "data": {
      "text/plain": [
       "<Figure size 640x480 with 2 Axes>"
      ]
     },
     "metadata": {},
     "output_type": "display_data"
    }
   ],
   "source": [
    "from matplotlib import pyplot\n",
    "\n",
    "# Tracer la courbe d'erreur pendant l'apprentissage\n",
    "pyplot.subplot(211)\n",
    "pyplot.title('Loss')\n",
    "pyplot.plot(history.history['loss'], label='train')\n",
    "pyplot.plot(history.history['val_loss'], label='validation')\n",
    "pyplot.legend()\n",
    "# Tracer la courbe de la précision pendant l'apprentissage\n",
    "pyplot.subplot(212)\n",
    "pyplot.title('Accuracy')\n",
    "pyplot.plot(history.history['acc'], label='train')\n",
    "pyplot.plot(history.history['val_acc'], label='validation')\n",
    "pyplot.legend()\n",
    "pyplot.show()"
   ]
  },
  {
   "cell_type": "code",
   "execution_count": 8,
   "metadata": {},
   "outputs": [
    {
     "name": "stdout",
     "output_type": "stream",
     "text": [
      "La matrice de confusion:\n",
      " [[263   2]\n",
      " [ 35 117]]\n"
     ]
    }
   ],
   "source": [
    "import numpy as np\n",
    "from sklearn.metrics import confusion_matrix\n",
    "\n",
    "# La matrice de confusion\n",
    "print(\"La matrice de confusion:\\n {}\".format(confusion_matrix(y_test, model.predict_classes(X_test))))"
   ]
  },
  {
   "cell_type": "code",
   "execution_count": null,
   "metadata": {},
   "outputs": [],
   "source": []
  }
 ],
 "metadata": {
  "kernelspec": {
   "display_name": "Python 3",
   "language": "python",
   "name": "python3"
  },
  "language_info": {
   "codemirror_mode": {
    "name": "ipython",
    "version": 3
   },
   "file_extension": ".py",
   "mimetype": "text/x-python",
   "name": "python",
   "nbconvert_exporter": "python",
   "pygments_lexer": "ipython3",
   "version": "3.6.5"
  }
 },
 "nbformat": 4,
 "nbformat_minor": 2
}
