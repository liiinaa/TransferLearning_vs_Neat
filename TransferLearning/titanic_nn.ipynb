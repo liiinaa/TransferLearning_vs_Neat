{
 "cells": [
  {
   "cell_type": "markdown",
   "metadata": {},
   "source": [
    "# Transfer learning appliqué à la dataset du titanic (Classification binaire)"
   ]
  },
  {
   "cell_type": "markdown",
   "metadata": {},
   "source": [
    "## Importer les données train et test du titanic"
   ]
  },
  {
   "cell_type": "code",
   "execution_count": 1,
   "metadata": {},
   "outputs": [
    {
     "name": "stdout",
     "output_type": "stream",
     "text": [
      "(889, 10)\n",
      "(417, 10)\n",
      "(889, 1)\n",
      "(417, 1)\n"
     ]
    }
   ],
   "source": [
    "%store -r X_train\n",
    "%store -r X_test\n",
    "%store -r y_train\n",
    "%store -r y_test\n",
    "print(X_train.shape)\n",
    "print(X_test.shape)\n",
    "print(y_train.shape)\n",
    "print(y_test.shape)"
   ]
  },
  {
   "cell_type": "markdown",
   "metadata": {},
   "source": [
    "## Importer l'architecture du modèle et les poids"
   ]
  },
  {
   "cell_type": "code",
   "execution_count": 2,
   "metadata": {},
   "outputs": [
    {
     "name": "stderr",
     "output_type": "stream",
     "text": [
      "Using TensorFlow backend.\n"
     ]
    },
    {
     "name": "stdout",
     "output_type": "stream",
     "text": [
      "Le modèle et les poids sont chargés\n"
     ]
    }
   ],
   "source": [
    "from keras.models import model_from_json\n",
    "\n",
    "# Charger le fichier json and créer le modèle\n",
    "json_file = open('model.json', 'r')\n",
    "loaded_model_json = json_file.read()\n",
    "json_file.close()\n",
    "loaded_model = model_from_json(loaded_model_json)\n",
    "# Charger les poids du modèle\n",
    "loaded_model.load_weights(\"model.h5\")\n",
    "print(\"Le modèle et les poids sont chargés\")"
   ]
  },
  {
   "cell_type": "markdown",
   "metadata": {},
   "source": [
    "## Ajouter une couche d'entrée et figer les poids du modèle entrainé"
   ]
  },
  {
   "cell_type": "code",
   "execution_count": 3,
   "metadata": {},
   "outputs": [],
   "source": [
    "from keras.layers import Input, Dense\n",
    "from keras.optimizers import Adam\n",
    "from keras.models import Model\n",
    "from keras.models import Sequential\n",
    "\n",
    "# Créer un modèle séquentiel avec une couche\n",
    "model = Sequential()\n",
    "model.add(Dense(63, input_dim=10, activation='relu', name='dense_0'))\n",
    "# Ajouter les couches du modèle entrainé\n",
    "for i in range(len(loaded_model.layers)):\n",
    "    model.add(loaded_model.layers[i])\n",
    "\n",
    "# Figer les poids du modèle entrainé\n",
    "for i in range(1,len(model.layers)):\n",
    "    model.layers[i].trainable = False\n",
    "\n",
    "# Compiler le modèle\n",
    "adam = Adam(lr=0.001)\n",
    "model.compile(optimizer=adam, loss='binary_crossentropy', metrics=['accuracy'])\n"
   ]
  },
  {
   "cell_type": "code",
   "execution_count": 4,
   "metadata": {},
   "outputs": [
    {
     "name": "stdout",
     "output_type": "stream",
     "text": [
      "Train on 711 samples, validate on 178 samples\n",
      "Epoch 1/100\n",
      "711/711 [==============================] - 0s 398us/step - loss: 4.0439 - acc: 0.3910 - val_loss: 3.2571 - val_acc: 0.3539\n",
      "Epoch 2/100\n",
      "711/711 [==============================] - 0s 45us/step - loss: 2.1800 - acc: 0.4374 - val_loss: 1.0942 - val_acc: 0.5562\n",
      "Epoch 3/100\n",
      "711/711 [==============================] - 0s 44us/step - loss: 1.0499 - acc: 0.6104 - val_loss: 0.7185 - val_acc: 0.7135\n",
      "Epoch 4/100\n",
      "711/711 [==============================] - 0s 44us/step - loss: 0.7664 - acc: 0.6948 - val_loss: 0.5426 - val_acc: 0.7921\n",
      "Epoch 5/100\n",
      "711/711 [==============================] - 0s 46us/step - loss: 0.6436 - acc: 0.7342 - val_loss: 0.4795 - val_acc: 0.8146\n",
      "Epoch 6/100\n",
      "711/711 [==============================] - 0s 46us/step - loss: 0.5808 - acc: 0.7707 - val_loss: 0.4543 - val_acc: 0.8090\n",
      "Epoch 7/100\n",
      "711/711 [==============================] - 0s 47us/step - loss: 0.5767 - acc: 0.7623 - val_loss: 0.4372 - val_acc: 0.8427\n",
      "Epoch 8/100\n",
      "711/711 [==============================] - 0s 44us/step - loss: 0.5571 - acc: 0.7764 - val_loss: 0.4318 - val_acc: 0.8315\n",
      "Epoch 9/100\n",
      "711/711 [==============================] - 0s 45us/step - loss: 0.5763 - acc: 0.7609 - val_loss: 0.4211 - val_acc: 0.8258\n",
      "Epoch 10/100\n",
      "711/711 [==============================] - 0s 47us/step - loss: 0.5118 - acc: 0.7975 - val_loss: 0.4081 - val_acc: 0.8315\n",
      "Epoch 11/100\n",
      "711/711 [==============================] - 0s 47us/step - loss: 0.5129 - acc: 0.7736 - val_loss: 0.3977 - val_acc: 0.8371\n",
      "Epoch 12/100\n",
      "711/711 [==============================] - 0s 46us/step - loss: 0.4983 - acc: 0.7947 - val_loss: 0.3859 - val_acc: 0.8371\n",
      "Epoch 13/100\n",
      "711/711 [==============================] - 0s 45us/step - loss: 0.4765 - acc: 0.7890 - val_loss: 0.3812 - val_acc: 0.8258\n",
      "Epoch 14/100\n",
      "711/711 [==============================] - 0s 47us/step - loss: 0.4980 - acc: 0.7862 - val_loss: 0.3774 - val_acc: 0.8315\n",
      "Epoch 15/100\n",
      "711/711 [==============================] - 0s 45us/step - loss: 0.4967 - acc: 0.7890 - val_loss: 0.3775 - val_acc: 0.8315\n",
      "Epoch 16/100\n",
      "711/711 [==============================] - 0s 48us/step - loss: 0.4805 - acc: 0.7834 - val_loss: 0.3717 - val_acc: 0.8427\n",
      "Epoch 17/100\n",
      "711/711 [==============================] - 0s 47us/step - loss: 0.4746 - acc: 0.7961 - val_loss: 0.3692 - val_acc: 0.8258\n",
      "Epoch 18/100\n",
      "711/711 [==============================] - 0s 53us/step - loss: 0.4986 - acc: 0.7862 - val_loss: 0.3656 - val_acc: 0.8315\n",
      "Epoch 19/100\n",
      "711/711 [==============================] - 0s 57us/step - loss: 0.4689 - acc: 0.7961 - val_loss: 0.3629 - val_acc: 0.8371\n",
      "Epoch 20/100\n",
      "711/711 [==============================] - 0s 55us/step - loss: 0.4740 - acc: 0.7961 - val_loss: 0.3622 - val_acc: 0.8427\n",
      "Epoch 21/100\n",
      "711/711 [==============================] - 0s 56us/step - loss: 0.4816 - acc: 0.7904 - val_loss: 0.3625 - val_acc: 0.8371\n",
      "Epoch 22/100\n",
      "711/711 [==============================] - 0s 58us/step - loss: 0.4646 - acc: 0.8017 - val_loss: 0.3596 - val_acc: 0.8539\n",
      "Epoch 23/100\n",
      "711/711 [==============================] - 0s 54us/step - loss: 0.4617 - acc: 0.8087 - val_loss: 0.3568 - val_acc: 0.8539\n",
      "Epoch 24/100\n",
      "711/711 [==============================] - 0s 59us/step - loss: 0.4897 - acc: 0.7778 - val_loss: 0.3575 - val_acc: 0.8539\n",
      "Epoch 25/100\n",
      "711/711 [==============================] - 0s 55us/step - loss: 0.4703 - acc: 0.7918 - val_loss: 0.3574 - val_acc: 0.8539\n",
      "Epoch 26/100\n",
      "711/711 [==============================] - 0s 57us/step - loss: 0.4524 - acc: 0.8031 - val_loss: 0.3612 - val_acc: 0.8596\n",
      "Epoch 27/100\n",
      "711/711 [==============================] - 0s 54us/step - loss: 0.4596 - acc: 0.8059 - val_loss: 0.3575 - val_acc: 0.8596\n",
      "Epoch 28/100\n",
      "711/711 [==============================] - 0s 57us/step - loss: 0.4520 - acc: 0.8087 - val_loss: 0.3576 - val_acc: 0.8483\n",
      "Epoch 29/100\n",
      "711/711 [==============================] - 0s 53us/step - loss: 0.4673 - acc: 0.8031 - val_loss: 0.3547 - val_acc: 0.8483\n",
      "Epoch 30/100\n",
      "711/711 [==============================] - 0s 50us/step - loss: 0.4393 - acc: 0.8031 - val_loss: 0.3557 - val_acc: 0.8652\n",
      "Epoch 31/100\n",
      "711/711 [==============================] - 0s 44us/step - loss: 0.4480 - acc: 0.8115 - val_loss: 0.3547 - val_acc: 0.8596\n",
      "Epoch 32/100\n",
      "711/711 [==============================] - 0s 44us/step - loss: 0.4577 - acc: 0.7989 - val_loss: 0.3540 - val_acc: 0.8596\n",
      "Epoch 33/100\n",
      "711/711 [==============================] - 0s 44us/step - loss: 0.4535 - acc: 0.8003 - val_loss: 0.3541 - val_acc: 0.8539\n",
      "Epoch 34/100\n",
      "711/711 [==============================] - 0s 43us/step - loss: 0.4613 - acc: 0.8017 - val_loss: 0.3550 - val_acc: 0.8539\n",
      "Epoch 35/100\n",
      "711/711 [==============================] - 0s 45us/step - loss: 0.4644 - acc: 0.7975 - val_loss: 0.3601 - val_acc: 0.8539\n",
      "Epoch 36/100\n",
      "711/711 [==============================] - 0s 52us/step - loss: 0.4542 - acc: 0.8017 - val_loss: 0.3537 - val_acc: 0.8539\n",
      "Epoch 37/100\n",
      "711/711 [==============================] - 0s 73us/step - loss: 0.4558 - acc: 0.7975 - val_loss: 0.3521 - val_acc: 0.8539\n",
      "Epoch 38/100\n",
      "711/711 [==============================] - 0s 86us/step - loss: 0.4639 - acc: 0.7989 - val_loss: 0.3505 - val_acc: 0.8539\n",
      "Epoch 39/100\n",
      "711/711 [==============================] - 0s 68us/step - loss: 0.4558 - acc: 0.7904 - val_loss: 0.3498 - val_acc: 0.8596\n",
      "Epoch 40/100\n",
      "711/711 [==============================] - 0s 65us/step - loss: 0.4443 - acc: 0.7975 - val_loss: 0.3485 - val_acc: 0.8652\n",
      "Epoch 41/100\n",
      "711/711 [==============================] - 0s 58us/step - loss: 0.4446 - acc: 0.8115 - val_loss: 0.3465 - val_acc: 0.8483\n",
      "Epoch 42/100\n",
      "711/711 [==============================] - 0s 54us/step - loss: 0.4608 - acc: 0.8017 - val_loss: 0.3465 - val_acc: 0.8708\n",
      "Epoch 43/100\n",
      "711/711 [==============================] - 0s 54us/step - loss: 0.4487 - acc: 0.8003 - val_loss: 0.3461 - val_acc: 0.8652\n",
      "Epoch 44/100\n",
      "711/711 [==============================] - 0s 52us/step - loss: 0.4468 - acc: 0.8214 - val_loss: 0.3478 - val_acc: 0.8596\n",
      "Epoch 45/100\n",
      "711/711 [==============================] - 0s 55us/step - loss: 0.4371 - acc: 0.8228 - val_loss: 0.3458 - val_acc: 0.8652\n",
      "Epoch 46/100\n",
      "711/711 [==============================] - 0s 65us/step - loss: 0.4420 - acc: 0.8158 - val_loss: 0.3425 - val_acc: 0.8596\n",
      "Epoch 47/100\n",
      "711/711 [==============================] - 0s 68us/step - loss: 0.4544 - acc: 0.7932 - val_loss: 0.3447 - val_acc: 0.8708\n",
      "Epoch 48/100\n",
      "711/711 [==============================] - 0s 69us/step - loss: 0.4467 - acc: 0.8186 - val_loss: 0.3446 - val_acc: 0.8596\n",
      "Epoch 49/100\n",
      "711/711 [==============================] - 0s 60us/step - loss: 0.4231 - acc: 0.8143 - val_loss: 0.3460 - val_acc: 0.8708\n",
      "Epoch 50/100\n",
      "711/711 [==============================] - 0s 57us/step - loss: 0.4337 - acc: 0.8045 - val_loss: 0.3445 - val_acc: 0.8652\n",
      "Epoch 51/100\n",
      "711/711 [==============================] - 0s 64us/step - loss: 0.4422 - acc: 0.8087 - val_loss: 0.3446 - val_acc: 0.8652\n",
      "Epoch 52/100\n",
      "711/711 [==============================] - 0s 63us/step - loss: 0.4430 - acc: 0.8101 - val_loss: 0.3432 - val_acc: 0.8652\n",
      "Epoch 53/100\n",
      "711/711 [==============================] - 0s 63us/step - loss: 0.4380 - acc: 0.8200 - val_loss: 0.3422 - val_acc: 0.8708\n",
      "Epoch 54/100\n",
      "711/711 [==============================] - 0s 62us/step - loss: 0.4381 - acc: 0.8101 - val_loss: 0.3437 - val_acc: 0.8708\n",
      "Epoch 55/100\n",
      "711/711 [==============================] - 0s 61us/step - loss: 0.4159 - acc: 0.8214 - val_loss: 0.3420 - val_acc: 0.8708\n",
      "Epoch 56/100\n",
      "711/711 [==============================] - 0s 63us/step - loss: 0.4355 - acc: 0.8045 - val_loss: 0.3422 - val_acc: 0.8708\n",
      "Epoch 57/100\n",
      "711/711 [==============================] - 0s 63us/step - loss: 0.4407 - acc: 0.7947 - val_loss: 0.3453 - val_acc: 0.8708\n",
      "Epoch 58/100\n",
      "711/711 [==============================] - 0s 50us/step - loss: 0.4462 - acc: 0.8059 - val_loss: 0.3443 - val_acc: 0.8708\n",
      "Epoch 59/100\n",
      "711/711 [==============================] - 0s 55us/step - loss: 0.4569 - acc: 0.8031 - val_loss: 0.3428 - val_acc: 0.8708\n",
      "Epoch 60/100\n",
      "711/711 [==============================] - 0s 53us/step - loss: 0.4327 - acc: 0.8129 - val_loss: 0.3419 - val_acc: 0.8708\n",
      "Epoch 61/100\n"
     ]
    },
    {
     "name": "stdout",
     "output_type": "stream",
     "text": [
      "711/711 [==============================] - 0s 55us/step - loss: 0.4370 - acc: 0.8172 - val_loss: 0.3422 - val_acc: 0.8764\n",
      "Epoch 62/100\n",
      "711/711 [==============================] - 0s 51us/step - loss: 0.4259 - acc: 0.8284 - val_loss: 0.3421 - val_acc: 0.8652\n",
      "Epoch 63/100\n",
      "711/711 [==============================] - 0s 41us/step - loss: 0.4434 - acc: 0.8017 - val_loss: 0.3394 - val_acc: 0.8764\n",
      "Epoch 64/100\n",
      "711/711 [==============================] - 0s 39us/step - loss: 0.4498 - acc: 0.8115 - val_loss: 0.3404 - val_acc: 0.8708\n",
      "Epoch 65/100\n",
      "711/711 [==============================] - 0s 44us/step - loss: 0.4337 - acc: 0.8214 - val_loss: 0.3399 - val_acc: 0.8708\n",
      "Epoch 66/100\n",
      "711/711 [==============================] - 0s 45us/step - loss: 0.4316 - acc: 0.8101 - val_loss: 0.3404 - val_acc: 0.8820\n",
      "Epoch 67/100\n",
      "711/711 [==============================] - 0s 46us/step - loss: 0.4378 - acc: 0.8256 - val_loss: 0.3401 - val_acc: 0.8820\n",
      "Epoch 68/100\n",
      "711/711 [==============================] - 0s 47us/step - loss: 0.4283 - acc: 0.8172 - val_loss: 0.3396 - val_acc: 0.8708\n",
      "Epoch 69/100\n",
      "711/711 [==============================] - 0s 48us/step - loss: 0.4264 - acc: 0.8214 - val_loss: 0.3388 - val_acc: 0.8764\n",
      "Epoch 70/100\n",
      "711/711 [==============================] - 0s 57us/step - loss: 0.4265 - acc: 0.8172 - val_loss: 0.3409 - val_acc: 0.8876\n",
      "Epoch 71/100\n",
      "711/711 [==============================] - 0s 50us/step - loss: 0.4388 - acc: 0.8200 - val_loss: 0.3424 - val_acc: 0.8764\n",
      "Epoch 72/100\n",
      "711/711 [==============================] - 0s 41us/step - loss: 0.4120 - acc: 0.8298 - val_loss: 0.3435 - val_acc: 0.8652\n",
      "Epoch 73/100\n",
      "711/711 [==============================] - 0s 37us/step - loss: 0.4241 - acc: 0.8172 - val_loss: 0.3463 - val_acc: 0.8652\n",
      "Epoch 74/100\n",
      "711/711 [==============================] - 0s 40us/step - loss: 0.4359 - acc: 0.8101 - val_loss: 0.3433 - val_acc: 0.8708\n",
      "Epoch 75/100\n",
      "711/711 [==============================] - 0s 42us/step - loss: 0.4329 - acc: 0.8031 - val_loss: 0.3432 - val_acc: 0.8764\n",
      "Epoch 76/100\n",
      "711/711 [==============================] - 0s 40us/step - loss: 0.4311 - acc: 0.8200 - val_loss: 0.3425 - val_acc: 0.8708\n",
      "Epoch 77/100\n",
      "711/711 [==============================] - 0s 38us/step - loss: 0.4400 - acc: 0.8115 - val_loss: 0.3411 - val_acc: 0.8596\n",
      "Epoch 78/100\n",
      "711/711 [==============================] - 0s 41us/step - loss: 0.4330 - acc: 0.8059 - val_loss: 0.3408 - val_acc: 0.8820\n",
      "Epoch 79/100\n",
      "711/711 [==============================] - 0s 40us/step - loss: 0.4448 - acc: 0.8101 - val_loss: 0.3411 - val_acc: 0.8708\n",
      "Epoch 80/100\n",
      "711/711 [==============================] - 0s 45us/step - loss: 0.4253 - acc: 0.8101 - val_loss: 0.3410 - val_acc: 0.8708\n",
      "Epoch 81/100\n",
      "711/711 [==============================] - 0s 95us/step - loss: 0.4312 - acc: 0.8158 - val_loss: 0.3393 - val_acc: 0.8764\n",
      "Epoch 82/100\n",
      "711/711 [==============================] - 0s 73us/step - loss: 0.4179 - acc: 0.8158 - val_loss: 0.3418 - val_acc: 0.8820\n",
      "Epoch 83/100\n",
      "711/711 [==============================] - 0s 58us/step - loss: 0.4364 - acc: 0.8101 - val_loss: 0.3402 - val_acc: 0.8764\n",
      "Epoch 84/100\n",
      "711/711 [==============================] - 0s 62us/step - loss: 0.4220 - acc: 0.8143 - val_loss: 0.3402 - val_acc: 0.8820\n",
      "Epoch 85/100\n",
      "711/711 [==============================] - 0s 52us/step - loss: 0.4209 - acc: 0.8228 - val_loss: 0.3393 - val_acc: 0.8876\n",
      "Epoch 86/100\n",
      "711/711 [==============================] - 0s 55us/step - loss: 0.4239 - acc: 0.8073 - val_loss: 0.3383 - val_acc: 0.8820\n",
      "Epoch 87/100\n",
      "711/711 [==============================] - 0s 58us/step - loss: 0.4202 - acc: 0.8158 - val_loss: 0.3388 - val_acc: 0.8933\n",
      "Epoch 88/100\n",
      "711/711 [==============================] - 0s 64us/step - loss: 0.4245 - acc: 0.8186 - val_loss: 0.3389 - val_acc: 0.8652\n",
      "Epoch 89/100\n",
      "711/711 [==============================] - 0s 59us/step - loss: 0.4212 - acc: 0.8129 - val_loss: 0.3392 - val_acc: 0.8820\n",
      "Epoch 90/100\n",
      "711/711 [==============================] - 0s 58us/step - loss: 0.4283 - acc: 0.8115 - val_loss: 0.3400 - val_acc: 0.8820\n",
      "Epoch 91/100\n",
      "711/711 [==============================] - 0s 59us/step - loss: 0.4229 - acc: 0.8228 - val_loss: 0.3399 - val_acc: 0.8820\n",
      "Epoch 92/100\n",
      "711/711 [==============================] - 0s 50us/step - loss: 0.4328 - acc: 0.8200 - val_loss: 0.3410 - val_acc: 0.8708\n",
      "Epoch 93/100\n",
      "711/711 [==============================] - 0s 51us/step - loss: 0.4289 - acc: 0.8228 - val_loss: 0.3390 - val_acc: 0.8708\n",
      "Epoch 94/100\n",
      "711/711 [==============================] - 0s 53us/step - loss: 0.4214 - acc: 0.8214 - val_loss: 0.3375 - val_acc: 0.8708\n",
      "Epoch 95/100\n",
      "711/711 [==============================] - 0s 47us/step - loss: 0.4363 - acc: 0.8200 - val_loss: 0.3388 - val_acc: 0.8708\n",
      "Epoch 96/100\n",
      "711/711 [==============================] - 0s 41us/step - loss: 0.4260 - acc: 0.8158 - val_loss: 0.3393 - val_acc: 0.8764\n",
      "Epoch 97/100\n",
      "711/711 [==============================] - 0s 43us/step - loss: 0.4269 - acc: 0.8087 - val_loss: 0.3415 - val_acc: 0.8820\n",
      "Epoch 98/100\n",
      "711/711 [==============================] - 0s 44us/step - loss: 0.4196 - acc: 0.8158 - val_loss: 0.3385 - val_acc: 0.8820\n",
      "Epoch 99/100\n",
      "711/711 [==============================] - 0s 52us/step - loss: 0.4047 - acc: 0.8143 - val_loss: 0.3376 - val_acc: 0.8820\n",
      "Epoch 100/100\n",
      "711/711 [==============================] - 0s 49us/step - loss: 0.4263 - acc: 0.8228 - val_loss: 0.3390 - val_acc: 0.8764\n"
     ]
    }
   ],
   "source": [
    "# Entrainer le modèle\n",
    "history = model.fit(X_train, y_train, validation_split=0.20, batch_size=50, epochs=100)"
   ]
  },
  {
   "cell_type": "code",
   "execution_count": 5,
   "metadata": {},
   "outputs": [
    {
     "name": "stdout",
     "output_type": "stream",
     "text": [
      "_________________________________________________________________\n",
      "Layer (type)                 Output Shape              Param #   \n",
      "=================================================================\n",
      "dense_0 (Dense)              (None, 63)                693       \n",
      "_________________________________________________________________\n",
      "dense_1 (Dense)              (None, 32)                2048      \n",
      "_________________________________________________________________\n",
      "dropout_1 (Dropout)          (None, 32)                0         \n",
      "_________________________________________________________________\n",
      "dense_2 (Dense)              (None, 20)                660       \n",
      "_________________________________________________________________\n",
      "dropout_2 (Dropout)          (None, 20)                0         \n",
      "_________________________________________________________________\n",
      "dense_3 (Dense)              (None, 16)                336       \n",
      "_________________________________________________________________\n",
      "dense_4 (Dense)              (None, 1)                 17        \n",
      "=================================================================\n",
      "Total params: 3,754\n",
      "Trainable params: 693\n",
      "Non-trainable params: 3,061\n",
      "_________________________________________________________________\n"
     ]
    }
   ],
   "source": [
    "model.summary()"
   ]
  },
  {
   "cell_type": "code",
   "execution_count": 6,
   "metadata": {},
   "outputs": [
    {
     "name": "stdout",
     "output_type": "stream",
     "text": [
      "417/417 [==============================] - 0s 29us/step\n"
     ]
    },
    {
     "data": {
      "text/plain": [
       "[0.26821641709735927, 0.9112709832134293]"
      ]
     },
     "execution_count": 6,
     "metadata": {},
     "output_type": "execute_result"
    }
   ],
   "source": [
    "model.evaluate(X_test, y_test) # fonction d'erreur (binary cross entropy) + Accuracy"
   ]
  },
  {
   "cell_type": "code",
   "execution_count": 7,
   "metadata": {},
   "outputs": [
    {
     "data": {
      "text/plain": [
       "<Figure size 640x480 with 2 Axes>"
      ]
     },
     "metadata": {},
     "output_type": "display_data"
    }
   ],
   "source": [
    "from matplotlib import pyplot\n",
    "\n",
    "# Tracer la courbe d'erreur pendant l'apprentissage\n",
    "pyplot.subplot(211)\n",
    "pyplot.title('Loss')\n",
    "pyplot.plot(history.history['loss'], label='train')\n",
    "pyplot.plot(history.history['val_loss'], label='validation')\n",
    "pyplot.legend()\n",
    "# Tracer la courbe de la précision pendant l'apprentissage\n",
    "pyplot.subplot(212)\n",
    "pyplot.title('Accuracy')\n",
    "pyplot.plot(history.history['acc'], label='train')\n",
    "pyplot.plot(history.history['val_acc'], label='validation')\n",
    "pyplot.legend()\n",
    "pyplot.show()"
   ]
  },
  {
   "cell_type": "code",
   "execution_count": 8,
   "metadata": {},
   "outputs": [
    {
     "name": "stdout",
     "output_type": "stream",
     "text": [
      "La matrice de confusion:\n",
      " [[257   8]\n",
      " [ 29 123]]\n"
     ]
    }
   ],
   "source": [
    "import numpy as np\n",
    "from sklearn.metrics import confusion_matrix\n",
    "\n",
    "# La matrice de confusion\n",
    "print(\"La matrice de confusion:\\n {}\".format(confusion_matrix(y_test, model.predict_classes(X_test))))"
   ]
  },
  {
   "cell_type": "code",
   "execution_count": 9,
   "metadata": {},
   "outputs": [
    {
     "name": "stdout",
     "output_type": "stream",
     "text": [
      "Saved model to disk\n"
     ]
    }
   ],
   "source": [
    "# enregistrer le modèle en format JSON\n",
    "model_json = model.to_json()\n",
    "with open(\"model_titanic.json\", \"w\") as json_file:\n",
    "    json_file.write(model_json)\n",
    "# enregistrer les poids en format HDF5\n",
    "model.save_weights(\"model_titanic.h5\")\n",
    "print(\"Saved model to disk\")"
   ]
  },
  {
   "cell_type": "code",
   "execution_count": null,
   "metadata": {},
   "outputs": [],
   "source": []
  }
 ],
 "metadata": {
  "kernelspec": {
   "display_name": "Python 3",
   "language": "python",
   "name": "python3"
  },
  "language_info": {
   "codemirror_mode": {
    "name": "ipython",
    "version": 3
   },
   "file_extension": ".py",
   "mimetype": "text/x-python",
   "name": "python",
   "nbconvert_exporter": "python",
   "pygments_lexer": "ipython3",
   "version": "3.6.5"
  }
 },
 "nbformat": 4,
 "nbformat_minor": 2
}
