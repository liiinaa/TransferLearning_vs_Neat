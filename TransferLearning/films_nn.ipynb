{
 "cells": [
  {
   "cell_type": "markdown",
   "metadata": {},
   "source": [
    "## Construction du modèle de la classification des films"
   ]
  },
  {
   "cell_type": "code",
   "execution_count": 1,
   "metadata": {},
   "outputs": [
    {
     "name": "stderr",
     "output_type": "stream",
     "text": [
      "Using TensorFlow backend.\n"
     ]
    },
    {
     "data": {
      "text/plain": [
       "(3839, 63)"
      ]
     },
     "execution_count": 1,
     "metadata": {},
     "output_type": "execute_result"
    }
   ],
   "source": [
    "%store -r X_principalDf\n",
    "%store -r Y\n",
    "from sklearn.model_selection import train_test_split\n",
    "from keras.utils import to_categorical\n",
    "\n",
    "X = X_principalDf\n",
    "# Diviser la dataset en train/test\n",
    "X_train, X_test, y_train, y_test = train_test_split(X, Y, test_size=0.2, random_state=42)\n",
    "X_train.shape"
   ]
  },
  {
   "cell_type": "code",
   "execution_count": 2,
   "metadata": {},
   "outputs": [
    {
     "name": "stdout",
     "output_type": "stream",
     "text": [
      "Train on 2687 samples, validate on 1152 samples\n",
      "Epoch 1/100\n",
      "2687/2687 [==============================] - 0s 182us/step - loss: 0.6967 - acc: 0.5255 - val_loss: 0.6855 - val_acc: 0.5738\n",
      "Epoch 2/100\n",
      "2687/2687 [==============================] - 0s 37us/step - loss: 0.6845 - acc: 0.5646 - val_loss: 0.6753 - val_acc: 0.5720\n",
      "Epoch 3/100\n",
      "2687/2687 [==============================] - 0s 37us/step - loss: 0.6716 - acc: 0.5817 - val_loss: 0.6615 - val_acc: 0.5816\n",
      "Epoch 4/100\n",
      "2687/2687 [==============================] - 0s 35us/step - loss: 0.6626 - acc: 0.5977 - val_loss: 0.6436 - val_acc: 0.6641\n",
      "Epoch 5/100\n",
      "2687/2687 [==============================] - 0s 36us/step - loss: 0.6465 - acc: 0.6330 - val_loss: 0.6266 - val_acc: 0.6736\n",
      "Epoch 6/100\n",
      "2687/2687 [==============================] - 0s 35us/step - loss: 0.6360 - acc: 0.6483 - val_loss: 0.6126 - val_acc: 0.6918\n",
      "Epoch 7/100\n",
      "2687/2687 [==============================] - 0s 36us/step - loss: 0.6256 - acc: 0.6524 - val_loss: 0.6037 - val_acc: 0.6953\n",
      "Epoch 8/100\n",
      "2687/2687 [==============================] - 0s 36us/step - loss: 0.6186 - acc: 0.6721 - val_loss: 0.5978 - val_acc: 0.6849\n",
      "Epoch 9/100\n",
      "2687/2687 [==============================] - 0s 35us/step - loss: 0.6091 - acc: 0.6714 - val_loss: 0.5880 - val_acc: 0.6970\n",
      "Epoch 10/100\n",
      "2687/2687 [==============================] - 0s 35us/step - loss: 0.5983 - acc: 0.6811 - val_loss: 0.5830 - val_acc: 0.7023\n",
      "Epoch 11/100\n",
      "2687/2687 [==============================] - 0s 36us/step - loss: 0.5953 - acc: 0.6892 - val_loss: 0.5777 - val_acc: 0.7083\n",
      "Epoch 12/100\n",
      "2687/2687 [==============================] - 0s 36us/step - loss: 0.5843 - acc: 0.6963 - val_loss: 0.5724 - val_acc: 0.7153\n",
      "Epoch 13/100\n",
      "2687/2687 [==============================] - 0s 35us/step - loss: 0.5860 - acc: 0.6997 - val_loss: 0.5669 - val_acc: 0.7248\n",
      "Epoch 14/100\n",
      "2687/2687 [==============================] - 0s 35us/step - loss: 0.5792 - acc: 0.7030 - val_loss: 0.5647 - val_acc: 0.7231\n",
      "Epoch 15/100\n",
      "2687/2687 [==============================] - 0s 35us/step - loss: 0.5680 - acc: 0.7082 - val_loss: 0.5596 - val_acc: 0.7274\n",
      "Epoch 16/100\n",
      "2687/2687 [==============================] - 0s 35us/step - loss: 0.5787 - acc: 0.6926 - val_loss: 0.5587 - val_acc: 0.7257\n",
      "Epoch 17/100\n",
      "2687/2687 [==============================] - 0s 35us/step - loss: 0.5718 - acc: 0.6978 - val_loss: 0.5545 - val_acc: 0.7309\n",
      "Epoch 18/100\n",
      "2687/2687 [==============================] - 0s 35us/step - loss: 0.5593 - acc: 0.7119 - val_loss: 0.5521 - val_acc: 0.7370\n",
      "Epoch 19/100\n",
      "2687/2687 [==============================] - 0s 36us/step - loss: 0.5582 - acc: 0.7105 - val_loss: 0.5504 - val_acc: 0.7387\n",
      "Epoch 20/100\n",
      "2687/2687 [==============================] - 0s 45us/step - loss: 0.5507 - acc: 0.7131 - val_loss: 0.5477 - val_acc: 0.7378\n",
      "Epoch 21/100\n",
      "2687/2687 [==============================] - 0s 35us/step - loss: 0.5443 - acc: 0.7190 - val_loss: 0.5445 - val_acc: 0.7352\n",
      "Epoch 22/100\n",
      "2687/2687 [==============================] - 0s 33us/step - loss: 0.5480 - acc: 0.7294 - val_loss: 0.5457 - val_acc: 0.7422\n",
      "Epoch 23/100\n",
      "2687/2687 [==============================] - 0s 31us/step - loss: 0.5355 - acc: 0.7354 - val_loss: 0.5409 - val_acc: 0.7413\n",
      "Epoch 24/100\n",
      "2687/2687 [==============================] - 0s 32us/step - loss: 0.5396 - acc: 0.7265 - val_loss: 0.5393 - val_acc: 0.7448\n",
      "Epoch 25/100\n",
      "2687/2687 [==============================] - 0s 34us/step - loss: 0.5474 - acc: 0.7157 - val_loss: 0.5390 - val_acc: 0.7439\n",
      "Epoch 26/100\n",
      "2687/2687 [==============================] - 0s 35us/step - loss: 0.5365 - acc: 0.7320 - val_loss: 0.5374 - val_acc: 0.7457\n",
      "Epoch 27/100\n",
      "2687/2687 [==============================] - 0s 32us/step - loss: 0.5258 - acc: 0.7451 - val_loss: 0.5337 - val_acc: 0.7543\n",
      "Epoch 28/100\n",
      "2687/2687 [==============================] - 0s 31us/step - loss: 0.5287 - acc: 0.7313 - val_loss: 0.5385 - val_acc: 0.7439\n",
      "Epoch 29/100\n",
      "2687/2687 [==============================] - 0s 31us/step - loss: 0.5314 - acc: 0.7328 - val_loss: 0.5330 - val_acc: 0.7517\n",
      "Epoch 30/100\n",
      "2687/2687 [==============================] - 0s 49us/step - loss: 0.5286 - acc: 0.7417 - val_loss: 0.5334 - val_acc: 0.7509\n",
      "Epoch 31/100\n",
      "2687/2687 [==============================] - 0s 41us/step - loss: 0.5215 - acc: 0.7395 - val_loss: 0.5320 - val_acc: 0.7517\n",
      "Epoch 32/100\n",
      "2687/2687 [==============================] - 0s 34us/step - loss: 0.5233 - acc: 0.7354 - val_loss: 0.5290 - val_acc: 0.7587\n",
      "Epoch 33/100\n",
      "2687/2687 [==============================] - 0s 30us/step - loss: 0.5149 - acc: 0.7480 - val_loss: 0.5285 - val_acc: 0.7561\n",
      "Epoch 34/100\n",
      "2687/2687 [==============================] - 0s 30us/step - loss: 0.5164 - acc: 0.7443 - val_loss: 0.5294 - val_acc: 0.7569\n",
      "Epoch 35/100\n",
      "2687/2687 [==============================] - 0s 67us/step - loss: 0.5097 - acc: 0.7436 - val_loss: 0.5290 - val_acc: 0.7543\n",
      "Epoch 36/100\n",
      "2687/2687 [==============================] - 0s 68us/step - loss: 0.5132 - acc: 0.7447 - val_loss: 0.5267 - val_acc: 0.7569\n",
      "Epoch 37/100\n",
      "2687/2687 [==============================] - 0s 45us/step - loss: 0.5136 - acc: 0.7410 - val_loss: 0.5316 - val_acc: 0.7543\n",
      "Epoch 38/100\n",
      "2687/2687 [==============================] - 0s 35us/step - loss: 0.5084 - acc: 0.7503 - val_loss: 0.5253 - val_acc: 0.7604\n",
      "Epoch 39/100\n",
      "2687/2687 [==============================] - 0s 59us/step - loss: 0.4977 - acc: 0.7633 - val_loss: 0.5293 - val_acc: 0.7483\n",
      "Epoch 40/100\n",
      "2687/2687 [==============================] - 0s 29us/step - loss: 0.5041 - acc: 0.7533 - val_loss: 0.5257 - val_acc: 0.7604\n",
      "Epoch 41/100\n",
      "2687/2687 [==============================] - 0s 28us/step - loss: 0.4981 - acc: 0.7469 - val_loss: 0.5242 - val_acc: 0.7648\n",
      "Epoch 42/100\n",
      "2687/2687 [==============================] - 0s 30us/step - loss: 0.5076 - acc: 0.7421 - val_loss: 0.5222 - val_acc: 0.7622\n",
      "Epoch 43/100\n",
      "2687/2687 [==============================] - 0s 29us/step - loss: 0.4943 - acc: 0.7559 - val_loss: 0.5222 - val_acc: 0.7604\n",
      "Epoch 44/100\n",
      "2687/2687 [==============================] - 0s 29us/step - loss: 0.4947 - acc: 0.7525 - val_loss: 0.5260 - val_acc: 0.7561\n",
      "Epoch 45/100\n",
      "2687/2687 [==============================] - 0s 29us/step - loss: 0.4960 - acc: 0.7611 - val_loss: 0.5216 - val_acc: 0.7604\n",
      "Epoch 46/100\n",
      "2687/2687 [==============================] - 0s 41us/step - loss: 0.4956 - acc: 0.7540 - val_loss: 0.5253 - val_acc: 0.7526\n",
      "Epoch 47/100\n",
      "2687/2687 [==============================] - 0s 62us/step - loss: 0.4904 - acc: 0.7640 - val_loss: 0.5247 - val_acc: 0.7578\n",
      "Epoch 48/100\n",
      "2687/2687 [==============================] - 0s 35us/step - loss: 0.4943 - acc: 0.7596 - val_loss: 0.5212 - val_acc: 0.7604\n",
      "Epoch 49/100\n",
      "2687/2687 [==============================] - 0s 28us/step - loss: 0.4967 - acc: 0.7592 - val_loss: 0.5219 - val_acc: 0.7622\n",
      "Epoch 50/100\n",
      "2687/2687 [==============================] - 0s 32us/step - loss: 0.4899 - acc: 0.7603 - val_loss: 0.5229 - val_acc: 0.7587\n",
      "Epoch 51/100\n",
      "2687/2687 [==============================] - 0s 37us/step - loss: 0.4913 - acc: 0.7693 - val_loss: 0.5216 - val_acc: 0.7604\n",
      "Epoch 52/100\n",
      "2687/2687 [==============================] - 0s 36us/step - loss: 0.4867 - acc: 0.7626 - val_loss: 0.5211 - val_acc: 0.7639\n",
      "Epoch 53/100\n",
      "2687/2687 [==============================] - 0s 45us/step - loss: 0.4831 - acc: 0.7667 - val_loss: 0.5231 - val_acc: 0.7630\n",
      "Epoch 54/100\n",
      "2687/2687 [==============================] - 0s 47us/step - loss: 0.4843 - acc: 0.7622 - val_loss: 0.5224 - val_acc: 0.7604\n",
      "Epoch 55/100\n",
      "2687/2687 [==============================] - 0s 42us/step - loss: 0.4787 - acc: 0.7678 - val_loss: 0.5193 - val_acc: 0.7639\n",
      "Epoch 56/100\n",
      "2687/2687 [==============================] - 0s 34us/step - loss: 0.4839 - acc: 0.7640 - val_loss: 0.5215 - val_acc: 0.7613\n",
      "Epoch 57/100\n",
      "2687/2687 [==============================] - 0s 38us/step - loss: 0.4820 - acc: 0.7726 - val_loss: 0.5209 - val_acc: 0.7595\n",
      "Epoch 58/100\n",
      "2687/2687 [==============================] - 0s 34us/step - loss: 0.4848 - acc: 0.7674 - val_loss: 0.5204 - val_acc: 0.7630\n",
      "Epoch 59/100\n",
      "2687/2687 [==============================] - 0s 33us/step - loss: 0.4738 - acc: 0.7711 - val_loss: 0.5211 - val_acc: 0.7613\n",
      "Epoch 60/100\n"
     ]
    },
    {
     "name": "stdout",
     "output_type": "stream",
     "text": [
      "2687/2687 [==============================] - 0s 32us/step - loss: 0.4781 - acc: 0.7655 - val_loss: 0.5193 - val_acc: 0.7630\n",
      "Epoch 61/100\n",
      "2687/2687 [==============================] - 0s 31us/step - loss: 0.4767 - acc: 0.7678 - val_loss: 0.5181 - val_acc: 0.7674\n",
      "Epoch 62/100\n",
      "2687/2687 [==============================] - 0s 38us/step - loss: 0.4823 - acc: 0.7659 - val_loss: 0.5178 - val_acc: 0.7665\n",
      "Epoch 63/100\n",
      "2687/2687 [==============================] - 0s 32us/step - loss: 0.4800 - acc: 0.7693 - val_loss: 0.5202 - val_acc: 0.7587\n",
      "Epoch 64/100\n",
      "2687/2687 [==============================] - 0s 35us/step - loss: 0.4815 - acc: 0.7722 - val_loss: 0.5182 - val_acc: 0.7674\n",
      "Epoch 65/100\n",
      "2687/2687 [==============================] - 0s 49us/step - loss: 0.4732 - acc: 0.7778 - val_loss: 0.5193 - val_acc: 0.7674\n",
      "Epoch 66/100\n",
      "2687/2687 [==============================] - 0s 37us/step - loss: 0.4783 - acc: 0.7719 - val_loss: 0.5193 - val_acc: 0.7656\n",
      "Epoch 67/100\n",
      "2687/2687 [==============================] - 0s 33us/step - loss: 0.4783 - acc: 0.7696 - val_loss: 0.5177 - val_acc: 0.7674\n",
      "Epoch 68/100\n",
      "2687/2687 [==============================] - 0s 30us/step - loss: 0.4670 - acc: 0.7841 - val_loss: 0.5178 - val_acc: 0.7726\n",
      "Epoch 69/100\n",
      "2687/2687 [==============================] - 0s 29us/step - loss: 0.4788 - acc: 0.7719 - val_loss: 0.5188 - val_acc: 0.7691\n",
      "Epoch 70/100\n",
      "2687/2687 [==============================] - 0s 31us/step - loss: 0.4781 - acc: 0.7674 - val_loss: 0.5191 - val_acc: 0.7656\n",
      "Epoch 71/100\n",
      "2687/2687 [==============================] - 0s 35us/step - loss: 0.4699 - acc: 0.7763 - val_loss: 0.5175 - val_acc: 0.7656\n",
      "Epoch 72/100\n",
      "2687/2687 [==============================] - 0s 36us/step - loss: 0.4667 - acc: 0.7741 - val_loss: 0.5206 - val_acc: 0.7604\n",
      "Epoch 73/100\n",
      "2687/2687 [==============================] - 0s 38us/step - loss: 0.4734 - acc: 0.7696 - val_loss: 0.5180 - val_acc: 0.7648\n",
      "Epoch 74/100\n",
      "2687/2687 [==============================] - 0s 36us/step - loss: 0.4636 - acc: 0.7722 - val_loss: 0.5171 - val_acc: 0.7648\n",
      "Epoch 75/100\n",
      "2687/2687 [==============================] - 0s 38us/step - loss: 0.4657 - acc: 0.7778 - val_loss: 0.5174 - val_acc: 0.7656\n",
      "Epoch 76/100\n",
      "2687/2687 [==============================] - 0s 39us/step - loss: 0.4717 - acc: 0.7745 - val_loss: 0.5190 - val_acc: 0.7674\n",
      "Epoch 77/100\n",
      "2687/2687 [==============================] - 0s 37us/step - loss: 0.4622 - acc: 0.7834 - val_loss: 0.5190 - val_acc: 0.7656\n",
      "Epoch 78/100\n",
      "2687/2687 [==============================] - 0s 33us/step - loss: 0.4675 - acc: 0.7752 - val_loss: 0.5192 - val_acc: 0.7674\n",
      "Epoch 79/100\n",
      "2687/2687 [==============================] - 0s 33us/step - loss: 0.4693 - acc: 0.7707 - val_loss: 0.5170 - val_acc: 0.7665\n",
      "Epoch 80/100\n",
      "2687/2687 [==============================] - 0s 29us/step - loss: 0.4684 - acc: 0.7670 - val_loss: 0.5177 - val_acc: 0.7656\n",
      "Epoch 81/100\n",
      "2687/2687 [==============================] - 0s 29us/step - loss: 0.4695 - acc: 0.7752 - val_loss: 0.5166 - val_acc: 0.7674\n",
      "Epoch 82/100\n",
      "2687/2687 [==============================] - 0s 29us/step - loss: 0.4609 - acc: 0.7841 - val_loss: 0.5173 - val_acc: 0.7630\n",
      "Epoch 83/100\n",
      "2687/2687 [==============================] - 0s 35us/step - loss: 0.4660 - acc: 0.7763 - val_loss: 0.5169 - val_acc: 0.7682\n",
      "Epoch 84/100\n",
      "2687/2687 [==============================] - 0s 41us/step - loss: 0.4606 - acc: 0.7815 - val_loss: 0.5173 - val_acc: 0.7682\n",
      "Epoch 85/100\n",
      "2687/2687 [==============================] - 0s 33us/step - loss: 0.4696 - acc: 0.7789 - val_loss: 0.5176 - val_acc: 0.7648\n",
      "Epoch 86/100\n",
      "2687/2687 [==============================] - 0s 32us/step - loss: 0.4573 - acc: 0.7778 - val_loss: 0.5170 - val_acc: 0.7682\n",
      "Epoch 87/100\n",
      "2687/2687 [==============================] - 0s 36us/step - loss: 0.4725 - acc: 0.7722 - val_loss: 0.5174 - val_acc: 0.7708\n",
      "Epoch 88/100\n",
      "2687/2687 [==============================] - 0s 40us/step - loss: 0.4637 - acc: 0.7778 - val_loss: 0.5169 - val_acc: 0.7700\n",
      "Epoch 89/100\n",
      "2687/2687 [==============================] - 0s 46us/step - loss: 0.4658 - acc: 0.7815 - val_loss: 0.5185 - val_acc: 0.7691\n",
      "Epoch 90/100\n",
      "2687/2687 [==============================] - 0s 43us/step - loss: 0.4604 - acc: 0.7830 - val_loss: 0.5181 - val_acc: 0.7691\n",
      "Epoch 91/100\n",
      "2687/2687 [==============================] - 0s 51us/step - loss: 0.4629 - acc: 0.7879 - val_loss: 0.5177 - val_acc: 0.7682\n",
      "Epoch 92/100\n",
      "2687/2687 [==============================] - 0s 38us/step - loss: 0.4556 - acc: 0.7845 - val_loss: 0.5180 - val_acc: 0.7674\n",
      "Epoch 93/100\n",
      "2687/2687 [==============================] - 0s 36us/step - loss: 0.4627 - acc: 0.7789 - val_loss: 0.5197 - val_acc: 0.7682\n",
      "Epoch 94/100\n",
      "2687/2687 [==============================] - 0s 33us/step - loss: 0.4600 - acc: 0.7786 - val_loss: 0.5181 - val_acc: 0.7708\n",
      "Epoch 95/100\n",
      "2687/2687 [==============================] - 0s 29us/step - loss: 0.4598 - acc: 0.7853 - val_loss: 0.5184 - val_acc: 0.7700\n",
      "Epoch 96/100\n",
      "2687/2687 [==============================] - 0s 29us/step - loss: 0.4575 - acc: 0.7860 - val_loss: 0.5180 - val_acc: 0.7691\n",
      "Epoch 97/100\n",
      "2687/2687 [==============================] - 0s 29us/step - loss: 0.4608 - acc: 0.7830 - val_loss: 0.5196 - val_acc: 0.7691\n",
      "Epoch 98/100\n",
      "2687/2687 [==============================] - 0s 29us/step - loss: 0.4576 - acc: 0.7815 - val_loss: 0.5198 - val_acc: 0.7700\n",
      "Epoch 99/100\n",
      "2687/2687 [==============================] - 0s 29us/step - loss: 0.4654 - acc: 0.7767 - val_loss: 0.5182 - val_acc: 0.7674\n",
      "Epoch 100/100\n",
      "2687/2687 [==============================] - 0s 28us/step - loss: 0.4595 - acc: 0.7838 - val_loss: 0.5201 - val_acc: 0.7656\n"
     ]
    }
   ],
   "source": [
    "from keras.models import Sequential\n",
    "from keras.layers import Dense, Dropout \n",
    "from keras.activations import relu, sigmoid\n",
    "from keras.optimizers import Adam\n",
    "\n",
    "# Construire le modèle\n",
    "model = Sequential()\n",
    "model.add(Dense(32, activation='relu', input_dim=X_train.shape[1]))\n",
    "model.add(Dropout(0.2))\n",
    "model.add(Dense(20, activation='relu'))\n",
    "model.add(Dropout(0.2))\n",
    "model.add(Dense(16, activation='relu'))\n",
    "model.add(Dense(1, activation='sigmoid'))\n",
    "adam = Adam(lr=0.001, decay = 0.001)\n",
    "model.compile(optimizer=adam, loss='binary_crossentropy', metrics=['accuracy'])\n",
    "\n",
    "# Entrainer le modèle\n",
    "history = model.fit(X_train, y_train, validation_split=0.30, batch_size=100, epochs=100)"
   ]
  },
  {
   "cell_type": "code",
   "execution_count": 3,
   "metadata": {
    "scrolled": true
   },
   "outputs": [
    {
     "name": "stdout",
     "output_type": "stream",
     "text": [
      "_________________________________________________________________\n",
      "Layer (type)                 Output Shape              Param #   \n",
      "=================================================================\n",
      "dense_1 (Dense)              (None, 32)                2048      \n",
      "_________________________________________________________________\n",
      "dropout_1 (Dropout)          (None, 32)                0         \n",
      "_________________________________________________________________\n",
      "dense_2 (Dense)              (None, 20)                660       \n",
      "_________________________________________________________________\n",
      "dropout_2 (Dropout)          (None, 20)                0         \n",
      "_________________________________________________________________\n",
      "dense_3 (Dense)              (None, 16)                336       \n",
      "_________________________________________________________________\n",
      "dense_4 (Dense)              (None, 1)                 17        \n",
      "=================================================================\n",
      "Total params: 3,061\n",
      "Trainable params: 3,061\n",
      "Non-trainable params: 0\n",
      "_________________________________________________________________\n"
     ]
    }
   ],
   "source": [
    "model.summary()"
   ]
  },
  {
   "cell_type": "code",
   "execution_count": 4,
   "metadata": {},
   "outputs": [
    {
     "name": "stdout",
     "output_type": "stream",
     "text": [
      "960/960 [==============================] - 0s 21us/step\n"
     ]
    },
    {
     "data": {
      "text/plain": [
       "[0.49146992663542427, 0.7572916666666667]"
      ]
     },
     "execution_count": 4,
     "metadata": {},
     "output_type": "execute_result"
    }
   ],
   "source": [
    "model.evaluate(X_test, y_test) # fonction d'erreur (binary cross entropy) + Accuracy"
   ]
  },
  {
   "cell_type": "code",
   "execution_count": 5,
   "metadata": {},
   "outputs": [
    {
     "data": {
      "text/plain": [
       "<Figure size 640x480 with 2 Axes>"
      ]
     },
     "metadata": {},
     "output_type": "display_data"
    }
   ],
   "source": [
    "from matplotlib import pyplot\n",
    "\n",
    "# Tracer la courbe d'erreur pendant l'apprentissage\n",
    "pyplot.subplot(211)\n",
    "pyplot.title('Loss')\n",
    "pyplot.plot(history.history['loss'], label='train')\n",
    "pyplot.plot(history.history['val_loss'], label='validation')\n",
    "pyplot.legend()\n",
    "# Tracer la courbe de la précision pendant l'apprentissage\n",
    "pyplot.subplot(212)\n",
    "pyplot.title('Accuracy')\n",
    "pyplot.plot(history.history['acc'], label='train')\n",
    "pyplot.plot(history.history['val_acc'], label='validation')\n",
    "pyplot.legend()\n",
    "pyplot.show()"
   ]
  },
  {
   "cell_type": "code",
   "execution_count": 6,
   "metadata": {},
   "outputs": [
    {
     "name": "stdout",
     "output_type": "stream",
     "text": [
      "La matrice de confusion:\n",
      " [[291 106]\n",
      " [127 436]]\n"
     ]
    }
   ],
   "source": [
    "from sklearn.metrics import confusion_matrix\n",
    "\n",
    "# La matrice de confusion\n",
    "print(\"La matrice de confusion:\\n {}\".format(confusion_matrix(y_test, model.predict_classes(X_test))))"
   ]
  },
  {
   "cell_type": "code",
   "execution_count": 7,
   "metadata": {},
   "outputs": [
    {
     "name": "stdout",
     "output_type": "stream",
     "text": [
      "Saved model to disk\n"
     ]
    }
   ],
   "source": [
    "# enregistrer le modèle en format JSON\n",
    "model_json = model.to_json()\n",
    "with open(\"model.json\", \"w\") as json_file:\n",
    "    json_file.write(model_json)\n",
    "# enregistrer les poids en format HDF5\n",
    "model.save_weights(\"model.h5\")\n",
    "print(\"Saved model to disk\")"
   ]
  },
  {
   "cell_type": "code",
   "execution_count": null,
   "metadata": {},
   "outputs": [],
   "source": []
  },
  {
   "cell_type": "code",
   "execution_count": null,
   "metadata": {},
   "outputs": [],
   "source": []
  }
 ],
 "metadata": {
  "kernelspec": {
   "display_name": "Python 3",
   "language": "python",
   "name": "python3"
  },
  "language_info": {
   "codemirror_mode": {
    "name": "ipython",
    "version": 3
   },
   "file_extension": ".py",
   "mimetype": "text/x-python",
   "name": "python",
   "nbconvert_exporter": "python",
   "pygments_lexer": "ipython3",
   "version": "3.6.5"
  }
 },
 "nbformat": 4,
 "nbformat_minor": 2
}
