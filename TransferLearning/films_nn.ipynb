{
 "cells": [
  {
   "cell_type": "markdown",
   "metadata": {},
   "source": [
    "## Construction du modèle de la classification des films"
   ]
  },
  {
   "cell_type": "code",
   "execution_count": 1,
   "metadata": {},
   "outputs": [
    {
     "name": "stderr",
     "output_type": "stream",
     "text": [
      "Using TensorFlow backend.\n"
     ]
    },
    {
     "data": {
      "text/plain": [
       "(3839, 63)"
      ]
     },
     "execution_count": 1,
     "metadata": {},
     "output_type": "execute_result"
    }
   ],
   "source": [
    "%store -r X_principalDf\n",
    "%store -r Y\n",
    "from sklearn.model_selection import train_test_split\n",
    "from keras.utils import to_categorical\n",
    "\n",
    "X = X_principalDf\n",
    "# Diviser la dataset en train/test\n",
    "X_train, X_test, y_train, y_test = train_test_split(X, Y, test_size=0.2, random_state=42)\n",
    "X_train.shape"
   ]
  },
  {
   "cell_type": "code",
   "execution_count": 2,
   "metadata": {},
   "outputs": [
    {
     "name": "stdout",
     "output_type": "stream",
     "text": [
      "Train on 2687 samples, validate on 1152 samples\n",
      "Epoch 1/100\n",
      "2687/2687 [==============================] - 0s 186us/step - loss: 0.6868 - acc: 0.5434 - val_loss: 0.6728 - val_acc: 0.6076\n",
      "Epoch 2/100\n",
      "2687/2687 [==============================] - 0s 32us/step - loss: 0.6672 - acc: 0.5955 - val_loss: 0.6535 - val_acc: 0.6050\n",
      "Epoch 3/100\n",
      "2687/2687 [==============================] - 0s 32us/step - loss: 0.6482 - acc: 0.6245 - val_loss: 0.6289 - val_acc: 0.6797\n",
      "Epoch 4/100\n",
      "2687/2687 [==============================] - 0s 33us/step - loss: 0.6327 - acc: 0.6427 - val_loss: 0.6119 - val_acc: 0.6866\n",
      "Epoch 5/100\n",
      "2687/2687 [==============================] - 0s 33us/step - loss: 0.6223 - acc: 0.6636 - val_loss: 0.6039 - val_acc: 0.6866\n",
      "Epoch 6/100\n",
      "2687/2687 [==============================] - 0s 32us/step - loss: 0.6146 - acc: 0.6718 - val_loss: 0.5971 - val_acc: 0.6936\n",
      "Epoch 7/100\n",
      "2687/2687 [==============================] - 0s 42us/step - loss: 0.6126 - acc: 0.6665 - val_loss: 0.5925 - val_acc: 0.6953\n",
      "Epoch 8/100\n",
      "2687/2687 [==============================] - 0s 33us/step - loss: 0.6012 - acc: 0.6811 - val_loss: 0.5901 - val_acc: 0.6962\n",
      "Epoch 9/100\n",
      "2687/2687 [==============================] - 0s 35us/step - loss: 0.6012 - acc: 0.6866 - val_loss: 0.5872 - val_acc: 0.6997\n",
      "Epoch 10/100\n",
      "2687/2687 [==============================] - 0s 32us/step - loss: 0.5954 - acc: 0.6889 - val_loss: 0.5825 - val_acc: 0.7049\n",
      "Epoch 11/100\n",
      "2687/2687 [==============================] - 0s 32us/step - loss: 0.5885 - acc: 0.6892 - val_loss: 0.5805 - val_acc: 0.7005\n",
      "Epoch 12/100\n",
      "2687/2687 [==============================] - 0s 33us/step - loss: 0.5851 - acc: 0.6900 - val_loss: 0.5779 - val_acc: 0.7057\n",
      "Epoch 13/100\n",
      "2687/2687 [==============================] - 0s 32us/step - loss: 0.5862 - acc: 0.6911 - val_loss: 0.5752 - val_acc: 0.7118\n",
      "Epoch 14/100\n",
      "2687/2687 [==============================] - 0s 33us/step - loss: 0.5764 - acc: 0.7071 - val_loss: 0.5724 - val_acc: 0.7092\n",
      "Epoch 15/100\n",
      "2687/2687 [==============================] - 0s 33us/step - loss: 0.5773 - acc: 0.7026 - val_loss: 0.5684 - val_acc: 0.7101\n",
      "Epoch 16/100\n",
      "2687/2687 [==============================] - 0s 32us/step - loss: 0.5655 - acc: 0.7079 - val_loss: 0.5689 - val_acc: 0.7066\n",
      "Epoch 17/100\n",
      "2687/2687 [==============================] - 0s 33us/step - loss: 0.5638 - acc: 0.7090 - val_loss: 0.5629 - val_acc: 0.7144\n",
      "Epoch 18/100\n",
      "2687/2687 [==============================] - 0s 33us/step - loss: 0.5614 - acc: 0.7049 - val_loss: 0.5615 - val_acc: 0.7135\n",
      "Epoch 19/100\n",
      "2687/2687 [==============================] - 0s 40us/step - loss: 0.5564 - acc: 0.7172 - val_loss: 0.5588 - val_acc: 0.7170\n",
      "Epoch 20/100\n",
      "2687/2687 [==============================] - 0s 41us/step - loss: 0.5478 - acc: 0.7239 - val_loss: 0.5554 - val_acc: 0.7205\n",
      "Epoch 21/100\n",
      "2687/2687 [==============================] - 0s 41us/step - loss: 0.5519 - acc: 0.7216 - val_loss: 0.5535 - val_acc: 0.7205\n",
      "Epoch 22/100\n",
      "2687/2687 [==============================] - 0s 41us/step - loss: 0.5514 - acc: 0.7168 - val_loss: 0.5491 - val_acc: 0.7257\n",
      "Epoch 23/100\n",
      "2687/2687 [==============================] - 0s 40us/step - loss: 0.5475 - acc: 0.7112 - val_loss: 0.5461 - val_acc: 0.7283\n",
      "Epoch 24/100\n",
      "2687/2687 [==============================] - 0s 33us/step - loss: 0.5439 - acc: 0.7183 - val_loss: 0.5471 - val_acc: 0.7214\n",
      "Epoch 25/100\n",
      "2687/2687 [==============================] - 0s 33us/step - loss: 0.5415 - acc: 0.7209 - val_loss: 0.5436 - val_acc: 0.7266\n",
      "Epoch 26/100\n",
      "2687/2687 [==============================] - 0s 58us/step - loss: 0.5385 - acc: 0.7231 - val_loss: 0.5421 - val_acc: 0.7214\n",
      "Epoch 27/100\n",
      "2687/2687 [==============================] - 0s 43us/step - loss: 0.5351 - acc: 0.7283 - val_loss: 0.5397 - val_acc: 0.7326\n",
      "Epoch 28/100\n",
      "2687/2687 [==============================] - 0s 45us/step - loss: 0.5337 - acc: 0.7302 - val_loss: 0.5390 - val_acc: 0.7335\n",
      "Epoch 29/100\n",
      "2687/2687 [==============================] - 0s 44us/step - loss: 0.5304 - acc: 0.7428 - val_loss: 0.5368 - val_acc: 0.7387\n",
      "Epoch 30/100\n",
      "2687/2687 [==============================] - 0s 45us/step - loss: 0.5181 - acc: 0.7436 - val_loss: 0.5354 - val_acc: 0.7344\n",
      "Epoch 31/100\n",
      "2687/2687 [==============================] - 0s 37us/step - loss: 0.5267 - acc: 0.7306 - val_loss: 0.5355 - val_acc: 0.7344\n",
      "Epoch 32/100\n",
      "2687/2687 [==============================] - 0s 34us/step - loss: 0.5251 - acc: 0.7350 - val_loss: 0.5327 - val_acc: 0.7387\n",
      "Epoch 33/100\n",
      "2687/2687 [==============================] - 0s 34us/step - loss: 0.5182 - acc: 0.7402 - val_loss: 0.5305 - val_acc: 0.7448\n",
      "Epoch 34/100\n",
      "2687/2687 [==============================] - 0s 41us/step - loss: 0.5213 - acc: 0.7436 - val_loss: 0.5298 - val_acc: 0.7439\n",
      "Epoch 35/100\n",
      "2687/2687 [==============================] - 0s 40us/step - loss: 0.5186 - acc: 0.7395 - val_loss: 0.5305 - val_acc: 0.7422\n",
      "Epoch 36/100\n",
      "2687/2687 [==============================] - 0s 37us/step - loss: 0.5129 - acc: 0.7425 - val_loss: 0.5273 - val_acc: 0.7465\n",
      "Epoch 37/100\n",
      "2687/2687 [==============================] - 0s 43us/step - loss: 0.5133 - acc: 0.7443 - val_loss: 0.5283 - val_acc: 0.7474\n",
      "Epoch 38/100\n",
      "2687/2687 [==============================] - 0s 36us/step - loss: 0.5058 - acc: 0.7529 - val_loss: 0.5261 - val_acc: 0.7474\n",
      "Epoch 39/100\n",
      "2687/2687 [==============================] - 0s 34us/step - loss: 0.5150 - acc: 0.7425 - val_loss: 0.5284 - val_acc: 0.7474\n",
      "Epoch 40/100\n",
      "2687/2687 [==============================] - 0s 33us/step - loss: 0.5043 - acc: 0.7570 - val_loss: 0.5257 - val_acc: 0.7474\n",
      "Epoch 41/100\n",
      "2687/2687 [==============================] - 0s 34us/step - loss: 0.4990 - acc: 0.7555 - val_loss: 0.5261 - val_acc: 0.7500\n",
      "Epoch 42/100\n",
      "2687/2687 [==============================] - 0s 35us/step - loss: 0.5025 - acc: 0.7514 - val_loss: 0.5256 - val_acc: 0.7491\n",
      "Epoch 43/100\n",
      "2687/2687 [==============================] - 0s 34us/step - loss: 0.4987 - acc: 0.7611 - val_loss: 0.5259 - val_acc: 0.7448\n",
      "Epoch 44/100\n",
      "2687/2687 [==============================] - 0s 35us/step - loss: 0.4917 - acc: 0.7562 - val_loss: 0.5239 - val_acc: 0.7543\n",
      "Epoch 45/100\n",
      "2687/2687 [==============================] - 0s 37us/step - loss: 0.4917 - acc: 0.7637 - val_loss: 0.5236 - val_acc: 0.7517\n",
      "Epoch 46/100\n",
      "2687/2687 [==============================] - 0s 33us/step - loss: 0.4969 - acc: 0.7588 - val_loss: 0.5234 - val_acc: 0.7517\n",
      "Epoch 47/100\n",
      "2687/2687 [==============================] - 0s 31us/step - loss: 0.4902 - acc: 0.7652 - val_loss: 0.5261 - val_acc: 0.7517\n",
      "Epoch 48/100\n",
      "2687/2687 [==============================] - 0s 40us/step - loss: 0.4939 - acc: 0.7596 - val_loss: 0.5228 - val_acc: 0.7578\n",
      "Epoch 49/100\n",
      "2687/2687 [==============================] - 0s 59us/step - loss: 0.4840 - acc: 0.7715 - val_loss: 0.5222 - val_acc: 0.7509\n",
      "Epoch 50/100\n",
      "2687/2687 [==============================] - 0s 58us/step - loss: 0.4827 - acc: 0.7730 - val_loss: 0.5206 - val_acc: 0.7561\n",
      "Epoch 51/100\n",
      "2687/2687 [==============================] - 0s 54us/step - loss: 0.4873 - acc: 0.7637 - val_loss: 0.5212 - val_acc: 0.7561\n",
      "Epoch 52/100\n",
      "2687/2687 [==============================] - 0s 53us/step - loss: 0.4793 - acc: 0.7685 - val_loss: 0.5208 - val_acc: 0.7578\n",
      "Epoch 53/100\n",
      "2687/2687 [==============================] - 0s 40us/step - loss: 0.4923 - acc: 0.7700 - val_loss: 0.5206 - val_acc: 0.7543\n",
      "Epoch 54/100\n",
      "2687/2687 [==============================] - 0s 59us/step - loss: 0.4838 - acc: 0.7648 - val_loss: 0.5202 - val_acc: 0.7569\n",
      "Epoch 55/100\n",
      "2687/2687 [==============================] - 0s 62us/step - loss: 0.4842 - acc: 0.7614 - val_loss: 0.5196 - val_acc: 0.7587\n",
      "Epoch 56/100\n",
      "2687/2687 [==============================] - 0s 59us/step - loss: 0.4773 - acc: 0.7767 - val_loss: 0.5208 - val_acc: 0.7578\n",
      "Epoch 57/100\n",
      "2687/2687 [==============================] - 0s 62us/step - loss: 0.4782 - acc: 0.7741 - val_loss: 0.5205 - val_acc: 0.7622\n",
      "Epoch 58/100\n",
      "2687/2687 [==============================] - 0s 60us/step - loss: 0.4754 - acc: 0.7711 - val_loss: 0.5198 - val_acc: 0.7630\n",
      "Epoch 59/100\n",
      "2687/2687 [==============================] - 0s 32us/step - loss: 0.4771 - acc: 0.7652 - val_loss: 0.5223 - val_acc: 0.7595\n",
      "Epoch 60/100\n"
     ]
    },
    {
     "name": "stdout",
     "output_type": "stream",
     "text": [
      "2687/2687 [==============================] - 0s 31us/step - loss: 0.4763 - acc: 0.7741 - val_loss: 0.5197 - val_acc: 0.7648\n",
      "Epoch 61/100\n",
      "2687/2687 [==============================] - 0s 30us/step - loss: 0.4812 - acc: 0.7648 - val_loss: 0.5203 - val_acc: 0.7630\n",
      "Epoch 62/100\n",
      "2687/2687 [==============================] - 0s 32us/step - loss: 0.4732 - acc: 0.7715 - val_loss: 0.5205 - val_acc: 0.7630\n",
      "Epoch 63/100\n",
      "2687/2687 [==============================] - 0s 34us/step - loss: 0.4743 - acc: 0.7804 - val_loss: 0.5198 - val_acc: 0.7622\n",
      "Epoch 64/100\n",
      "2687/2687 [==============================] - 0s 39us/step - loss: 0.4747 - acc: 0.7763 - val_loss: 0.5203 - val_acc: 0.7587\n",
      "Epoch 65/100\n",
      "2687/2687 [==============================] - 0s 44us/step - loss: 0.4701 - acc: 0.7726 - val_loss: 0.5202 - val_acc: 0.7639\n",
      "Epoch 66/100\n",
      "2687/2687 [==============================] - 0s 40us/step - loss: 0.4720 - acc: 0.7786 - val_loss: 0.5206 - val_acc: 0.7630\n",
      "Epoch 67/100\n",
      "2687/2687 [==============================] - 0s 35us/step - loss: 0.4685 - acc: 0.7696 - val_loss: 0.5213 - val_acc: 0.7630\n",
      "Epoch 68/100\n",
      "2687/2687 [==============================] - 0s 30us/step - loss: 0.4732 - acc: 0.7704 - val_loss: 0.5206 - val_acc: 0.7630\n",
      "Epoch 69/100\n",
      "2687/2687 [==============================] - 0s 31us/step - loss: 0.4679 - acc: 0.7734 - val_loss: 0.5211 - val_acc: 0.7639\n",
      "Epoch 70/100\n",
      "2687/2687 [==============================] - 0s 34us/step - loss: 0.4702 - acc: 0.7793 - val_loss: 0.5220 - val_acc: 0.7622\n",
      "Epoch 71/100\n",
      "2687/2687 [==============================] - 0s 38us/step - loss: 0.4719 - acc: 0.7689 - val_loss: 0.5200 - val_acc: 0.7613\n",
      "Epoch 72/100\n",
      "2687/2687 [==============================] - 0s 39us/step - loss: 0.4694 - acc: 0.7696 - val_loss: 0.5206 - val_acc: 0.7613\n",
      "Epoch 73/100\n",
      "2687/2687 [==============================] - 0s 32us/step - loss: 0.4629 - acc: 0.7838 - val_loss: 0.5212 - val_acc: 0.7613\n",
      "Epoch 74/100\n",
      "2687/2687 [==============================] - 0s 30us/step - loss: 0.4656 - acc: 0.7804 - val_loss: 0.5212 - val_acc: 0.7665\n",
      "Epoch 75/100\n",
      "2687/2687 [==============================] - 0s 31us/step - loss: 0.4607 - acc: 0.7853 - val_loss: 0.5212 - val_acc: 0.7656\n",
      "Epoch 76/100\n",
      "2687/2687 [==============================] - 0s 35us/step - loss: 0.4617 - acc: 0.7763 - val_loss: 0.5218 - val_acc: 0.7656\n",
      "Epoch 77/100\n",
      "2687/2687 [==============================] - 0s 38us/step - loss: 0.4565 - acc: 0.7864 - val_loss: 0.5218 - val_acc: 0.7648\n",
      "Epoch 78/100\n",
      "2687/2687 [==============================] - 0s 38us/step - loss: 0.4677 - acc: 0.7827 - val_loss: 0.5228 - val_acc: 0.7648\n",
      "Epoch 79/100\n",
      "2687/2687 [==============================] - 0s 30us/step - loss: 0.4611 - acc: 0.7838 - val_loss: 0.5226 - val_acc: 0.7665\n",
      "Epoch 80/100\n",
      "2687/2687 [==============================] - 0s 35us/step - loss: 0.4571 - acc: 0.7841 - val_loss: 0.5227 - val_acc: 0.7665\n",
      "Epoch 81/100\n",
      "2687/2687 [==============================] - 0s 34us/step - loss: 0.4639 - acc: 0.7804 - val_loss: 0.5222 - val_acc: 0.7622\n",
      "Epoch 82/100\n",
      "2687/2687 [==============================] - 0s 38us/step - loss: 0.4654 - acc: 0.7856 - val_loss: 0.5227 - val_acc: 0.7674\n",
      "Epoch 83/100\n",
      "2687/2687 [==============================] - 0s 33us/step - loss: 0.4510 - acc: 0.7923 - val_loss: 0.5233 - val_acc: 0.7639\n",
      "Epoch 84/100\n",
      "2687/2687 [==============================] - 0s 31us/step - loss: 0.4565 - acc: 0.7845 - val_loss: 0.5229 - val_acc: 0.7639\n",
      "Epoch 85/100\n",
      "2687/2687 [==============================] - 0s 35us/step - loss: 0.4607 - acc: 0.7804 - val_loss: 0.5237 - val_acc: 0.7700\n",
      "Epoch 86/100\n",
      "2687/2687 [==============================] - 0s 36us/step - loss: 0.4553 - acc: 0.7797 - val_loss: 0.5233 - val_acc: 0.7700\n",
      "Epoch 87/100\n",
      "2687/2687 [==============================] - 0s 31us/step - loss: 0.4534 - acc: 0.7908 - val_loss: 0.5238 - val_acc: 0.7700\n",
      "Epoch 88/100\n",
      "2687/2687 [==============================] - 0s 31us/step - loss: 0.4646 - acc: 0.7815 - val_loss: 0.5239 - val_acc: 0.7656\n",
      "Epoch 89/100\n",
      "2687/2687 [==============================] - 0s 31us/step - loss: 0.4635 - acc: 0.7804 - val_loss: 0.5238 - val_acc: 0.7665\n",
      "Epoch 90/100\n",
      "2687/2687 [==============================] - 0s 30us/step - loss: 0.4493 - acc: 0.7938 - val_loss: 0.5251 - val_acc: 0.7665\n",
      "Epoch 91/100\n",
      "2687/2687 [==============================] - 0s 36us/step - loss: 0.4584 - acc: 0.7819 - val_loss: 0.5267 - val_acc: 0.7648\n",
      "Epoch 92/100\n",
      "2687/2687 [==============================] - 0s 37us/step - loss: 0.4490 - acc: 0.8009 - val_loss: 0.5249 - val_acc: 0.7726\n",
      "Epoch 93/100\n",
      "2687/2687 [==============================] - 0s 38us/step - loss: 0.4560 - acc: 0.7841 - val_loss: 0.5263 - val_acc: 0.7656\n",
      "Epoch 94/100\n",
      "2687/2687 [==============================] - 0s 34us/step - loss: 0.4637 - acc: 0.7786 - val_loss: 0.5254 - val_acc: 0.7656\n",
      "Epoch 95/100\n",
      "2687/2687 [==============================] - 0s 31us/step - loss: 0.4569 - acc: 0.7830 - val_loss: 0.5256 - val_acc: 0.7700\n",
      "Epoch 96/100\n",
      "2687/2687 [==============================] - 0s 33us/step - loss: 0.4536 - acc: 0.7834 - val_loss: 0.5262 - val_acc: 0.7682\n",
      "Epoch 97/100\n",
      "2687/2687 [==============================] - 0s 35us/step - loss: 0.4559 - acc: 0.7864 - val_loss: 0.5258 - val_acc: 0.7700\n",
      "Epoch 98/100\n",
      "2687/2687 [==============================] - 0s 36us/step - loss: 0.4496 - acc: 0.7841 - val_loss: 0.5258 - val_acc: 0.7674\n",
      "Epoch 99/100\n",
      "2687/2687 [==============================] - 0s 30us/step - loss: 0.4555 - acc: 0.7860 - val_loss: 0.5259 - val_acc: 0.7700\n",
      "Epoch 100/100\n",
      "2687/2687 [==============================] - 0s 31us/step - loss: 0.4486 - acc: 0.7897 - val_loss: 0.5277 - val_acc: 0.7691\n"
     ]
    }
   ],
   "source": [
    "from keras.models import Sequential\n",
    "from keras.layers import Dense, Dropout \n",
    "from keras.activations import relu, sigmoid\n",
    "from keras.optimizers import Adam\n",
    "\n",
    "# Construire le modèle\n",
    "model = Sequential()\n",
    "model.add(Dense(32, activation='relu', input_dim=X_train.shape[1]))\n",
    "model.add(Dropout(0.2))\n",
    "model.add(Dense(20, activation='relu'))\n",
    "model.add(Dropout(0.2))\n",
    "model.add(Dense(16, activation='relu'))\n",
    "model.add(Dense(1, activation='sigmoid'))\n",
    "adam = Adam(lr=0.001, decay = 0.001)\n",
    "model.compile(optimizer=adam, loss='binary_crossentropy', metrics=['accuracy'])\n",
    "\n",
    "# Entrainer le modèle\n",
    "history = model.fit(X_train, y_train, validation_split=0.30, batch_size=100, epochs=100)"
   ]
  },
  {
   "cell_type": "code",
   "execution_count": 3,
   "metadata": {
    "scrolled": true
   },
   "outputs": [
    {
     "name": "stdout",
     "output_type": "stream",
     "text": [
      "_________________________________________________________________\n",
      "Layer (type)                 Output Shape              Param #   \n",
      "=================================================================\n",
      "dense_1 (Dense)              (None, 32)                2048      \n",
      "_________________________________________________________________\n",
      "dropout_1 (Dropout)          (None, 32)                0         \n",
      "_________________________________________________________________\n",
      "dense_2 (Dense)              (None, 20)                660       \n",
      "_________________________________________________________________\n",
      "dropout_2 (Dropout)          (None, 20)                0         \n",
      "_________________________________________________________________\n",
      "dense_3 (Dense)              (None, 16)                336       \n",
      "_________________________________________________________________\n",
      "dense_4 (Dense)              (None, 1)                 17        \n",
      "=================================================================\n",
      "Total params: 3,061\n",
      "Trainable params: 3,061\n",
      "Non-trainable params: 0\n",
      "_________________________________________________________________\n"
     ]
    }
   ],
   "source": [
    "model.summary()"
   ]
  },
  {
   "cell_type": "code",
   "execution_count": 4,
   "metadata": {},
   "outputs": [
    {
     "name": "stdout",
     "output_type": "stream",
     "text": [
      "960/960 [==============================] - 0s 25us/step\n"
     ]
    },
    {
     "data": {
      "text/plain": [
       "[0.49484964708487195, 0.75625]"
      ]
     },
     "execution_count": 4,
     "metadata": {},
     "output_type": "execute_result"
    }
   ],
   "source": [
    "model.evaluate(X_test, y_test) # fonction d'erreur (binary cross entropy) + Accuracy"
   ]
  },
  {
   "cell_type": "code",
   "execution_count": 5,
   "metadata": {},
   "outputs": [
    {
     "data": {
      "text/plain": [
       "<Figure size 640x480 with 2 Axes>"
      ]
     },
     "metadata": {},
     "output_type": "display_data"
    }
   ],
   "source": [
    "from matplotlib import pyplot\n",
    "\n",
    "# Tracer la courbe d'erreur pendant l'apprentissage\n",
    "pyplot.subplot(211)\n",
    "pyplot.title('Loss')\n",
    "pyplot.plot(history.history['loss'], label='train')\n",
    "pyplot.plot(history.history['val_loss'], label='validation')\n",
    "pyplot.legend()\n",
    "# Tracer la courbe de la précision pendant l'apprentissage\n",
    "pyplot.subplot(212)\n",
    "pyplot.title('Accuracy')\n",
    "pyplot.plot(history.history['acc'], label='train')\n",
    "pyplot.plot(history.history['val_acc'], label='validation')\n",
    "pyplot.legend()\n",
    "pyplot.show()"
   ]
  },
  {
   "cell_type": "code",
   "execution_count": 6,
   "metadata": {},
   "outputs": [
    {
     "name": "stdout",
     "output_type": "stream",
     "text": [
      "La matrice de confusion:\n",
      " [[293 104]\n",
      " [130 433]]\n"
     ]
    }
   ],
   "source": [
    "from sklearn.metrics import confusion_matrix\n",
    "\n",
    "# La matrice de confusion\n",
    "print(\"La matrice de confusion:\\n {}\".format(confusion_matrix(y_test, model.predict_classes(X_test))))"
   ]
  },
  {
   "cell_type": "code",
   "execution_count": 7,
   "metadata": {},
   "outputs": [
    {
     "name": "stdout",
     "output_type": "stream",
     "text": [
      "Saved model to disk\n"
     ]
    }
   ],
   "source": [
    "# enregistrer le modèle en format JSON\n",
    "model_json = model.to_json()\n",
    "with open(\"model.json\", \"w\") as json_file:\n",
    "    json_file.write(model_json)\n",
    "# enregistrer les poids en format HDF5\n",
    "model.save_weights(\"model.h5\")\n",
    "print(\"Saved model to disk\")"
   ]
  },
  {
   "cell_type": "code",
   "execution_count": null,
   "metadata": {},
   "outputs": [],
   "source": []
  },
  {
   "cell_type": "code",
   "execution_count": null,
   "metadata": {},
   "outputs": [],
   "source": []
  }
 ],
 "metadata": {
  "kernelspec": {
   "display_name": "Python 3",
   "language": "python",
   "name": "python3"
  },
  "language_info": {
   "codemirror_mode": {
    "name": "ipython",
    "version": 3
   },
   "file_extension": ".py",
   "mimetype": "text/x-python",
   "name": "python",
   "nbconvert_exporter": "python",
   "pygments_lexer": "ipython3",
   "version": "3.6.5"
  }
 },
 "nbformat": 4,
 "nbformat_minor": 2
}
