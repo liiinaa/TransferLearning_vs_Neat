{
 "cells": [
  {
   "cell_type": "markdown",
   "metadata": {},
   "source": [
    "## Construction du modèle de la classification des films"
   ]
  },
  {
   "cell_type": "code",
   "execution_count": 1,
   "metadata": {},
   "outputs": [
    {
     "name": "stderr",
     "output_type": "stream",
     "text": [
      "Using TensorFlow backend.\n"
     ]
    },
    {
     "data": {
      "text/plain": [
       "(3839, 10)"
      ]
     },
     "execution_count": 1,
     "metadata": {},
     "output_type": "execute_result"
    }
   ],
   "source": [
    "%store -r X_principalDf\n",
    "%store -r Y\n",
    "from sklearn.model_selection import train_test_split\n",
    "from keras.utils import to_categorical\n",
    "\n",
    "X = X_principalDf\n",
    "# Diviser la dataset en train/test\n",
    "X_train, X_test, y_train, y_test = train_test_split(X, Y, test_size=0.2, random_state=42)\n",
    "X_train.shape"
   ]
  },
  {
   "cell_type": "code",
   "execution_count": 2,
   "metadata": {},
   "outputs": [
    {
     "name": "stdout",
     "output_type": "stream",
     "text": [
      "Train on 2687 samples, validate on 1152 samples\n",
      "Epoch 1/100\n",
      "2687/2687 [==============================] - 0s 156us/step - loss: 0.6851 - acc: 0.5698 - val_loss: 0.6721 - val_acc: 0.5755\n",
      "Epoch 2/100\n",
      "2687/2687 [==============================] - 0s 25us/step - loss: 0.6688 - acc: 0.5709 - val_loss: 0.6574 - val_acc: 0.5833\n",
      "Epoch 3/100\n",
      "2687/2687 [==============================] - 0s 27us/step - loss: 0.6576 - acc: 0.5836 - val_loss: 0.6461 - val_acc: 0.6267\n",
      "Epoch 4/100\n",
      "2687/2687 [==============================] - 0s 25us/step - loss: 0.6526 - acc: 0.6022 - val_loss: 0.6397 - val_acc: 0.6563\n",
      "Epoch 5/100\n",
      "2687/2687 [==============================] - 0s 25us/step - loss: 0.6452 - acc: 0.6256 - val_loss: 0.6356 - val_acc: 0.6502\n",
      "Epoch 6/100\n",
      "2687/2687 [==============================] - 0s 25us/step - loss: 0.6429 - acc: 0.6375 - val_loss: 0.6335 - val_acc: 0.6510\n",
      "Epoch 7/100\n",
      "2687/2687 [==============================] - 0s 26us/step - loss: 0.6429 - acc: 0.6349 - val_loss: 0.6318 - val_acc: 0.6519\n",
      "Epoch 8/100\n",
      "2687/2687 [==============================] - 0s 26us/step - loss: 0.6416 - acc: 0.6405 - val_loss: 0.6307 - val_acc: 0.6554\n",
      "Epoch 9/100\n",
      "2687/2687 [==============================] - 0s 28us/step - loss: 0.6403 - acc: 0.6401 - val_loss: 0.6303 - val_acc: 0.6536\n",
      "Epoch 10/100\n",
      "2687/2687 [==============================] - 0s 27us/step - loss: 0.6435 - acc: 0.6412 - val_loss: 0.6299 - val_acc: 0.6510\n",
      "Epoch 11/100\n",
      "2687/2687 [==============================] - 0s 25us/step - loss: 0.6387 - acc: 0.6491 - val_loss: 0.6293 - val_acc: 0.6502\n",
      "Epoch 12/100\n",
      "2687/2687 [==============================] - 0s 25us/step - loss: 0.6382 - acc: 0.6457 - val_loss: 0.6291 - val_acc: 0.6528\n",
      "Epoch 13/100\n",
      "2687/2687 [==============================] - 0s 25us/step - loss: 0.6374 - acc: 0.6457 - val_loss: 0.6287 - val_acc: 0.6554\n",
      "Epoch 14/100\n",
      "2687/2687 [==============================] - 0s 25us/step - loss: 0.6381 - acc: 0.6394 - val_loss: 0.6285 - val_acc: 0.6589\n",
      "Epoch 15/100\n",
      "2687/2687 [==============================] - 0s 22us/step - loss: 0.6359 - acc: 0.6420 - val_loss: 0.6281 - val_acc: 0.6606\n",
      "Epoch 16/100\n",
      "2687/2687 [==============================] - 0s 22us/step - loss: 0.6368 - acc: 0.6438 - val_loss: 0.6281 - val_acc: 0.6615\n",
      "Epoch 17/100\n",
      "2687/2687 [==============================] - 0s 24us/step - loss: 0.6367 - acc: 0.6464 - val_loss: 0.6280 - val_acc: 0.6606\n",
      "Epoch 18/100\n",
      "2687/2687 [==============================] - 0s 25us/step - loss: 0.6370 - acc: 0.6446 - val_loss: 0.6279 - val_acc: 0.6597\n",
      "Epoch 19/100\n",
      "2687/2687 [==============================] - 0s 25us/step - loss: 0.6327 - acc: 0.6505 - val_loss: 0.6274 - val_acc: 0.6597\n",
      "Epoch 20/100\n",
      "2687/2687 [==============================] - 0s 25us/step - loss: 0.6368 - acc: 0.6457 - val_loss: 0.6277 - val_acc: 0.6597\n",
      "Epoch 21/100\n",
      "2687/2687 [==============================] - 0s 25us/step - loss: 0.6350 - acc: 0.6383 - val_loss: 0.6277 - val_acc: 0.6589\n",
      "Epoch 22/100\n",
      "2687/2687 [==============================] - 0s 25us/step - loss: 0.6354 - acc: 0.6457 - val_loss: 0.6277 - val_acc: 0.6589\n",
      "Epoch 23/100\n",
      "2687/2687 [==============================] - 0s 26us/step - loss: 0.6346 - acc: 0.6446 - val_loss: 0.6276 - val_acc: 0.6589\n",
      "Epoch 24/100\n",
      "2687/2687 [==============================] - 0s 25us/step - loss: 0.6326 - acc: 0.6479 - val_loss: 0.6273 - val_acc: 0.6606\n",
      "Epoch 25/100\n",
      "2687/2687 [==============================] - 0s 25us/step - loss: 0.6359 - acc: 0.6479 - val_loss: 0.6275 - val_acc: 0.6589\n",
      "Epoch 26/100\n",
      "2687/2687 [==============================] - 0s 24us/step - loss: 0.6356 - acc: 0.6476 - val_loss: 0.6274 - val_acc: 0.6597\n",
      "Epoch 27/100\n",
      "2687/2687 [==============================] - 0s 25us/step - loss: 0.6391 - acc: 0.6435 - val_loss: 0.6276 - val_acc: 0.6615\n",
      "Epoch 28/100\n",
      "2687/2687 [==============================] - 0s 25us/step - loss: 0.6345 - acc: 0.6502 - val_loss: 0.6276 - val_acc: 0.6606\n",
      "Epoch 29/100\n",
      "2687/2687 [==============================] - 0s 23us/step - loss: 0.6360 - acc: 0.6468 - val_loss: 0.6271 - val_acc: 0.6589\n",
      "Epoch 30/100\n",
      "2687/2687 [==============================] - 0s 22us/step - loss: 0.6335 - acc: 0.6416 - val_loss: 0.6269 - val_acc: 0.6580\n",
      "Epoch 31/100\n",
      "2687/2687 [==============================] - 0s 23us/step - loss: 0.6335 - acc: 0.6438 - val_loss: 0.6267 - val_acc: 0.6562\n",
      "Epoch 32/100\n",
      "2687/2687 [==============================] - 0s 23us/step - loss: 0.6347 - acc: 0.6416 - val_loss: 0.6266 - val_acc: 0.6571\n",
      "Epoch 33/100\n",
      "2687/2687 [==============================] - 0s 28us/step - loss: 0.6325 - acc: 0.6453 - val_loss: 0.6265 - val_acc: 0.6597\n",
      "Epoch 34/100\n",
      "2687/2687 [==============================] - 0s 24us/step - loss: 0.6323 - acc: 0.6446 - val_loss: 0.6267 - val_acc: 0.6562\n",
      "Epoch 35/100\n",
      "2687/2687 [==============================] - 0s 24us/step - loss: 0.6319 - acc: 0.6446 - val_loss: 0.6265 - val_acc: 0.6641\n",
      "Epoch 36/100\n",
      "2687/2687 [==============================] - 0s 26us/step - loss: 0.6329 - acc: 0.6457 - val_loss: 0.6265 - val_acc: 0.6632\n",
      "Epoch 37/100\n",
      "2687/2687 [==============================] - 0s 25us/step - loss: 0.6348 - acc: 0.6513 - val_loss: 0.6267 - val_acc: 0.6632\n",
      "Epoch 38/100\n",
      "2687/2687 [==============================] - 0s 24us/step - loss: 0.6331 - acc: 0.6524 - val_loss: 0.6266 - val_acc: 0.6632\n",
      "Epoch 39/100\n",
      "2687/2687 [==============================] - 0s 22us/step - loss: 0.6327 - acc: 0.6468 - val_loss: 0.6264 - val_acc: 0.6632\n",
      "Epoch 40/100\n",
      "2687/2687 [==============================] - 0s 21us/step - loss: 0.6302 - acc: 0.6546 - val_loss: 0.6265 - val_acc: 0.6615\n",
      "Epoch 41/100\n",
      "2687/2687 [==============================] - 0s 24us/step - loss: 0.6337 - acc: 0.6550 - val_loss: 0.6263 - val_acc: 0.6606\n",
      "Epoch 42/100\n",
      "2687/2687 [==============================] - 0s 25us/step - loss: 0.6328 - acc: 0.6539 - val_loss: 0.6263 - val_acc: 0.6623\n",
      "Epoch 43/100\n",
      "2687/2687 [==============================] - 0s 25us/step - loss: 0.6342 - acc: 0.6546 - val_loss: 0.6265 - val_acc: 0.6615\n",
      "Epoch 44/100\n",
      "2687/2687 [==============================] - 0s 24us/step - loss: 0.6317 - acc: 0.6528 - val_loss: 0.6263 - val_acc: 0.6623\n",
      "Epoch 45/100\n",
      "2687/2687 [==============================] - 0s 24us/step - loss: 0.6310 - acc: 0.6535 - val_loss: 0.6264 - val_acc: 0.6606\n",
      "Epoch 46/100\n",
      "2687/2687 [==============================] - 0s 25us/step - loss: 0.6308 - acc: 0.6598 - val_loss: 0.6261 - val_acc: 0.6623\n",
      "Epoch 47/100\n",
      "2687/2687 [==============================] - 0s 24us/step - loss: 0.6352 - acc: 0.6479 - val_loss: 0.6262 - val_acc: 0.6615\n",
      "Epoch 48/100\n",
      "2687/2687 [==============================] - 0s 24us/step - loss: 0.6295 - acc: 0.6543 - val_loss: 0.6262 - val_acc: 0.6615\n",
      "Epoch 49/100\n",
      "2687/2687 [==============================] - 0s 25us/step - loss: 0.6344 - acc: 0.6505 - val_loss: 0.6259 - val_acc: 0.6623\n",
      "Epoch 50/100\n",
      "2687/2687 [==============================] - 0s 24us/step - loss: 0.6304 - acc: 0.6487 - val_loss: 0.6260 - val_acc: 0.6606\n",
      "Epoch 51/100\n",
      "2687/2687 [==============================] - 0s 24us/step - loss: 0.6328 - acc: 0.6487 - val_loss: 0.6261 - val_acc: 0.6615\n",
      "Epoch 52/100\n",
      "2687/2687 [==============================] - 0s 24us/step - loss: 0.6310 - acc: 0.6528 - val_loss: 0.6257 - val_acc: 0.6623\n",
      "Epoch 53/100\n",
      "2687/2687 [==============================] - 0s 25us/step - loss: 0.6291 - acc: 0.6461 - val_loss: 0.6258 - val_acc: 0.6615\n",
      "Epoch 54/100\n",
      "2687/2687 [==============================] - 0s 25us/step - loss: 0.6315 - acc: 0.6513 - val_loss: 0.6256 - val_acc: 0.6632\n",
      "Epoch 55/100\n",
      "2687/2687 [==============================] - 0s 24us/step - loss: 0.6347 - acc: 0.6539 - val_loss: 0.6257 - val_acc: 0.6623\n",
      "Epoch 56/100\n",
      "2687/2687 [==============================] - 0s 24us/step - loss: 0.6303 - acc: 0.6498 - val_loss: 0.6254 - val_acc: 0.6632\n",
      "Epoch 57/100\n",
      "2687/2687 [==============================] - 0s 24us/step - loss: 0.6319 - acc: 0.6528 - val_loss: 0.6256 - val_acc: 0.6623\n",
      "Epoch 58/100\n",
      "2687/2687 [==============================] - 0s 22us/step - loss: 0.6297 - acc: 0.6606 - val_loss: 0.6254 - val_acc: 0.6597\n",
      "Epoch 59/100\n",
      "2687/2687 [==============================] - 0s 23us/step - loss: 0.6335 - acc: 0.6513 - val_loss: 0.6256 - val_acc: 0.6623\n",
      "Epoch 60/100\n"
     ]
    },
    {
     "name": "stdout",
     "output_type": "stream",
     "text": [
      "2687/2687 [==============================] - 0s 24us/step - loss: 0.6330 - acc: 0.6502 - val_loss: 0.6256 - val_acc: 0.6615\n",
      "Epoch 61/100\n",
      "2687/2687 [==============================] - 0s 21us/step - loss: 0.6322 - acc: 0.6513 - val_loss: 0.6255 - val_acc: 0.6641\n",
      "Epoch 62/100\n",
      "2687/2687 [==============================] - 0s 18us/step - loss: 0.6268 - acc: 0.6491 - val_loss: 0.6251 - val_acc: 0.6641\n",
      "Epoch 63/100\n",
      "2687/2687 [==============================] - 0s 18us/step - loss: 0.6285 - acc: 0.6576 - val_loss: 0.6253 - val_acc: 0.6641\n",
      "Epoch 64/100\n",
      "2687/2687 [==============================] - 0s 20us/step - loss: 0.6317 - acc: 0.6517 - val_loss: 0.6254 - val_acc: 0.6632\n",
      "Epoch 65/100\n",
      "2687/2687 [==============================] - 0s 20us/step - loss: 0.6292 - acc: 0.6505 - val_loss: 0.6255 - val_acc: 0.6632\n",
      "Epoch 66/100\n",
      "2687/2687 [==============================] - 0s 20us/step - loss: 0.6258 - acc: 0.6587 - val_loss: 0.6252 - val_acc: 0.6623\n",
      "Epoch 67/100\n",
      "2687/2687 [==============================] - 0s 20us/step - loss: 0.6292 - acc: 0.6531 - val_loss: 0.6251 - val_acc: 0.6641\n",
      "Epoch 68/100\n",
      "2687/2687 [==============================] - 0s 20us/step - loss: 0.6303 - acc: 0.6472 - val_loss: 0.6251 - val_acc: 0.6632\n",
      "Epoch 69/100\n",
      "2687/2687 [==============================] - 0s 21us/step - loss: 0.6272 - acc: 0.6546 - val_loss: 0.6249 - val_acc: 0.6615\n",
      "Epoch 70/100\n",
      "2687/2687 [==============================] - 0s 20us/step - loss: 0.6312 - acc: 0.6491 - val_loss: 0.6250 - val_acc: 0.6632\n",
      "Epoch 71/100\n",
      "2687/2687 [==============================] - 0s 21us/step - loss: 0.6291 - acc: 0.6535 - val_loss: 0.6249 - val_acc: 0.6641\n",
      "Epoch 72/100\n",
      "2687/2687 [==============================] - 0s 24us/step - loss: 0.6274 - acc: 0.6598 - val_loss: 0.6249 - val_acc: 0.6632\n",
      "Epoch 73/100\n",
      "2687/2687 [==============================] - 0s 21us/step - loss: 0.6329 - acc: 0.6505 - val_loss: 0.6248 - val_acc: 0.6623\n",
      "Epoch 74/100\n",
      "2687/2687 [==============================] - 0s 21us/step - loss: 0.6291 - acc: 0.6572 - val_loss: 0.6251 - val_acc: 0.6606\n",
      "Epoch 75/100\n",
      "2687/2687 [==============================] - 0s 20us/step - loss: 0.6311 - acc: 0.6505 - val_loss: 0.6249 - val_acc: 0.6623\n",
      "Epoch 76/100\n",
      "2687/2687 [==============================] - 0s 20us/step - loss: 0.6287 - acc: 0.6543 - val_loss: 0.6250 - val_acc: 0.6632\n",
      "Epoch 77/100\n",
      "2687/2687 [==============================] - 0s 21us/step - loss: 0.6276 - acc: 0.6550 - val_loss: 0.6248 - val_acc: 0.6632\n",
      "Epoch 78/100\n",
      "2687/2687 [==============================] - 0s 20us/step - loss: 0.6307 - acc: 0.6476 - val_loss: 0.6246 - val_acc: 0.6632\n",
      "Epoch 79/100\n",
      "2687/2687 [==============================] - 0s 20us/step - loss: 0.6306 - acc: 0.6483 - val_loss: 0.6247 - val_acc: 0.6658\n",
      "Epoch 80/100\n",
      "2687/2687 [==============================] - 0s 20us/step - loss: 0.6292 - acc: 0.6524 - val_loss: 0.6247 - val_acc: 0.6615\n",
      "Epoch 81/100\n",
      "2687/2687 [==============================] - 0s 20us/step - loss: 0.6261 - acc: 0.6491 - val_loss: 0.6244 - val_acc: 0.6632\n",
      "Epoch 82/100\n",
      "2687/2687 [==============================] - 0s 20us/step - loss: 0.6278 - acc: 0.6543 - val_loss: 0.6245 - val_acc: 0.6658\n",
      "Epoch 83/100\n",
      "2687/2687 [==============================] - 0s 20us/step - loss: 0.6288 - acc: 0.6491 - val_loss: 0.6244 - val_acc: 0.6667\n",
      "Epoch 84/100\n",
      "2687/2687 [==============================] - 0s 20us/step - loss: 0.6285 - acc: 0.6531 - val_loss: 0.6245 - val_acc: 0.6684\n",
      "Epoch 85/100\n",
      "2687/2687 [==============================] - 0s 20us/step - loss: 0.6283 - acc: 0.6528 - val_loss: 0.6246 - val_acc: 0.6684\n",
      "Epoch 86/100\n",
      "2687/2687 [==============================] - 0s 20us/step - loss: 0.6311 - acc: 0.6535 - val_loss: 0.6247 - val_acc: 0.6684\n",
      "Epoch 87/100\n",
      "2687/2687 [==============================] - 0s 20us/step - loss: 0.6304 - acc: 0.6528 - val_loss: 0.6247 - val_acc: 0.6675\n",
      "Epoch 88/100\n",
      "2687/2687 [==============================] - 0s 19us/step - loss: 0.6297 - acc: 0.6531 - val_loss: 0.6247 - val_acc: 0.6693\n",
      "Epoch 89/100\n",
      "2687/2687 [==============================] - 0s 20us/step - loss: 0.6333 - acc: 0.6502 - val_loss: 0.6245 - val_acc: 0.6684\n",
      "Epoch 90/100\n",
      "2687/2687 [==============================] - 0s 20us/step - loss: 0.6269 - acc: 0.6557 - val_loss: 0.6246 - val_acc: 0.6632\n",
      "Epoch 91/100\n",
      "2687/2687 [==============================] - 0s 20us/step - loss: 0.6278 - acc: 0.6476 - val_loss: 0.6246 - val_acc: 0.6667\n",
      "Epoch 92/100\n",
      "2687/2687 [==============================] - 0s 20us/step - loss: 0.6289 - acc: 0.6572 - val_loss: 0.6246 - val_acc: 0.6667\n",
      "Epoch 93/100\n",
      "2687/2687 [==============================] - 0s 20us/step - loss: 0.6324 - acc: 0.6464 - val_loss: 0.6246 - val_acc: 0.6684\n",
      "Epoch 94/100\n",
      "2687/2687 [==============================] - 0s 20us/step - loss: 0.6302 - acc: 0.6543 - val_loss: 0.6248 - val_acc: 0.6658\n",
      "Epoch 95/100\n",
      "2687/2687 [==============================] - 0s 20us/step - loss: 0.6302 - acc: 0.6483 - val_loss: 0.6248 - val_acc: 0.6658\n",
      "Epoch 96/100\n",
      "2687/2687 [==============================] - 0s 20us/step - loss: 0.6307 - acc: 0.6587 - val_loss: 0.6247 - val_acc: 0.6675\n",
      "Epoch 97/100\n",
      "2687/2687 [==============================] - 0s 21us/step - loss: 0.6285 - acc: 0.6491 - val_loss: 0.6244 - val_acc: 0.6649\n",
      "Epoch 98/100\n",
      "2687/2687 [==============================] - 0s 20us/step - loss: 0.6290 - acc: 0.6550 - val_loss: 0.6245 - val_acc: 0.6649\n",
      "Epoch 99/100\n",
      "2687/2687 [==============================] - 0s 20us/step - loss: 0.6275 - acc: 0.6554 - val_loss: 0.6245 - val_acc: 0.6649\n",
      "Epoch 100/100\n",
      "2687/2687 [==============================] - 0s 21us/step - loss: 0.6291 - acc: 0.6546 - val_loss: 0.6245 - val_acc: 0.6675\n"
     ]
    }
   ],
   "source": [
    "from keras.models import Sequential\n",
    "from keras.layers import Dense, Dropout \n",
    "from keras.activations import relu, sigmoid\n",
    "from keras.optimizers import Adam\n",
    "\n",
    "# Construire le modèle\n",
    "model = Sequential()\n",
    "model.add(Dense(32, activation='relu', input_dim=X_train.shape[1]))\n",
    "model.add(Dropout(0.2))\n",
    "model.add(Dense(20, activation='relu'))\n",
    "model.add(Dropout(0.2))\n",
    "model.add(Dense(16, activation='relu'))\n",
    "model.add(Dense(1, activation='sigmoid'))\n",
    "adam = Adam(lr=0.001, decay = 0.001)\n",
    "model.compile(optimizer=adam, loss='binary_crossentropy', metrics=['accuracy'])\n",
    "\n",
    "# Entrainer le modèle\n",
    "history = model.fit(X_train, y_train, validation_split=0.30, batch_size=100, epochs=100)"
   ]
  },
  {
   "cell_type": "code",
   "execution_count": 3,
   "metadata": {
    "scrolled": true
   },
   "outputs": [
    {
     "name": "stdout",
     "output_type": "stream",
     "text": [
      "_________________________________________________________________\n",
      "Layer (type)                 Output Shape              Param #   \n",
      "=================================================================\n",
      "dense_1 (Dense)              (None, 32)                352       \n",
      "_________________________________________________________________\n",
      "dropout_1 (Dropout)          (None, 32)                0         \n",
      "_________________________________________________________________\n",
      "dense_2 (Dense)              (None, 20)                660       \n",
      "_________________________________________________________________\n",
      "dropout_2 (Dropout)          (None, 20)                0         \n",
      "_________________________________________________________________\n",
      "dense_3 (Dense)              (None, 16)                336       \n",
      "_________________________________________________________________\n",
      "dense_4 (Dense)              (None, 1)                 17        \n",
      "=================================================================\n",
      "Total params: 1,365\n",
      "Trainable params: 1,365\n",
      "Non-trainable params: 0\n",
      "_________________________________________________________________\n"
     ]
    }
   ],
   "source": [
    "model.summary()"
   ]
  },
  {
   "cell_type": "code",
   "execution_count": 4,
   "metadata": {},
   "outputs": [
    {
     "name": "stdout",
     "output_type": "stream",
     "text": [
      "960/960 [==============================] - 0s 46us/step\n"
     ]
    },
    {
     "data": {
      "text/plain": [
       "[0.6254732489585877, 0.6708333333333333]"
      ]
     },
     "execution_count": 4,
     "metadata": {},
     "output_type": "execute_result"
    }
   ],
   "source": [
    "model.evaluate(X_test, y_test) # fonction d'erreur (binary cross entropy) + Accuracy"
   ]
  },
  {
   "cell_type": "code",
   "execution_count": 8,
   "metadata": {},
   "outputs": [
    {
     "data": {
      "image/png": "[encoded data removed]",
      "text/plain": [
       "<Figure size 432x288 with 2 Axes>"
      ]
     },
     "metadata": {
      "needs_background": "light"
     },
     "output_type": "display_data"
    }
   ],
   "source": [
    "from matplotlib import pyplot\n",
    "\n",
    "# Tracer la courbe d'erreur pendant l'apprentissage\n",
    "pyplot.subplot(211)\n",
    "pyplot.title('Loss')\n",
    "pyplot.plot(history.history['loss'], label='train')\n",
    "pyplot.plot(history.history['val_loss'], label='validation')\n",
    "pyplot.legend()\n",
    "# Tracer la courbe de la précision pendant l'apprentissage\n",
    "pyplot.subplot(212)\n",
    "pyplot.title('Accuracy')\n",
    "pyplot.plot(history.history['acc'], label='train')\n",
    "pyplot.plot(history.history['val_acc'], label='validation')\n",
    "pyplot.legend()\n",
    "pyplot.show()"
   ]
  },
  {
   "cell_type": "code",
   "execution_count": 6,
   "metadata": {},
   "outputs": [
    {
     "name": "stdout",
     "output_type": "stream",
     "text": [
      "La matrice de confusion:\n",
      " [[230 167]\n",
      " [149 414]]\n"
     ]
    }
   ],
   "source": [
    "from sklearn.metrics import confusion_matrix\n",
    "\n",
    "# La matrice de confusion\n",
    "print(\"La matrice de confusion:\\n {}\".format(confusion_matrix(y_test, model.predict_classes(X_test))))"
   ]
  },
  {
   "cell_type": "code",
   "execution_count": 7,
   "metadata": {},
   "outputs": [
    {
     "name": "stdout",
     "output_type": "stream",
     "text": [
      "Saved model to disk\n"
     ]
    }
   ],
   "source": [
    "#pickle pour enregistrer le modèle\n",
    "# enregistrer le modèle en format JSON\n",
    "model_json = model.to_json()\n",
    "with open(\"model.json\", \"w\") as json_file:\n",
    "    json_file.write(model_json)\n",
    "# enregistrer les poids en format HDF5\n",
    "model.save_weights(\"model.h5\")\n",
    "print(\"Saved model to disk\")"
   ]
  },
  {
   "cell_type": "code",
   "execution_count": null,
   "metadata": {},
   "outputs": [],
   "source": []
  },
  {
   "cell_type": "code",
   "execution_count": null,
   "metadata": {},
   "outputs": [],
   "source": []
  }
 ],
 "metadata": {
  "kernelspec": {
   "display_name": "Python 3",
   "language": "python",
   "name": "python3"
  },
  "language_info": {
   "codemirror_mode": {
    "name": "ipython",
    "version": 3
   },
   "file_extension": ".py",
   "mimetype": "text/x-python",
   "name": "python",
   "nbconvert_exporter": "python",
   "pygments_lexer": "ipython3",
   "version": "3.6.5"
  }
 },
 "nbformat": 4,
 "nbformat_minor": 2
}
