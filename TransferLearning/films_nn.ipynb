{
 "cells": [
  {
   "cell_type": "markdown",
   "metadata": {},
   "source": [
    "## Construction du modèle de la classification des films"
   ]
  },
  {
   "cell_type": "code",
   "execution_count": 1,
   "metadata": {},
   "outputs": [
    {
     "name": "stderr",
     "output_type": "stream",
     "text": [
      "Using TensorFlow backend.\n"
     ]
    },
    {
     "data": {
      "text/plain": [
       "(3839, 63)"
      ]
     },
     "execution_count": 1,
     "metadata": {},
     "output_type": "execute_result"
    }
   ],
   "source": [
    "%store -r X_principalDf\n",
    "%store -r Y\n",
    "from sklearn.model_selection import train_test_split\n",
    "from keras.utils import to_categorical\n",
    "\n",
    "X = X_principalDf\n",
    "# Diviser la dataset en train/test\n",
    "X_train, X_test, y_train, y_test = train_test_split(X, Y, test_size=0.2, random_state=42)\n",
    "X_train.shape"
   ]
  },
  {
   "cell_type": "code",
   "execution_count": 2,
   "metadata": {},
   "outputs": [
    {
     "name": "stdout",
     "output_type": "stream",
     "text": [
      "Train on 2687 samples, validate on 1152 samples\n",
      "Epoch 1/100\n",
      "2687/2687 [==============================] - 0s 179us/step - loss: 0.6736 - acc: 0.5839 - val_loss: 0.6634 - val_acc: 0.6372\n",
      "Epoch 2/100\n",
      "2687/2687 [==============================] - 0s 34us/step - loss: 0.6598 - acc: 0.6055 - val_loss: 0.6447 - val_acc: 0.6615\n",
      "Epoch 3/100\n",
      "2687/2687 [==============================] - 0s 38us/step - loss: 0.6492 - acc: 0.6241 - val_loss: 0.6369 - val_acc: 0.6510\n",
      "Epoch 4/100\n",
      "2687/2687 [==============================] - 0s 45us/step - loss: 0.6416 - acc: 0.6360 - val_loss: 0.6302 - val_acc: 0.6536\n",
      "Epoch 5/100\n",
      "2687/2687 [==============================] - 0s 41us/step - loss: 0.6308 - acc: 0.6479 - val_loss: 0.6227 - val_acc: 0.6606\n",
      "Epoch 6/100\n",
      "2687/2687 [==============================] - 0s 39us/step - loss: 0.6244 - acc: 0.6580 - val_loss: 0.6175 - val_acc: 0.6632\n",
      "Epoch 7/100\n",
      "2687/2687 [==============================] - 0s 42us/step - loss: 0.6190 - acc: 0.6557 - val_loss: 0.6101 - val_acc: 0.6719\n",
      "Epoch 8/100\n",
      "2687/2687 [==============================] - 0s 41us/step - loss: 0.6163 - acc: 0.6636 - val_loss: 0.6046 - val_acc: 0.6762\n",
      "Epoch 9/100\n",
      "2687/2687 [==============================] - 0s 34us/step - loss: 0.6077 - acc: 0.6732 - val_loss: 0.5997 - val_acc: 0.6762\n",
      "Epoch 10/100\n",
      "2687/2687 [==============================] - 0s 34us/step - loss: 0.6047 - acc: 0.6781 - val_loss: 0.5951 - val_acc: 0.6780\n",
      "Epoch 11/100\n",
      "2687/2687 [==============================] - 0s 35us/step - loss: 0.5953 - acc: 0.6844 - val_loss: 0.5903 - val_acc: 0.6849\n",
      "Epoch 12/100\n",
      "2687/2687 [==============================] - 0s 34us/step - loss: 0.5896 - acc: 0.6918 - val_loss: 0.5847 - val_acc: 0.6936\n",
      "Epoch 13/100\n",
      "2687/2687 [==============================] - 0s 34us/step - loss: 0.5848 - acc: 0.6941 - val_loss: 0.5810 - val_acc: 0.6979\n",
      "Epoch 14/100\n",
      "2687/2687 [==============================] - 0s 35us/step - loss: 0.5899 - acc: 0.6896 - val_loss: 0.5775 - val_acc: 0.7014\n",
      "Epoch 15/100\n",
      "2687/2687 [==============================] - 0s 39us/step - loss: 0.5798 - acc: 0.6993 - val_loss: 0.5745 - val_acc: 0.7092\n",
      "Epoch 16/100\n",
      "2687/2687 [==============================] - 0s 38us/step - loss: 0.5719 - acc: 0.7093 - val_loss: 0.5702 - val_acc: 0.7092\n",
      "Epoch 17/100\n",
      "2687/2687 [==============================] - 0s 35us/step - loss: 0.5716 - acc: 0.7082 - val_loss: 0.5657 - val_acc: 0.7231\n",
      "Epoch 18/100\n",
      "2687/2687 [==============================] - 0s 36us/step - loss: 0.5668 - acc: 0.7052 - val_loss: 0.5634 - val_acc: 0.7274\n",
      "Epoch 19/100\n",
      "2687/2687 [==============================] - 0s 34us/step - loss: 0.5699 - acc: 0.7023 - val_loss: 0.5599 - val_acc: 0.7352\n",
      "Epoch 20/100\n",
      "2687/2687 [==============================] - 0s 34us/step - loss: 0.5584 - acc: 0.7067 - val_loss: 0.5565 - val_acc: 0.7352\n",
      "Epoch 21/100\n",
      "2687/2687 [==============================] - 0s 35us/step - loss: 0.5532 - acc: 0.7216 - val_loss: 0.5540 - val_acc: 0.7335\n",
      "Epoch 22/100\n",
      "2687/2687 [==============================] - 0s 34us/step - loss: 0.5509 - acc: 0.7253 - val_loss: 0.5532 - val_acc: 0.7292\n",
      "Epoch 23/100\n",
      "2687/2687 [==============================] - 0s 35us/step - loss: 0.5456 - acc: 0.7257 - val_loss: 0.5501 - val_acc: 0.7335\n",
      "Epoch 24/100\n",
      "2687/2687 [==============================] - 0s 33us/step - loss: 0.5543 - acc: 0.7131 - val_loss: 0.5507 - val_acc: 0.7266\n",
      "Epoch 25/100\n",
      "2687/2687 [==============================] - 0s 35us/step - loss: 0.5439 - acc: 0.7279 - val_loss: 0.5512 - val_acc: 0.7188\n",
      "Epoch 26/100\n",
      "2687/2687 [==============================] - 0s 33us/step - loss: 0.5431 - acc: 0.7261 - val_loss: 0.5453 - val_acc: 0.7396\n",
      "Epoch 27/100\n",
      "2687/2687 [==============================] - 0s 33us/step - loss: 0.5493 - acc: 0.7235 - val_loss: 0.5437 - val_acc: 0.7396\n",
      "Epoch 28/100\n",
      "2687/2687 [==============================] - 0s 33us/step - loss: 0.5420 - acc: 0.7231 - val_loss: 0.5414 - val_acc: 0.7387\n",
      "Epoch 29/100\n",
      "2687/2687 [==============================] - 0s 34us/step - loss: 0.5295 - acc: 0.7346 - val_loss: 0.5392 - val_acc: 0.7378\n",
      "Epoch 30/100\n",
      "2687/2687 [==============================] - 0s 33us/step - loss: 0.5358 - acc: 0.7339 - val_loss: 0.5377 - val_acc: 0.7439\n",
      "Epoch 31/100\n",
      "2687/2687 [==============================] - 0s 35us/step - loss: 0.5251 - acc: 0.7402 - val_loss: 0.5396 - val_acc: 0.7378\n",
      "Epoch 32/100\n",
      "2687/2687 [==============================] - 0s 34us/step - loss: 0.5211 - acc: 0.7428 - val_loss: 0.5353 - val_acc: 0.7465\n",
      "Epoch 33/100\n",
      "2687/2687 [==============================] - 0s 34us/step - loss: 0.5243 - acc: 0.7387 - val_loss: 0.5336 - val_acc: 0.7500\n",
      "Epoch 34/100\n",
      "2687/2687 [==============================] - 0s 34us/step - loss: 0.5239 - acc: 0.7421 - val_loss: 0.5324 - val_acc: 0.7483\n",
      "Epoch 35/100\n",
      "2687/2687 [==============================] - 0s 39us/step - loss: 0.5263 - acc: 0.7354 - val_loss: 0.5374 - val_acc: 0.7491\n",
      "Epoch 36/100\n",
      "2687/2687 [==============================] - 0s 40us/step - loss: 0.5262 - acc: 0.7395 - val_loss: 0.5326 - val_acc: 0.7474\n",
      "Epoch 37/100\n",
      "2687/2687 [==============================] - 0s 33us/step - loss: 0.5240 - acc: 0.7395 - val_loss: 0.5304 - val_acc: 0.7483\n",
      "Epoch 38/100\n",
      "2687/2687 [==============================] - 0s 34us/step - loss: 0.5182 - acc: 0.7454 - val_loss: 0.5335 - val_acc: 0.7543\n",
      "Epoch 39/100\n",
      "2687/2687 [==============================] - 0s 33us/step - loss: 0.5106 - acc: 0.7451 - val_loss: 0.5298 - val_acc: 0.7474\n",
      "Epoch 40/100\n",
      "2687/2687 [==============================] - 0s 39us/step - loss: 0.5114 - acc: 0.7417 - val_loss: 0.5296 - val_acc: 0.7483\n",
      "Epoch 41/100\n",
      "2687/2687 [==============================] - 0s 39us/step - loss: 0.5097 - acc: 0.7521 - val_loss: 0.5306 - val_acc: 0.7517\n",
      "Epoch 42/100\n",
      "2687/2687 [==============================] - 0s 39us/step - loss: 0.5071 - acc: 0.7570 - val_loss: 0.5298 - val_acc: 0.7535\n",
      "Epoch 43/100\n",
      "2687/2687 [==============================] - 0s 33us/step - loss: 0.5054 - acc: 0.7443 - val_loss: 0.5287 - val_acc: 0.7561\n",
      "Epoch 44/100\n",
      "2687/2687 [==============================] - 0s 33us/step - loss: 0.5001 - acc: 0.7585 - val_loss: 0.5293 - val_acc: 0.7491\n",
      "Epoch 45/100\n",
      "2687/2687 [==============================] - 0s 48us/step - loss: 0.5047 - acc: 0.7525 - val_loss: 0.5265 - val_acc: 0.7517\n",
      "Epoch 46/100\n",
      "2687/2687 [==============================] - 0s 66us/step - loss: 0.5065 - acc: 0.7518 - val_loss: 0.5263 - val_acc: 0.7578\n",
      "Epoch 47/100\n",
      "2687/2687 [==============================] - 0s 34us/step - loss: 0.5023 - acc: 0.7562 - val_loss: 0.5254 - val_acc: 0.7569\n",
      "Epoch 48/100\n",
      "2687/2687 [==============================] - 0s 30us/step - loss: 0.4965 - acc: 0.7585 - val_loss: 0.5265 - val_acc: 0.7526\n",
      "Epoch 49/100\n",
      "2687/2687 [==============================] - 0s 31us/step - loss: 0.4967 - acc: 0.7540 - val_loss: 0.5265 - val_acc: 0.7561\n",
      "Epoch 50/100\n",
      "2687/2687 [==============================] - 0s 31us/step - loss: 0.5006 - acc: 0.7566 - val_loss: 0.5260 - val_acc: 0.7569\n",
      "Epoch 51/100\n",
      "2687/2687 [==============================] - 0s 30us/step - loss: 0.4997 - acc: 0.7547 - val_loss: 0.5248 - val_acc: 0.7587\n",
      "Epoch 52/100\n",
      "2687/2687 [==============================] - 0s 30us/step - loss: 0.4916 - acc: 0.7503 - val_loss: 0.5237 - val_acc: 0.7595\n",
      "Epoch 53/100\n",
      "2687/2687 [==============================] - 0s 30us/step - loss: 0.4996 - acc: 0.7473 - val_loss: 0.5227 - val_acc: 0.7622\n",
      "Epoch 54/100\n",
      "2687/2687 [==============================] - 0s 30us/step - loss: 0.4991 - acc: 0.7596 - val_loss: 0.5241 - val_acc: 0.7613\n",
      "Epoch 55/100\n",
      "2687/2687 [==============================] - 0s 33us/step - loss: 0.4889 - acc: 0.7652 - val_loss: 0.5249 - val_acc: 0.7595\n",
      "Epoch 56/100\n",
      "2687/2687 [==============================] - 0s 43us/step - loss: 0.4842 - acc: 0.7614 - val_loss: 0.5231 - val_acc: 0.7613\n",
      "Epoch 57/100\n",
      "2687/2687 [==============================] - 0s 38us/step - loss: 0.4812 - acc: 0.7670 - val_loss: 0.5226 - val_acc: 0.7648\n",
      "Epoch 58/100\n",
      "2687/2687 [==============================] - 0s 32us/step - loss: 0.4832 - acc: 0.7622 - val_loss: 0.5231 - val_acc: 0.7639\n",
      "Epoch 59/100\n",
      "2687/2687 [==============================] - 0s 30us/step - loss: 0.4859 - acc: 0.7585 - val_loss: 0.5236 - val_acc: 0.7604\n",
      "Epoch 60/100\n"
     ]
    },
    {
     "name": "stdout",
     "output_type": "stream",
     "text": [
      "2687/2687 [==============================] - 0s 30us/step - loss: 0.4831 - acc: 0.7674 - val_loss: 0.5219 - val_acc: 0.7604\n",
      "Epoch 61/100\n",
      "2687/2687 [==============================] - 0s 30us/step - loss: 0.4853 - acc: 0.7626 - val_loss: 0.5212 - val_acc: 0.7595\n",
      "Epoch 62/100\n",
      "2687/2687 [==============================] - 0s 32us/step - loss: 0.4873 - acc: 0.7600 - val_loss: 0.5217 - val_acc: 0.7595\n",
      "Epoch 63/100\n",
      "2687/2687 [==============================] - 0s 38us/step - loss: 0.4781 - acc: 0.7693 - val_loss: 0.5244 - val_acc: 0.7517\n",
      "Epoch 64/100\n",
      "2687/2687 [==============================] - 0s 40us/step - loss: 0.4893 - acc: 0.7529 - val_loss: 0.5236 - val_acc: 0.7595\n",
      "Epoch 65/100\n",
      "2687/2687 [==============================] - 0s 37us/step - loss: 0.4861 - acc: 0.7629 - val_loss: 0.5230 - val_acc: 0.7578\n",
      "Epoch 66/100\n",
      "2687/2687 [==============================] - 0s 30us/step - loss: 0.4841 - acc: 0.7588 - val_loss: 0.5209 - val_acc: 0.7656\n",
      "Epoch 67/100\n",
      "2687/2687 [==============================] - 0s 30us/step - loss: 0.4885 - acc: 0.7611 - val_loss: 0.5223 - val_acc: 0.7613\n",
      "Epoch 68/100\n",
      "2687/2687 [==============================] - 0s 29us/step - loss: 0.4775 - acc: 0.7640 - val_loss: 0.5212 - val_acc: 0.7648\n",
      "Epoch 69/100\n",
      "2687/2687 [==============================] - 0s 31us/step - loss: 0.4788 - acc: 0.7596 - val_loss: 0.5230 - val_acc: 0.7561\n",
      "Epoch 70/100\n",
      "2687/2687 [==============================] - 0s 30us/step - loss: 0.4739 - acc: 0.7681 - val_loss: 0.5231 - val_acc: 0.7613\n",
      "Epoch 71/100\n",
      "2687/2687 [==============================] - 0s 30us/step - loss: 0.4804 - acc: 0.7614 - val_loss: 0.5229 - val_acc: 0.7578\n",
      "Epoch 72/100\n",
      "2687/2687 [==============================] - 0s 30us/step - loss: 0.4749 - acc: 0.7674 - val_loss: 0.5224 - val_acc: 0.7595\n",
      "Epoch 73/100\n",
      "2687/2687 [==============================] - 0s 30us/step - loss: 0.4751 - acc: 0.7730 - val_loss: 0.5229 - val_acc: 0.7622\n",
      "Epoch 74/100\n",
      "2687/2687 [==============================] - 0s 30us/step - loss: 0.4806 - acc: 0.7655 - val_loss: 0.5247 - val_acc: 0.7578\n",
      "Epoch 75/100\n",
      "2687/2687 [==============================] - 0s 31us/step - loss: 0.4713 - acc: 0.7689 - val_loss: 0.5234 - val_acc: 0.7656\n",
      "Epoch 76/100\n",
      "2687/2687 [==============================] - 0s 30us/step - loss: 0.4692 - acc: 0.7689 - val_loss: 0.5236 - val_acc: 0.7613\n",
      "Epoch 77/100\n",
      "2687/2687 [==============================] - 0s 29us/step - loss: 0.4708 - acc: 0.7771 - val_loss: 0.5247 - val_acc: 0.7604\n",
      "Epoch 78/100\n",
      "2687/2687 [==============================] - 0s 32us/step - loss: 0.4665 - acc: 0.7868 - val_loss: 0.5248 - val_acc: 0.7604\n",
      "Epoch 79/100\n",
      "2687/2687 [==============================] - 0s 30us/step - loss: 0.4764 - acc: 0.7726 - val_loss: 0.5234 - val_acc: 0.7639\n",
      "Epoch 80/100\n",
      "2687/2687 [==============================] - 0s 30us/step - loss: 0.4690 - acc: 0.7730 - val_loss: 0.5226 - val_acc: 0.7595\n",
      "Epoch 81/100\n",
      "2687/2687 [==============================] - 0s 30us/step - loss: 0.4719 - acc: 0.7767 - val_loss: 0.5252 - val_acc: 0.7552\n",
      "Epoch 82/100\n",
      "2687/2687 [==============================] - 0s 29us/step - loss: 0.4819 - acc: 0.7663 - val_loss: 0.5229 - val_acc: 0.7595\n",
      "Epoch 83/100\n",
      "2687/2687 [==============================] - 0s 30us/step - loss: 0.4763 - acc: 0.7737 - val_loss: 0.5234 - val_acc: 0.7561\n",
      "Epoch 84/100\n",
      "2687/2687 [==============================] - 0s 31us/step - loss: 0.4669 - acc: 0.7771 - val_loss: 0.5223 - val_acc: 0.7639\n",
      "Epoch 85/100\n",
      "2687/2687 [==============================] - 0s 30us/step - loss: 0.4697 - acc: 0.7719 - val_loss: 0.5238 - val_acc: 0.7578\n",
      "Epoch 86/100\n",
      "2687/2687 [==============================] - 0s 31us/step - loss: 0.4651 - acc: 0.7819 - val_loss: 0.5241 - val_acc: 0.7569\n",
      "Epoch 87/100\n",
      "2687/2687 [==============================] - 0s 31us/step - loss: 0.4624 - acc: 0.7823 - val_loss: 0.5234 - val_acc: 0.7622\n",
      "Epoch 88/100\n",
      "2687/2687 [==============================] - 0s 29us/step - loss: 0.4592 - acc: 0.7815 - val_loss: 0.5281 - val_acc: 0.7509\n",
      "Epoch 89/100\n",
      "2687/2687 [==============================] - 0s 29us/step - loss: 0.4706 - acc: 0.7704 - val_loss: 0.5267 - val_acc: 0.7517\n",
      "Epoch 90/100\n",
      "2687/2687 [==============================] - 0s 31us/step - loss: 0.4627 - acc: 0.7722 - val_loss: 0.5248 - val_acc: 0.7656\n",
      "Epoch 91/100\n",
      "2687/2687 [==============================] - 0s 30us/step - loss: 0.4591 - acc: 0.7797 - val_loss: 0.5258 - val_acc: 0.7569\n",
      "Epoch 92/100\n",
      "2687/2687 [==============================] - 0s 30us/step - loss: 0.4701 - acc: 0.7719 - val_loss: 0.5246 - val_acc: 0.7622\n",
      "Epoch 93/100\n",
      "2687/2687 [==============================] - 0s 30us/step - loss: 0.4532 - acc: 0.7808 - val_loss: 0.5263 - val_acc: 0.7569\n",
      "Epoch 94/100\n",
      "2687/2687 [==============================] - 0s 30us/step - loss: 0.4617 - acc: 0.7797 - val_loss: 0.5261 - val_acc: 0.7561\n",
      "Epoch 95/100\n",
      "2687/2687 [==============================] - 0s 29us/step - loss: 0.4679 - acc: 0.7815 - val_loss: 0.5262 - val_acc: 0.7552\n",
      "Epoch 96/100\n",
      "2687/2687 [==============================] - 0s 29us/step - loss: 0.4589 - acc: 0.7782 - val_loss: 0.5260 - val_acc: 0.7569\n",
      "Epoch 97/100\n",
      "2687/2687 [==============================] - 0s 30us/step - loss: 0.4575 - acc: 0.7875 - val_loss: 0.5271 - val_acc: 0.7569\n",
      "Epoch 98/100\n",
      "2687/2687 [==============================] - 0s 30us/step - loss: 0.4628 - acc: 0.7860 - val_loss: 0.5249 - val_acc: 0.7604\n",
      "Epoch 99/100\n",
      "2687/2687 [==============================] - 0s 30us/step - loss: 0.4652 - acc: 0.7782 - val_loss: 0.5256 - val_acc: 0.7569\n",
      "Epoch 100/100\n",
      "2687/2687 [==============================] - 0s 30us/step - loss: 0.4625 - acc: 0.7696 - val_loss: 0.5252 - val_acc: 0.7622\n"
     ]
    }
   ],
   "source": [
    "from keras.models import Sequential\n",
    "from keras.layers import Dense, Dropout \n",
    "from keras.activations import relu, sigmoid\n",
    "from keras.optimizers import Adam\n",
    "\n",
    "# Construire le modèle\n",
    "model = Sequential()\n",
    "model.add(Dense(32, activation='relu', input_dim=X_train.shape[1]))\n",
    "model.add(Dropout(0.2))\n",
    "model.add(Dense(20, activation='relu'))\n",
    "model.add(Dropout(0.2))\n",
    "model.add(Dense(16, activation='relu'))\n",
    "model.add(Dense(1, activation='sigmoid'))\n",
    "adam = Adam(lr=0.001, decay = 0.001)\n",
    "model.compile(optimizer=adam, loss='binary_crossentropy', metrics=['accuracy'])\n",
    "\n",
    "# Entrainer le modèle\n",
    "history = model.fit(X_train, y_train, validation_split=0.30, batch_size=100, epochs=100)"
   ]
  },
  {
   "cell_type": "code",
   "execution_count": 3,
   "metadata": {
    "scrolled": true
   },
   "outputs": [
    {
     "name": "stdout",
     "output_type": "stream",
     "text": [
      "_________________________________________________________________\n",
      "Layer (type)                 Output Shape              Param #   \n",
      "=================================================================\n",
      "dense_1 (Dense)              (None, 32)                2048      \n",
      "_________________________________________________________________\n",
      "dropout_1 (Dropout)          (None, 32)                0         \n",
      "_________________________________________________________________\n",
      "dense_2 (Dense)              (None, 20)                660       \n",
      "_________________________________________________________________\n",
      "dropout_2 (Dropout)          (None, 20)                0         \n",
      "_________________________________________________________________\n",
      "dense_3 (Dense)              (None, 16)                336       \n",
      "_________________________________________________________________\n",
      "dense_4 (Dense)              (None, 1)                 17        \n",
      "=================================================================\n",
      "Total params: 3,061\n",
      "Trainable params: 3,061\n",
      "Non-trainable params: 0\n",
      "_________________________________________________________________\n"
     ]
    }
   ],
   "source": [
    "model.summary()"
   ]
  },
  {
   "cell_type": "code",
   "execution_count": 4,
   "metadata": {},
   "outputs": [
    {
     "name": "stdout",
     "output_type": "stream",
     "text": [
      "960/960 [==============================] - 0s 40us/step\n"
     ]
    },
    {
     "data": {
      "text/plain": [
       "[0.4891395409901937, 0.7583333333333333]"
      ]
     },
     "execution_count": 4,
     "metadata": {},
     "output_type": "execute_result"
    }
   ],
   "source": [
    "model.evaluate(X_test, y_test) # fonction d'erreur (binary cross entropy) + Accuracy"
   ]
  },
  {
   "cell_type": "code",
   "execution_count": 5,
   "metadata": {},
   "outputs": [
    {
     "data": {
      "text/plain": [
       "<Figure size 640x480 with 2 Axes>"
      ]
     },
     "metadata": {},
     "output_type": "display_data"
    }
   ],
   "source": [
    "from matplotlib import pyplot\n",
    "\n",
    "# Tracer la courbe d'erreur pendant l'apprentissage\n",
    "pyplot.subplot(211)\n",
    "pyplot.title('Loss')\n",
    "pyplot.plot(history.history['loss'], label='train')\n",
    "pyplot.plot(history.history['val_loss'], label='validation')\n",
    "pyplot.legend()\n",
    "# Tracer la courbe de la précision pendant l'apprentissage\n",
    "pyplot.subplot(212)\n",
    "pyplot.title('Accuracy')\n",
    "pyplot.plot(history.history['acc'], label='train')\n",
    "pyplot.plot(history.history['val_acc'], label='validation')\n",
    "pyplot.legend()\n",
    "pyplot.show()"
   ]
  },
  {
   "cell_type": "code",
   "execution_count": 6,
   "metadata": {},
   "outputs": [
    {
     "name": "stdout",
     "output_type": "stream",
     "text": [
      "La matrice de confusion:\n",
      " [[286 111]\n",
      " [121 442]]\n"
     ]
    }
   ],
   "source": [
    "from sklearn.metrics import confusion_matrix\n",
    "\n",
    "# La matrice de confusion\n",
    "print(\"La matrice de confusion:\\n {}\".format(confusion_matrix(y_test, model.predict_classes(X_test))))"
   ]
  },
  {
   "cell_type": "code",
   "execution_count": 7,
   "metadata": {},
   "outputs": [
    {
     "name": "stdout",
     "output_type": "stream",
     "text": [
      "Saved model to disk\n"
     ]
    }
   ],
   "source": [
    "#pickle pour enregistrer le modèle\n",
    "# enregistrer le modèle en format JSON\n",
    "model_json = model.to_json()\n",
    "with open(\"model.json\", \"w\") as json_file:\n",
    "    json_file.write(model_json)\n",
    "# enregistrer les poids en format HDF5\n",
    "model.save_weights(\"model.h5\")\n",
    "print(\"Saved model to disk\")"
   ]
  },
  {
   "cell_type": "code",
   "execution_count": null,
   "metadata": {},
   "outputs": [],
   "source": []
  },
  {
   "cell_type": "code",
   "execution_count": null,
   "metadata": {},
   "outputs": [],
   "source": []
  }
 ],
 "metadata": {
  "kernelspec": {
   "display_name": "Python 3",
   "language": "python",
   "name": "python3"
  },
  "language_info": {
   "codemirror_mode": {
    "name": "ipython",
    "version": 3
   },
   "file_extension": ".py",
   "mimetype": "text/x-python",
   "name": "python",
   "nbconvert_exporter": "python",
   "pygments_lexer": "ipython3",
   "version": "3.6.5"
  }
 },
 "nbformat": 4,
 "nbformat_minor": 2
}
