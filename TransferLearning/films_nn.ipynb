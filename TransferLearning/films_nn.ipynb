{
 "cells": [
  {
   "cell_type": "markdown",
   "metadata": {},
   "source": [
    "## Construction du modèle de la classification des films"
   ]
  },
  {
   "cell_type": "code",
   "execution_count": 1,
   "metadata": {},
   "outputs": [
    {
     "name": "stderr",
     "output_type": "stream",
     "text": [
      "Using TensorFlow backend.\n"
     ]
    },
    {
     "data": {
      "text/plain": [
       "(3839, 63)"
      ]
     },
     "execution_count": 1,
     "metadata": {},
     "output_type": "execute_result"
    }
   ],
   "source": [
    "%store -r X_principalDf\n",
    "%store -r Y\n",
    "from sklearn.model_selection import train_test_split\n",
    "from keras.utils import to_categorical\n",
    "\n",
    "X = X_principalDf\n",
    "# Diviser la dataset en train/test\n",
    "X_train, X_test, y_train, y_test = train_test_split(X, Y, test_size=0.2, random_state=42)\n",
    "X_train.shape"
   ]
  },
  {
   "cell_type": "code",
   "execution_count": 2,
   "metadata": {},
   "outputs": [
    {
     "name": "stdout",
     "output_type": "stream",
     "text": [
      "Train on 2687 samples, validate on 1152 samples\n",
      "Epoch 1/100\n",
      "2687/2687 [==============================] - 1s 447us/step - loss: 0.6863 - acc: 0.5475 - val_loss: 0.6703 - val_acc: 0.5920\n",
      "Epoch 2/100\n",
      "2687/2687 [==============================] - 0s 116us/step - loss: 0.6680 - acc: 0.5917 - val_loss: 0.6545 - val_acc: 0.6120\n",
      "Epoch 3/100\n",
      "2687/2687 [==============================] - 0s 56us/step - loss: 0.6566 - acc: 0.6118 - val_loss: 0.6405 - val_acc: 0.6319\n",
      "Epoch 4/100\n",
      "2687/2687 [==============================] - 0s 99us/step - loss: 0.6442 - acc: 0.6189 - val_loss: 0.6292 - val_acc: 0.6545\n",
      "Epoch 5/100\n",
      "2687/2687 [==============================] - 0s 98us/step - loss: 0.6342 - acc: 0.6464 - val_loss: 0.6221 - val_acc: 0.6719\n",
      "Epoch 6/100\n",
      "2687/2687 [==============================] - 0s 126us/step - loss: 0.6274 - acc: 0.6595 - val_loss: 0.6161 - val_acc: 0.6753\n",
      "Epoch 7/100\n",
      "2687/2687 [==============================] - 0s 141us/step - loss: 0.6284 - acc: 0.6565 - val_loss: 0.6104 - val_acc: 0.6832\n",
      "Epoch 8/100\n",
      "2687/2687 [==============================] - 0s 88us/step - loss: 0.6234 - acc: 0.6673 - val_loss: 0.6054 - val_acc: 0.6997\n",
      "Epoch 9/100\n",
      "2687/2687 [==============================] - 0s 56us/step - loss: 0.6158 - acc: 0.6688 - val_loss: 0.6000 - val_acc: 0.6979\n",
      "Epoch 10/100\n",
      "2687/2687 [==============================] - 0s 57us/step - loss: 0.6098 - acc: 0.6718 - val_loss: 0.5954 - val_acc: 0.6997\n",
      "Epoch 11/100\n",
      "2687/2687 [==============================] - 0s 66us/step - loss: 0.6036 - acc: 0.6818 - val_loss: 0.5914 - val_acc: 0.6988\n",
      "Epoch 12/100\n",
      "2687/2687 [==============================] - 0s 64us/step - loss: 0.5974 - acc: 0.6855 - val_loss: 0.5863 - val_acc: 0.7057\n",
      "Epoch 13/100\n",
      "2687/2687 [==============================] - 0s 59us/step - loss: 0.5975 - acc: 0.6844 - val_loss: 0.5818 - val_acc: 0.7092\n",
      "Epoch 14/100\n",
      "2687/2687 [==============================] - 0s 59us/step - loss: 0.5890 - acc: 0.6985 - val_loss: 0.5788 - val_acc: 0.7170\n",
      "Epoch 15/100\n",
      "2687/2687 [==============================] - 0s 51us/step - loss: 0.5798 - acc: 0.6948 - val_loss: 0.5721 - val_acc: 0.7214\n",
      "Epoch 16/100\n",
      "2687/2687 [==============================] - 0s 61us/step - loss: 0.5780 - acc: 0.6952 - val_loss: 0.5687 - val_acc: 0.7248\n",
      "Epoch 17/100\n",
      "2687/2687 [==============================] - 0s 53us/step - loss: 0.5763 - acc: 0.7038 - val_loss: 0.5659 - val_acc: 0.7196\n",
      "Epoch 18/100\n",
      "2687/2687 [==============================] - 0s 57us/step - loss: 0.5658 - acc: 0.7179 - val_loss: 0.5594 - val_acc: 0.7266\n",
      "Epoch 19/100\n",
      "2687/2687 [==============================] - 0s 53us/step - loss: 0.5601 - acc: 0.7097 - val_loss: 0.5580 - val_acc: 0.7196\n",
      "Epoch 20/100\n",
      "2687/2687 [==============================] - 0s 59us/step - loss: 0.5565 - acc: 0.7231 - val_loss: 0.5508 - val_acc: 0.7318\n",
      "Epoch 21/100\n",
      "2687/2687 [==============================] - 0s 77us/step - loss: 0.5616 - acc: 0.7071 - val_loss: 0.5504 - val_acc: 0.7344\n",
      "Epoch 22/100\n",
      "2687/2687 [==============================] - 0s 60us/step - loss: 0.5473 - acc: 0.7224 - val_loss: 0.5457 - val_acc: 0.7309\n",
      "Epoch 23/100\n",
      "2687/2687 [==============================] - 0s 60us/step - loss: 0.5478 - acc: 0.7186 - val_loss: 0.5444 - val_acc: 0.7309\n",
      "Epoch 24/100\n",
      "2687/2687 [==============================] - 0s 59us/step - loss: 0.5436 - acc: 0.7220 - val_loss: 0.5392 - val_acc: 0.7370\n",
      "Epoch 25/100\n",
      "2687/2687 [==============================] - 0s 53us/step - loss: 0.5391 - acc: 0.7276 - val_loss: 0.5407 - val_acc: 0.7335\n",
      "Epoch 26/100\n",
      "2687/2687 [==============================] - 0s 60us/step - loss: 0.5343 - acc: 0.7354 - val_loss: 0.5352 - val_acc: 0.7405\n",
      "Epoch 27/100\n",
      "2687/2687 [==============================] - 0s 76us/step - loss: 0.5293 - acc: 0.7365 - val_loss: 0.5338 - val_acc: 0.7422\n",
      "Epoch 28/100\n",
      "2687/2687 [==============================] - 0s 90us/step - loss: 0.5305 - acc: 0.7309 - val_loss: 0.5304 - val_acc: 0.7431\n",
      "Epoch 29/100\n",
      "2687/2687 [==============================] - 0s 51us/step - loss: 0.5195 - acc: 0.7402 - val_loss: 0.5291 - val_acc: 0.7413\n",
      "Epoch 30/100\n",
      "2687/2687 [==============================] - 0s 56us/step - loss: 0.5244 - acc: 0.7369 - val_loss: 0.5276 - val_acc: 0.7457\n",
      "Epoch 31/100\n",
      "2687/2687 [==============================] - 0s 55us/step - loss: 0.5157 - acc: 0.7451 - val_loss: 0.5255 - val_acc: 0.7422\n",
      "Epoch 32/100\n",
      "2687/2687 [==============================] - 0s 50us/step - loss: 0.5217 - acc: 0.7324 - val_loss: 0.5253 - val_acc: 0.7422\n",
      "Epoch 33/100\n",
      "2687/2687 [==============================] - 0s 57us/step - loss: 0.5157 - acc: 0.7428 - val_loss: 0.5257 - val_acc: 0.7439\n",
      "Epoch 34/100\n",
      "2687/2687 [==============================] - 0s 52us/step - loss: 0.5197 - acc: 0.7373 - val_loss: 0.5253 - val_acc: 0.7491\n",
      "Epoch 35/100\n",
      "2687/2687 [==============================] - 0s 54us/step - loss: 0.5056 - acc: 0.7417 - val_loss: 0.5219 - val_acc: 0.7491\n",
      "Epoch 36/100\n",
      "2687/2687 [==============================] - 0s 58us/step - loss: 0.5049 - acc: 0.7555 - val_loss: 0.5227 - val_acc: 0.7474\n",
      "Epoch 37/100\n",
      "2687/2687 [==============================] - 0s 55us/step - loss: 0.5055 - acc: 0.7559 - val_loss: 0.5204 - val_acc: 0.7500\n",
      "Epoch 38/100\n",
      "2687/2687 [==============================] - 0s 46us/step - loss: 0.5114 - acc: 0.7462 - val_loss: 0.5219 - val_acc: 0.7405\n",
      "Epoch 39/100\n",
      "2687/2687 [==============================] - 0s 51us/step - loss: 0.4979 - acc: 0.7529 - val_loss: 0.5238 - val_acc: 0.7483\n",
      "Epoch 40/100\n",
      "2687/2687 [==============================] - 0s 48us/step - loss: 0.5072 - acc: 0.7499 - val_loss: 0.5203 - val_acc: 0.7526\n",
      "Epoch 41/100\n",
      "2687/2687 [==============================] - 0s 66us/step - loss: 0.5006 - acc: 0.7570 - val_loss: 0.5186 - val_acc: 0.7604\n",
      "Epoch 42/100\n",
      "2687/2687 [==============================] - 0s 60us/step - loss: 0.5049 - acc: 0.7525 - val_loss: 0.5196 - val_acc: 0.7535\n",
      "Epoch 43/100\n",
      "2687/2687 [==============================] - 0s 69us/step - loss: 0.4985 - acc: 0.7488 - val_loss: 0.5185 - val_acc: 0.7517\n",
      "Epoch 44/100\n",
      "2687/2687 [==============================] - 0s 67us/step - loss: 0.4920 - acc: 0.7603 - val_loss: 0.5218 - val_acc: 0.7483\n",
      "Epoch 45/100\n",
      "2687/2687 [==============================] - 0s 67us/step - loss: 0.4958 - acc: 0.7570 - val_loss: 0.5187 - val_acc: 0.7543\n",
      "Epoch 46/100\n",
      "2687/2687 [==============================] - 0s 43us/step - loss: 0.5046 - acc: 0.7436 - val_loss: 0.5182 - val_acc: 0.7509\n",
      "Epoch 47/100\n",
      "2687/2687 [==============================] - 0s 52us/step - loss: 0.4970 - acc: 0.7559 - val_loss: 0.5168 - val_acc: 0.7552\n",
      "Epoch 48/100\n",
      "2687/2687 [==============================] - 0s 60us/step - loss: 0.4875 - acc: 0.7596 - val_loss: 0.5164 - val_acc: 0.7561\n",
      "Epoch 49/100\n",
      "2687/2687 [==============================] - 0s 59us/step - loss: 0.4880 - acc: 0.7663 - val_loss: 0.5200 - val_acc: 0.7552\n",
      "Epoch 50/100\n",
      "2687/2687 [==============================] - 0s 57us/step - loss: 0.4922 - acc: 0.7637 - val_loss: 0.5164 - val_acc: 0.7543\n",
      "Epoch 51/100\n",
      "2687/2687 [==============================] - 0s 50us/step - loss: 0.4814 - acc: 0.7622 - val_loss: 0.5157 - val_acc: 0.7587\n",
      "Epoch 52/100\n",
      "2687/2687 [==============================] - 0s 50us/step - loss: 0.4830 - acc: 0.7637 - val_loss: 0.5165 - val_acc: 0.7604\n",
      "Epoch 53/100\n",
      "2687/2687 [==============================] - 0s 44us/step - loss: 0.4782 - acc: 0.7741 - val_loss: 0.5166 - val_acc: 0.7595\n",
      "Epoch 54/100\n",
      "2687/2687 [==============================] - 0s 44us/step - loss: 0.4918 - acc: 0.7596 - val_loss: 0.5170 - val_acc: 0.7552\n",
      "Epoch 55/100\n",
      "2687/2687 [==============================] - 0s 50us/step - loss: 0.4876 - acc: 0.7566 - val_loss: 0.5159 - val_acc: 0.7595\n",
      "Epoch 56/100\n",
      "2687/2687 [==============================] - 0s 49us/step - loss: 0.4839 - acc: 0.7648 - val_loss: 0.5148 - val_acc: 0.7578\n",
      "Epoch 57/100\n",
      "2687/2687 [==============================] - 0s 45us/step - loss: 0.4761 - acc: 0.7730 - val_loss: 0.5169 - val_acc: 0.7543\n",
      "Epoch 58/100\n",
      "2687/2687 [==============================] - 0s 42us/step - loss: 0.4868 - acc: 0.7674 - val_loss: 0.5150 - val_acc: 0.7622\n",
      "Epoch 59/100\n",
      "2687/2687 [==============================] - 0s 47us/step - loss: 0.4773 - acc: 0.7678 - val_loss: 0.5146 - val_acc: 0.7639\n",
      "Epoch 60/100\n"
     ]
    },
    {
     "name": "stdout",
     "output_type": "stream",
     "text": [
      "2687/2687 [==============================] - 0s 46us/step - loss: 0.4841 - acc: 0.7618 - val_loss: 0.5139 - val_acc: 0.7656\n",
      "Epoch 61/100\n",
      "2687/2687 [==============================] - 0s 39us/step - loss: 0.4774 - acc: 0.7659 - val_loss: 0.5160 - val_acc: 0.7613\n",
      "Epoch 62/100\n",
      "2687/2687 [==============================] - 0s 39us/step - loss: 0.4717 - acc: 0.7700 - val_loss: 0.5145 - val_acc: 0.7639\n",
      "Epoch 63/100\n",
      "2687/2687 [==============================] - 0s 68us/step - loss: 0.4826 - acc: 0.7611 - val_loss: 0.5140 - val_acc: 0.7665\n",
      "Epoch 64/100\n",
      "2687/2687 [==============================] - 0s 42us/step - loss: 0.4834 - acc: 0.7655 - val_loss: 0.5141 - val_acc: 0.7682\n",
      "Epoch 65/100\n",
      "2687/2687 [==============================] - 0s 45us/step - loss: 0.4789 - acc: 0.7722 - val_loss: 0.5140 - val_acc: 0.7674\n",
      "Epoch 66/100\n",
      "2687/2687 [==============================] - 0s 47us/step - loss: 0.4830 - acc: 0.7674 - val_loss: 0.5150 - val_acc: 0.7691\n",
      "Epoch 67/100\n",
      "2687/2687 [==============================] - 0s 51us/step - loss: 0.4741 - acc: 0.7652 - val_loss: 0.5144 - val_acc: 0.7674\n",
      "Epoch 68/100\n",
      "2687/2687 [==============================] - 0s 45us/step - loss: 0.4737 - acc: 0.7693 - val_loss: 0.5158 - val_acc: 0.7639\n",
      "Epoch 69/100\n",
      "2687/2687 [==============================] - 0s 49us/step - loss: 0.4761 - acc: 0.7678 - val_loss: 0.5142 - val_acc: 0.7630\n",
      "Epoch 70/100\n",
      "2687/2687 [==============================] - 0s 45us/step - loss: 0.4753 - acc: 0.7700 - val_loss: 0.5152 - val_acc: 0.7656\n",
      "Epoch 71/100\n",
      "2687/2687 [==============================] - 0s 43us/step - loss: 0.4757 - acc: 0.7622 - val_loss: 0.5142 - val_acc: 0.7691\n",
      "Epoch 72/100\n",
      "2687/2687 [==============================] - 0s 43us/step - loss: 0.4671 - acc: 0.7819 - val_loss: 0.5141 - val_acc: 0.7682\n",
      "Epoch 73/100\n",
      "2687/2687 [==============================] - 0s 55us/step - loss: 0.4697 - acc: 0.7819 - val_loss: 0.5143 - val_acc: 0.7674\n",
      "Epoch 74/100\n",
      "2687/2687 [==============================] - 0s 45us/step - loss: 0.4678 - acc: 0.7778 - val_loss: 0.5138 - val_acc: 0.7639\n",
      "Epoch 75/100\n",
      "2687/2687 [==============================] - 0s 45us/step - loss: 0.4744 - acc: 0.7715 - val_loss: 0.5143 - val_acc: 0.7691\n",
      "Epoch 76/100\n",
      "2687/2687 [==============================] - 0s 44us/step - loss: 0.4719 - acc: 0.7704 - val_loss: 0.5141 - val_acc: 0.7656\n",
      "Epoch 77/100\n",
      "2687/2687 [==============================] - 0s 40us/step - loss: 0.4732 - acc: 0.7685 - val_loss: 0.5130 - val_acc: 0.7639\n",
      "Epoch 78/100\n",
      "2687/2687 [==============================] - 0s 43us/step - loss: 0.4667 - acc: 0.7834 - val_loss: 0.5140 - val_acc: 0.7682\n",
      "Epoch 79/100\n",
      "2687/2687 [==============================] - 0s 41us/step - loss: 0.4685 - acc: 0.7797 - val_loss: 0.5135 - val_acc: 0.7682\n",
      "Epoch 80/100\n",
      "2687/2687 [==============================] - 0s 43us/step - loss: 0.4716 - acc: 0.7812 - val_loss: 0.5150 - val_acc: 0.7656\n",
      "Epoch 81/100\n",
      "2687/2687 [==============================] - 0s 82us/step - loss: 0.4598 - acc: 0.7752 - val_loss: 0.5132 - val_acc: 0.7665\n",
      "Epoch 82/100\n",
      "2687/2687 [==============================] - 0s 95us/step - loss: 0.4649 - acc: 0.7808 - val_loss: 0.5147 - val_acc: 0.7700\n",
      "Epoch 83/100\n",
      "2687/2687 [==============================] - 0s 45us/step - loss: 0.4643 - acc: 0.7763 - val_loss: 0.5145 - val_acc: 0.7682\n",
      "Epoch 84/100\n",
      "2687/2687 [==============================] - 0s 48us/step - loss: 0.4612 - acc: 0.7827 - val_loss: 0.5145 - val_acc: 0.7674\n",
      "Epoch 85/100\n",
      "2687/2687 [==============================] - 0s 48us/step - loss: 0.4667 - acc: 0.7737 - val_loss: 0.5145 - val_acc: 0.7665\n",
      "Epoch 86/100\n",
      "2687/2687 [==============================] - 0s 52us/step - loss: 0.4582 - acc: 0.7756 - val_loss: 0.5156 - val_acc: 0.7665\n",
      "Epoch 87/100\n",
      "2687/2687 [==============================] - ETA: 0s - loss: 0.4603 - acc: 0.776 - 0s 44us/step - loss: 0.4655 - acc: 0.7745 - val_loss: 0.5165 - val_acc: 0.7691\n",
      "Epoch 88/100\n",
      "2687/2687 [==============================] - 0s 64us/step - loss: 0.4544 - acc: 0.7912 - val_loss: 0.5151 - val_acc: 0.7648\n",
      "Epoch 89/100\n",
      "2687/2687 [==============================] - 0s 60us/step - loss: 0.4599 - acc: 0.7823 - val_loss: 0.5158 - val_acc: 0.7656\n",
      "Epoch 90/100\n",
      "2687/2687 [==============================] - 0s 54us/step - loss: 0.4636 - acc: 0.7804 - val_loss: 0.5168 - val_acc: 0.7717\n",
      "Epoch 91/100\n",
      "2687/2687 [==============================] - 0s 43us/step - loss: 0.4504 - acc: 0.7894 - val_loss: 0.5159 - val_acc: 0.7665\n",
      "Epoch 92/100\n",
      "2687/2687 [==============================] - 0s 62us/step - loss: 0.4539 - acc: 0.7882 - val_loss: 0.5158 - val_acc: 0.7630\n",
      "Epoch 93/100\n",
      "2687/2687 [==============================] - 0s 55us/step - loss: 0.4524 - acc: 0.7871 - val_loss: 0.5161 - val_acc: 0.7630\n",
      "Epoch 94/100\n",
      "2687/2687 [==============================] - 0s 46us/step - loss: 0.4590 - acc: 0.7812 - val_loss: 0.5154 - val_acc: 0.7656\n",
      "Epoch 95/100\n",
      "2687/2687 [==============================] - 0s 44us/step - loss: 0.4559 - acc: 0.7734 - val_loss: 0.5157 - val_acc: 0.7682\n",
      "Epoch 96/100\n",
      "2687/2687 [==============================] - 0s 47us/step - loss: 0.4586 - acc: 0.7804 - val_loss: 0.5164 - val_acc: 0.7674\n",
      "Epoch 97/100\n",
      "2687/2687 [==============================] - 0s 65us/step - loss: 0.4520 - acc: 0.7849 - val_loss: 0.5157 - val_acc: 0.7648\n",
      "Epoch 98/100\n",
      "2687/2687 [==============================] - 0s 52us/step - loss: 0.4503 - acc: 0.7864 - val_loss: 0.5157 - val_acc: 0.7700\n",
      "Epoch 99/100\n",
      "2687/2687 [==============================] - 0s 46us/step - loss: 0.4534 - acc: 0.7793 - val_loss: 0.5162 - val_acc: 0.7674\n",
      "Epoch 100/100\n",
      "2687/2687 [==============================] - 0s 42us/step - loss: 0.4493 - acc: 0.7901 - val_loss: 0.5161 - val_acc: 0.7682\n"
     ]
    }
   ],
   "source": [
    "from keras.models import Sequential\n",
    "from keras.layers import Dense, Dropout \n",
    "from keras.activations import relu, sigmoid\n",
    "from keras.optimizers import Adam\n",
    "\n",
    "# Construire le modèle\n",
    "model = Sequential()\n",
    "model.add(Dense(32, activation='relu', input_dim=X_train.shape[1]))\n",
    "model.add(Dropout(0.2))\n",
    "model.add(Dense(20, activation='relu'))\n",
    "model.add(Dropout(0.2))\n",
    "model.add(Dense(16, activation='relu'))\n",
    "model.add(Dense(1, activation='sigmoid'))\n",
    "adam = Adam(lr=0.001, decay = 0.001)\n",
    "model.compile(optimizer=adam, loss='binary_crossentropy', metrics=['accuracy'])\n",
    "\n",
    "# Entrainer le modèle\n",
    "history = model.fit(X_train, y_train, validation_split=0.30, batch_size=100, epochs=100)"
   ]
  },
  {
   "cell_type": "code",
   "execution_count": 3,
   "metadata": {
    "scrolled": true
   },
   "outputs": [
    {
     "name": "stdout",
     "output_type": "stream",
     "text": [
      "_________________________________________________________________\n",
      "Layer (type)                 Output Shape              Param #   \n",
      "=================================================================\n",
      "dense_1 (Dense)              (None, 32)                2048      \n",
      "_________________________________________________________________\n",
      "dropout_1 (Dropout)          (None, 32)                0         \n",
      "_________________________________________________________________\n",
      "dense_2 (Dense)              (None, 20)                660       \n",
      "_________________________________________________________________\n",
      "dropout_2 (Dropout)          (None, 20)                0         \n",
      "_________________________________________________________________\n",
      "dense_3 (Dense)              (None, 16)                336       \n",
      "_________________________________________________________________\n",
      "dense_4 (Dense)              (None, 1)                 17        \n",
      "=================================================================\n",
      "Total params: 3,061\n",
      "Trainable params: 3,061\n",
      "Non-trainable params: 0\n",
      "_________________________________________________________________\n"
     ]
    }
   ],
   "source": [
    "model.summary()"
   ]
  },
  {
   "cell_type": "code",
   "execution_count": 4,
   "metadata": {},
   "outputs": [
    {
     "name": "stdout",
     "output_type": "stream",
     "text": [
      "960/960 [==============================] - 0s 35us/step\n"
     ]
    },
    {
     "data": {
      "text/plain": [
       "[0.4912223796049754, 0.7760416666666666]"
      ]
     },
     "execution_count": 4,
     "metadata": {},
     "output_type": "execute_result"
    }
   ],
   "source": [
    "model.evaluate(X_test, y_test) # fonction d'erreur (binary cross entropy) + Accuracy"
   ]
  },
  {
   "cell_type": "code",
   "execution_count": 5,
   "metadata": {},
   "outputs": [
    {
     "data": {
      "text/plain": [
       "<Figure size 640x480 with 2 Axes>"
      ]
     },
     "metadata": {},
     "output_type": "display_data"
    }
   ],
   "source": [
    "from matplotlib import pyplot\n",
    "\n",
    "# Tracer la courbe d'erreur pendant l'apprentissage\n",
    "pyplot.subplot(211)\n",
    "pyplot.title('Loss')\n",
    "pyplot.plot(history.history['loss'], label='train')\n",
    "pyplot.plot(history.history['val_loss'], label='validation')\n",
    "pyplot.legend()\n",
    "# Tracer la courbe de la précision pendant l'apprentissage\n",
    "pyplot.subplot(212)\n",
    "pyplot.title('Accuracy')\n",
    "pyplot.plot(history.history['acc'], label='train')\n",
    "pyplot.plot(history.history['val_acc'], label='validation')\n",
    "pyplot.legend()\n",
    "pyplot.show()"
   ]
  },
  {
   "cell_type": "code",
   "execution_count": 6,
   "metadata": {},
   "outputs": [
    {
     "name": "stdout",
     "output_type": "stream",
     "text": [
      "La matrice de confusion:\n",
      " [[291 106]\n",
      " [109 454]]\n"
     ]
    }
   ],
   "source": [
    "from sklearn.metrics import confusion_matrix\n",
    "\n",
    "# La matrice de confusion\n",
    "print(\"La matrice de confusion:\\n {}\".format(confusion_matrix(y_test, model.predict_classes(X_test))))"
   ]
  },
  {
   "cell_type": "code",
   "execution_count": 7,
   "metadata": {},
   "outputs": [
    {
     "name": "stdout",
     "output_type": "stream",
     "text": [
      "Saved model to disk\n"
     ]
    }
   ],
   "source": [
    "# enregistrer le modèle en format JSON\n",
    "model_json = model.to_json()\n",
    "with open(\"model.json\", \"w\") as json_file:\n",
    "    json_file.write(model_json)\n",
    "# enregistrer les poids en format HDF5\n",
    "model.save_weights(\"model.h5\")\n",
    "print(\"Saved model to disk\")"
   ]
  }
 ],
 "metadata": {
  "kernelspec": {
   "display_name": "Python 3",
   "language": "python",
   "name": "python3"
  },
  "language_info": {
   "codemirror_mode": {
    "name": "ipython",
    "version": 3
   },
   "file_extension": ".py",
   "mimetype": "text/x-python",
   "name": "python",
   "nbconvert_exporter": "python",
   "pygments_lexer": "ipython3",
   "version": "3.6.5"
  }
 },
 "nbformat": 4,
 "nbformat_minor": 2
}
